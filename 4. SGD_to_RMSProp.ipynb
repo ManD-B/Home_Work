{
 "cells": [
  {
   "cell_type": "markdown",
   "metadata": {},
   "source": [
    "# MINST 필기체 숫자 인식"
   ]
  },
  {
   "cell_type": "code",
   "execution_count": 1,
   "metadata": {},
   "outputs": [],
   "source": [
    "import tensorflow as tf"
   ]
  },
  {
   "cell_type": "code",
   "execution_count": 2,
   "metadata": {},
   "outputs": [],
   "source": [
    "import numpy as np"
   ]
  },
  {
   "cell_type": "code",
   "execution_count": 3,
   "metadata": {},
   "outputs": [],
   "source": [
    "from tensorflow import keras"
   ]
  },
  {
   "cell_type": "code",
   "execution_count": 4,
   "metadata": {},
   "outputs": [],
   "source": [
    "# 신경망과 훈련 매개변수\n",
    "epochs = 200\n",
    "batch_size = 128\n",
    "verbose = 1\n",
    "nb_classes = 10     # 출력 개수 = 숫자의 개수\n",
    "n_hidden = 128\n",
    "validation_split = 0.2     # 검증을 위해 남겨둔 훈련 데이터"
   ]
  },
  {
   "cell_type": "code",
   "execution_count": 5,
   "metadata": {},
   "outputs": [],
   "source": [
    "# MINST 데이터셋 로드\n",
    "mnist = keras.datasets.mnist\n",
    "(x_train, y_train), (x_test, y_test) = mnist.load_data()"
   ]
  },
  {
   "cell_type": "code",
   "execution_count": 6,
   "metadata": {},
   "outputs": [
    {
     "data": {
      "text/plain": [
       "(60000, 28, 28)"
      ]
     },
     "execution_count": 6,
     "metadata": {},
     "output_type": "execute_result"
    }
   ],
   "source": [
    "x_train.shape"
   ]
  },
  {
   "cell_type": "code",
   "execution_count": 7,
   "metadata": {},
   "outputs": [],
   "source": [
    "# 이를 28x28에서 60000, 784로 바꿔줌\n",
    "reshaped = 784\n",
    "x_train = x_train.reshape(60000, reshaped)\n",
    "x_test = x_test.reshape(10000, reshaped)"
   ]
  },
  {
   "cell_type": "code",
   "execution_count": 8,
   "metadata": {},
   "outputs": [
    {
     "data": {
      "text/plain": [
       "(60000, 784)"
      ]
     },
     "execution_count": 8,
     "metadata": {},
     "output_type": "execute_result"
    }
   ],
   "source": [
    "x_train.shape"
   ]
  },
  {
   "cell_type": "code",
   "execution_count": 9,
   "metadata": {},
   "outputs": [],
   "source": [
    "x_train = x_train.astype('float32')\n",
    "x_test = x_test.astype('float32')"
   ]
  },
  {
   "cell_type": "code",
   "execution_count": 10,
   "metadata": {},
   "outputs": [
    {
     "name": "stdout",
     "output_type": "stream",
     "text": [
      "60000 train samples\n",
      "10000 test samples\n"
     ]
    }
   ],
   "source": [
    "# 픽셀값은 0~255인데 이를 255로 나눠줌으로써 0~1 사이로 정규화시킴\n",
    "x_train /= 255\n",
    "x_test /= 255\n",
    "print(x_train.shape[0], 'train samples')\n",
    "print(x_test.shape[0], 'test samples')"
   ]
  },
  {
   "cell_type": "code",
   "execution_count": 11,
   "metadata": {},
   "outputs": [],
   "source": [
    "# 원핫 인코딩\n",
    "y_train = tf.keras.utils.to_categorical(y_train, nb_classes)\n",
    "y_test = tf.keras.utils.to_categorical(y_test, nb_classes)"
   ]
  },
  {
   "cell_type": "code",
   "execution_count": 12,
   "metadata": {},
   "outputs": [],
   "source": [
    "dropout = 0.3"
   ]
  },
  {
   "cell_type": "code",
   "execution_count": 13,
   "metadata": {},
   "outputs": [
    {
     "name": "stdout",
     "output_type": "stream",
     "text": [
      "Model: \"sequential\"\n",
      "_________________________________________________________________\n",
      "Layer (type)                 Output Shape              Param #   \n",
      "=================================================================\n",
      "dense_layer (Dense)          (None, 128)               100480    \n",
      "_________________________________________________________________\n",
      "dropout (Dropout)            (None, 128)               0         \n",
      "_________________________________________________________________\n",
      "dense_layer_2 (Dense)        (None, 128)               16512     \n",
      "_________________________________________________________________\n",
      "dropout_1 (Dropout)          (None, 128)               0         \n",
      "_________________________________________________________________\n",
      "dense_layer_3 (Dense)        (None, 10)                1290      \n",
      "=================================================================\n",
      "Total params: 118,282\n",
      "Trainable params: 118,282\n",
      "Non-trainable params: 0\n",
      "_________________________________________________________________\n"
     ]
    }
   ],
   "source": [
    "# 모델 구축\n",
    "model = tf.keras.models.Sequential()\n",
    "model.add(keras.layers.Dense(n_hidden,\n",
    "                            input_shape = (reshaped,),\n",
    "                            name = 'dense_layer',\n",
    "                            activation = 'relu'))\n",
    "model.add(keras.layers.Dropout(dropout))\n",
    "model.add(keras.layers.Dense(n_hidden,\n",
    "                            name = 'dense_layer_2',\n",
    "                            activation = 'relu'))\n",
    "model.add(keras.layers.Dropout(dropout))\n",
    "model.add(keras.layers.Dense(nb_classes,\n",
    "                            name = 'dense_layer_3',\n",
    "                            activation = 'softmax'))\n",
    "model.summary()"
   ]
  },
  {
   "cell_type": "markdown",
   "metadata": {},
   "source": [
    "## 똑같이 따와서 이부분만 달라짐"
   ]
  },
  {
   "cell_type": "code",
   "execution_count": 15,
   "metadata": {},
   "outputs": [],
   "source": [
    "# 모델 컴파일\n",
    "model.compile(optimizer = 'RMSProp',   # 확률적 그래디언트 하강\n",
    "             loss = 'categorical_crossentropy',\n",
    "             metrics = ['accuracy'])"
   ]
  },
  {
   "cell_type": "code",
   "execution_count": 16,
   "metadata": {
    "scrolled": true
   },
   "outputs": [
    {
     "name": "stdout",
     "output_type": "stream",
     "text": [
      "Train on 48000 samples, validate on 12000 samples\n",
      "Epoch 1/200\n",
      "48000/48000 [==============================] - 1s 26us/sample - loss: 0.4786 - accuracy: 0.8530 - val_loss: 0.1813 - val_accuracy: 0.9469\n",
      "Epoch 2/200\n",
      "48000/48000 [==============================] - 1s 14us/sample - loss: 0.2201 - accuracy: 0.9341 - val_loss: 0.1413 - val_accuracy: 0.9580\n",
      "Epoch 3/200\n",
      "48000/48000 [==============================] - 1s 14us/sample - loss: 0.1736 - accuracy: 0.9486 - val_loss: 0.1155 - val_accuracy: 0.9662\n",
      "Epoch 4/200\n",
      "48000/48000 [==============================] - 1s 14us/sample - loss: 0.1466 - accuracy: 0.9565 - val_loss: 0.1137 - val_accuracy: 0.9689\n",
      "Epoch 5/200\n",
      "48000/48000 [==============================] - 1s 14us/sample - loss: 0.1325 - accuracy: 0.9609 - val_loss: 0.1061 - val_accuracy: 0.9712\n",
      "Epoch 6/200\n",
      "48000/48000 [==============================] - 1s 14us/sample - loss: 0.1188 - accuracy: 0.9643 - val_loss: 0.0989 - val_accuracy: 0.9735\n",
      "Epoch 7/200\n",
      "48000/48000 [==============================] - 1s 14us/sample - loss: 0.1138 - accuracy: 0.9656 - val_loss: 0.0961 - val_accuracy: 0.9743\n",
      "Epoch 8/200\n",
      "48000/48000 [==============================] - 1s 14us/sample - loss: 0.1049 - accuracy: 0.9689 - val_loss: 0.0928 - val_accuracy: 0.9759\n",
      "Epoch 9/200\n",
      "48000/48000 [==============================] - 1s 14us/sample - loss: 0.0978 - accuracy: 0.9710 - val_loss: 0.0937 - val_accuracy: 0.9757\n",
      "Epoch 10/200\n",
      "48000/48000 [==============================] - 1s 14us/sample - loss: 0.0924 - accuracy: 0.9725 - val_loss: 0.0932 - val_accuracy: 0.9770\n",
      "Epoch 11/200\n",
      "48000/48000 [==============================] - 1s 14us/sample - loss: 0.0912 - accuracy: 0.9723 - val_loss: 0.0939 - val_accuracy: 0.9769\n",
      "Epoch 12/200\n",
      "48000/48000 [==============================] - 1s 14us/sample - loss: 0.0871 - accuracy: 0.9740 - val_loss: 0.0976 - val_accuracy: 0.9776\n",
      "Epoch 13/200\n",
      "48000/48000 [==============================] - 1s 14us/sample - loss: 0.0823 - accuracy: 0.9756 - val_loss: 0.1037 - val_accuracy: 0.9761\n",
      "Epoch 14/200\n",
      "48000/48000 [==============================] - 1s 14us/sample - loss: 0.0824 - accuracy: 0.9760 - val_loss: 0.0997 - val_accuracy: 0.9767\n",
      "Epoch 15/200\n",
      "48000/48000 [==============================] - 1s 15us/sample - loss: 0.0805 - accuracy: 0.9763 - val_loss: 0.1016 - val_accuracy: 0.9777\n",
      "Epoch 16/200\n",
      "48000/48000 [==============================] - 1s 15us/sample - loss: 0.0765 - accuracy: 0.9766 - val_loss: 0.0969 - val_accuracy: 0.9773\n",
      "Epoch 17/200\n",
      "48000/48000 [==============================] - 1s 14us/sample - loss: 0.0727 - accuracy: 0.9786 - val_loss: 0.0985 - val_accuracy: 0.9778\n",
      "Epoch 18/200\n",
      "48000/48000 [==============================] - 1s 15us/sample - loss: 0.0722 - accuracy: 0.9788 - val_loss: 0.1032 - val_accuracy: 0.9785\n",
      "Epoch 19/200\n",
      "48000/48000 [==============================] - 1s 14us/sample - loss: 0.0688 - accuracy: 0.9796 - val_loss: 0.1061 - val_accuracy: 0.9761\n",
      "Epoch 20/200\n",
      "48000/48000 [==============================] - 1s 14us/sample - loss: 0.0685 - accuracy: 0.9794 - val_loss: 0.1066 - val_accuracy: 0.9779\n",
      "Epoch 21/200\n",
      "48000/48000 [==============================] - 1s 14us/sample - loss: 0.0679 - accuracy: 0.9796 - val_loss: 0.1111 - val_accuracy: 0.9768\n",
      "Epoch 22/200\n",
      "48000/48000 [==============================] - 1s 15us/sample - loss: 0.0681 - accuracy: 0.9808 - val_loss: 0.1150 - val_accuracy: 0.9771\n",
      "Epoch 23/200\n",
      "48000/48000 [==============================] - 1s 15us/sample - loss: 0.0650 - accuracy: 0.9810 - val_loss: 0.1175 - val_accuracy: 0.9762\n",
      "Epoch 24/200\n",
      "48000/48000 [==============================] - 1s 14us/sample - loss: 0.0652 - accuracy: 0.9816 - val_loss: 0.1109 - val_accuracy: 0.9784\n",
      "Epoch 25/200\n",
      "48000/48000 [==============================] - 1s 14us/sample - loss: 0.0628 - accuracy: 0.9822 - val_loss: 0.1121 - val_accuracy: 0.9782\n",
      "Epoch 26/200\n",
      "48000/48000 [==============================] - 1s 14us/sample - loss: 0.0631 - accuracy: 0.9813 - val_loss: 0.1193 - val_accuracy: 0.9773\n",
      "Epoch 27/200\n",
      "48000/48000 [==============================] - 1s 14us/sample - loss: 0.0602 - accuracy: 0.9827 - val_loss: 0.1152 - val_accuracy: 0.9797\n",
      "Epoch 28/200\n",
      "48000/48000 [==============================] - 1s 14us/sample - loss: 0.0598 - accuracy: 0.9826 - val_loss: 0.1219 - val_accuracy: 0.9772\n",
      "Epoch 29/200\n",
      "48000/48000 [==============================] - 1s 14us/sample - loss: 0.0595 - accuracy: 0.9832 - val_loss: 0.1186 - val_accuracy: 0.9790\n",
      "Epoch 30/200\n",
      "48000/48000 [==============================] - 1s 14us/sample - loss: 0.0612 - accuracy: 0.9823 - val_loss: 0.1169 - val_accuracy: 0.9790\n",
      "Epoch 31/200\n",
      "48000/48000 [==============================] - 1s 14us/sample - loss: 0.0601 - accuracy: 0.9834 - val_loss: 0.1281 - val_accuracy: 0.9771\n",
      "Epoch 32/200\n",
      "48000/48000 [==============================] - 1s 14us/sample - loss: 0.0593 - accuracy: 0.9839 - val_loss: 0.1325 - val_accuracy: 0.9776\n",
      "Epoch 33/200\n",
      "48000/48000 [==============================] - 1s 14us/sample - loss: 0.0582 - accuracy: 0.9838 - val_loss: 0.1354 - val_accuracy: 0.9773\n",
      "Epoch 34/200\n",
      "48000/48000 [==============================] - 1s 14us/sample - loss: 0.0603 - accuracy: 0.9831 - val_loss: 0.1320 - val_accuracy: 0.9778\n",
      "Epoch 35/200\n",
      "48000/48000 [==============================] - 1s 14us/sample - loss: 0.0567 - accuracy: 0.9848 - val_loss: 0.1369 - val_accuracy: 0.9763\n",
      "Epoch 36/200\n",
      "48000/48000 [==============================] - 1s 14us/sample - loss: 0.0590 - accuracy: 0.9833 - val_loss: 0.1332 - val_accuracy: 0.9787\n",
      "Epoch 37/200\n",
      "48000/48000 [==============================] - 1s 14us/sample - loss: 0.0536 - accuracy: 0.9850 - val_loss: 0.1390 - val_accuracy: 0.9791\n",
      "Epoch 38/200\n",
      "48000/48000 [==============================] - 1s 14us/sample - loss: 0.0599 - accuracy: 0.9842 - val_loss: 0.1283 - val_accuracy: 0.9790\n",
      "Epoch 39/200\n",
      "48000/48000 [==============================] - 1s 14us/sample - loss: 0.0540 - accuracy: 0.9846 - val_loss: 0.1408 - val_accuracy: 0.9785\n",
      "Epoch 40/200\n",
      "48000/48000 [==============================] - 1s 14us/sample - loss: 0.0553 - accuracy: 0.9853 - val_loss: 0.1331 - val_accuracy: 0.9796\n",
      "Epoch 41/200\n",
      "48000/48000 [==============================] - 1s 14us/sample - loss: 0.0536 - accuracy: 0.9858 - val_loss: 0.1415 - val_accuracy: 0.9786\n",
      "Epoch 42/200\n",
      "48000/48000 [==============================] - 1s 14us/sample - loss: 0.0532 - accuracy: 0.9859 - val_loss: 0.1508 - val_accuracy: 0.9793\n",
      "Epoch 43/200\n",
      "48000/48000 [==============================] - 1s 14us/sample - loss: 0.0600 - accuracy: 0.9840 - val_loss: 0.1392 - val_accuracy: 0.9795\n",
      "Epoch 44/200\n",
      "48000/48000 [==============================] - 1s 14us/sample - loss: 0.0572 - accuracy: 0.9852 - val_loss: 0.1430 - val_accuracy: 0.9782\n",
      "Epoch 45/200\n",
      "48000/48000 [==============================] - 1s 14us/sample - loss: 0.0566 - accuracy: 0.9852 - val_loss: 0.1476 - val_accuracy: 0.9787\n",
      "Epoch 46/200\n",
      "48000/48000 [==============================] - 1s 14us/sample - loss: 0.0554 - accuracy: 0.9852 - val_loss: 0.1551 - val_accuracy: 0.9783\n",
      "Epoch 47/200\n",
      "48000/48000 [==============================] - 1s 14us/sample - loss: 0.0529 - accuracy: 0.9862 - val_loss: 0.1541 - val_accuracy: 0.9787\n",
      "Epoch 48/200\n",
      "48000/48000 [==============================] - 1s 14us/sample - loss: 0.0508 - accuracy: 0.9857 - val_loss: 0.1504 - val_accuracy: 0.9801\n",
      "Epoch 49/200\n",
      "48000/48000 [==============================] - 1s 14us/sample - loss: 0.0545 - accuracy: 0.9862 - val_loss: 0.1553 - val_accuracy: 0.9783\n",
      "Epoch 50/200\n",
      "48000/48000 [==============================] - 1s 14us/sample - loss: 0.0497 - accuracy: 0.9868 - val_loss: 0.1705 - val_accuracy: 0.9789\n",
      "Epoch 51/200\n",
      "48000/48000 [==============================] - 1s 14us/sample - loss: 0.0524 - accuracy: 0.9854 - val_loss: 0.1601 - val_accuracy: 0.9783\n",
      "Epoch 52/200\n",
      "48000/48000 [==============================] - 1s 14us/sample - loss: 0.0570 - accuracy: 0.9860 - val_loss: 0.1572 - val_accuracy: 0.9804\n",
      "Epoch 53/200\n",
      "48000/48000 [==============================] - 1s 14us/sample - loss: 0.0505 - accuracy: 0.9858 - val_loss: 0.1740 - val_accuracy: 0.9797\n",
      "Epoch 54/200\n",
      "48000/48000 [==============================] - 1s 14us/sample - loss: 0.0526 - accuracy: 0.9859 - val_loss: 0.1643 - val_accuracy: 0.9797\n"
     ]
    },
    {
     "name": "stdout",
     "output_type": "stream",
     "text": [
      "Epoch 55/200\n",
      "48000/48000 [==============================] - 1s 14us/sample - loss: 0.0516 - accuracy: 0.9870 - val_loss: 0.1653 - val_accuracy: 0.9786\n",
      "Epoch 56/200\n",
      "48000/48000 [==============================] - 1s 14us/sample - loss: 0.0560 - accuracy: 0.9858 - val_loss: 0.1668 - val_accuracy: 0.9787\n",
      "Epoch 57/200\n",
      "48000/48000 [==============================] - 1s 14us/sample - loss: 0.0515 - accuracy: 0.9864 - val_loss: 0.1697 - val_accuracy: 0.9787\n",
      "Epoch 58/200\n",
      "48000/48000 [==============================] - 1s 14us/sample - loss: 0.0523 - accuracy: 0.9869 - val_loss: 0.1682 - val_accuracy: 0.9789\n",
      "Epoch 59/200\n",
      "48000/48000 [==============================] - 1s 14us/sample - loss: 0.0505 - accuracy: 0.9869 - val_loss: 0.1649 - val_accuracy: 0.9791\n",
      "Epoch 60/200\n",
      "48000/48000 [==============================] - 1s 14us/sample - loss: 0.0507 - accuracy: 0.9874 - val_loss: 0.1770 - val_accuracy: 0.9804\n",
      "Epoch 61/200\n",
      "48000/48000 [==============================] - 1s 14us/sample - loss: 0.0533 - accuracy: 0.9871 - val_loss: 0.1682 - val_accuracy: 0.9783\n",
      "Epoch 62/200\n",
      "48000/48000 [==============================] - 1s 14us/sample - loss: 0.0539 - accuracy: 0.9863 - val_loss: 0.1773 - val_accuracy: 0.9795\n",
      "Epoch 63/200\n",
      "48000/48000 [==============================] - 1s 14us/sample - loss: 0.0539 - accuracy: 0.9874 - val_loss: 0.1747 - val_accuracy: 0.9785\n",
      "Epoch 64/200\n",
      "48000/48000 [==============================] - 1s 14us/sample - loss: 0.0504 - accuracy: 0.9864 - val_loss: 0.1838 - val_accuracy: 0.9795\n",
      "Epoch 65/200\n",
      "48000/48000 [==============================] - 1s 14us/sample - loss: 0.0526 - accuracy: 0.9869 - val_loss: 0.1832 - val_accuracy: 0.9783\n",
      "Epoch 66/200\n",
      "48000/48000 [==============================] - 1s 14us/sample - loss: 0.0507 - accuracy: 0.9874 - val_loss: 0.1853 - val_accuracy: 0.9789\n",
      "Epoch 67/200\n",
      "48000/48000 [==============================] - 1s 14us/sample - loss: 0.0529 - accuracy: 0.9868 - val_loss: 0.1764 - val_accuracy: 0.9800\n",
      "Epoch 68/200\n",
      "48000/48000 [==============================] - 1s 14us/sample - loss: 0.0528 - accuracy: 0.9866 - val_loss: 0.1859 - val_accuracy: 0.9794\n",
      "Epoch 69/200\n",
      "48000/48000 [==============================] - 1s 14us/sample - loss: 0.0496 - accuracy: 0.9877 - val_loss: 0.1896 - val_accuracy: 0.9781\n",
      "Epoch 70/200\n",
      "48000/48000 [==============================] - 1s 14us/sample - loss: 0.0498 - accuracy: 0.9879 - val_loss: 0.2015 - val_accuracy: 0.9795\n",
      "Epoch 71/200\n",
      "48000/48000 [==============================] - 1s 14us/sample - loss: 0.0541 - accuracy: 0.9861 - val_loss: 0.1942 - val_accuracy: 0.9786\n",
      "Epoch 72/200\n",
      "48000/48000 [==============================] - 1s 14us/sample - loss: 0.0503 - accuracy: 0.9879 - val_loss: 0.1996 - val_accuracy: 0.9778\n",
      "Epoch 73/200\n",
      "48000/48000 [==============================] - 1s 14us/sample - loss: 0.0498 - accuracy: 0.9877 - val_loss: 0.1919 - val_accuracy: 0.9796\n",
      "Epoch 74/200\n",
      "48000/48000 [==============================] - 1s 14us/sample - loss: 0.0492 - accuracy: 0.9878 - val_loss: 0.1933 - val_accuracy: 0.9793\n",
      "Epoch 75/200\n",
      "48000/48000 [==============================] - 1s 14us/sample - loss: 0.0518 - accuracy: 0.9878 - val_loss: 0.1852 - val_accuracy: 0.9800\n",
      "Epoch 76/200\n",
      "48000/48000 [==============================] - 1s 15us/sample - loss: 0.0553 - accuracy: 0.9867 - val_loss: 0.1970 - val_accuracy: 0.9778\n",
      "Epoch 77/200\n",
      "48000/48000 [==============================] - 1s 14us/sample - loss: 0.0486 - accuracy: 0.9879 - val_loss: 0.1868 - val_accuracy: 0.9793\n",
      "Epoch 78/200\n",
      "48000/48000 [==============================] - 1s 14us/sample - loss: 0.0530 - accuracy: 0.9877 - val_loss: 0.1903 - val_accuracy: 0.9807\n",
      "Epoch 79/200\n",
      "48000/48000 [==============================] - 1s 14us/sample - loss: 0.0519 - accuracy: 0.9882 - val_loss: 0.1864 - val_accuracy: 0.9797\n",
      "Epoch 80/200\n",
      "48000/48000 [==============================] - 1s 14us/sample - loss: 0.0473 - accuracy: 0.9881 - val_loss: 0.1947 - val_accuracy: 0.9793\n",
      "Epoch 81/200\n",
      "48000/48000 [==============================] - 1s 14us/sample - loss: 0.0497 - accuracy: 0.9875 - val_loss: 0.1946 - val_accuracy: 0.9793\n",
      "Epoch 82/200\n",
      "48000/48000 [==============================] - 1s 14us/sample - loss: 0.0525 - accuracy: 0.9880 - val_loss: 0.1919 - val_accuracy: 0.9785\n",
      "Epoch 83/200\n",
      "48000/48000 [==============================] - 1s 14us/sample - loss: 0.0544 - accuracy: 0.9868 - val_loss: 0.2027 - val_accuracy: 0.9789\n",
      "Epoch 84/200\n",
      "48000/48000 [==============================] - 1s 14us/sample - loss: 0.0457 - accuracy: 0.9885 - val_loss: 0.2074 - val_accuracy: 0.9794\n",
      "Epoch 85/200\n",
      "48000/48000 [==============================] - 1s 14us/sample - loss: 0.0496 - accuracy: 0.9882 - val_loss: 0.2084 - val_accuracy: 0.9789\n",
      "Epoch 86/200\n",
      "48000/48000 [==============================] - 1s 14us/sample - loss: 0.0517 - accuracy: 0.9879 - val_loss: 0.1920 - val_accuracy: 0.9794\n",
      "Epoch 87/200\n",
      "48000/48000 [==============================] - 1s 14us/sample - loss: 0.0498 - accuracy: 0.9878 - val_loss: 0.2138 - val_accuracy: 0.9786\n",
      "Epoch 88/200\n",
      "48000/48000 [==============================] - 1s 14us/sample - loss: 0.0456 - accuracy: 0.9883 - val_loss: 0.2114 - val_accuracy: 0.9794\n",
      "Epoch 89/200\n",
      "48000/48000 [==============================] - 1s 14us/sample - loss: 0.0504 - accuracy: 0.9882 - val_loss: 0.2039 - val_accuracy: 0.9783\n",
      "Epoch 90/200\n",
      "48000/48000 [==============================] - 1s 14us/sample - loss: 0.0546 - accuracy: 0.9871 - val_loss: 0.1992 - val_accuracy: 0.9797\n",
      "Epoch 91/200\n",
      "48000/48000 [==============================] - 1s 14us/sample - loss: 0.0457 - accuracy: 0.9891 - val_loss: 0.1913 - val_accuracy: 0.9808\n",
      "Epoch 92/200\n",
      "48000/48000 [==============================] - 1s 14us/sample - loss: 0.0489 - accuracy: 0.9889 - val_loss: 0.2156 - val_accuracy: 0.9787\n",
      "Epoch 93/200\n",
      "48000/48000 [==============================] - 1s 14us/sample - loss: 0.0501 - accuracy: 0.9888 - val_loss: 0.2202 - val_accuracy: 0.9785\n",
      "Epoch 94/200\n",
      "48000/48000 [==============================] - 1s 14us/sample - loss: 0.0479 - accuracy: 0.9883 - val_loss: 0.2228 - val_accuracy: 0.9778\n",
      "Epoch 95/200\n",
      "48000/48000 [==============================] - 1s 14us/sample - loss: 0.0470 - accuracy: 0.9890 - val_loss: 0.2124 - val_accuracy: 0.9787\n",
      "Epoch 96/200\n",
      "48000/48000 [==============================] - 1s 14us/sample - loss: 0.0465 - accuracy: 0.9892 - val_loss: 0.2158 - val_accuracy: 0.9787\n",
      "Epoch 97/200\n",
      "48000/48000 [==============================] - 1s 14us/sample - loss: 0.0464 - accuracy: 0.9891 - val_loss: 0.2280 - val_accuracy: 0.9790\n",
      "Epoch 98/200\n",
      "48000/48000 [==============================] - 1s 14us/sample - loss: 0.0448 - accuracy: 0.9892 - val_loss: 0.2333 - val_accuracy: 0.9791\n",
      "Epoch 99/200\n",
      "48000/48000 [==============================] - 1s 14us/sample - loss: 0.0474 - accuracy: 0.9888 - val_loss: 0.2354 - val_accuracy: 0.9793\n",
      "Epoch 100/200\n",
      "48000/48000 [==============================] - 1s 14us/sample - loss: 0.0538 - accuracy: 0.9882 - val_loss: 0.2215 - val_accuracy: 0.9792\n",
      "Epoch 101/200\n",
      "48000/48000 [==============================] - 1s 14us/sample - loss: 0.0505 - accuracy: 0.9889 - val_loss: 0.2425 - val_accuracy: 0.9784\n",
      "Epoch 102/200\n",
      "48000/48000 [==============================] - 1s 14us/sample - loss: 0.0516 - accuracy: 0.9886 - val_loss: 0.2374 - val_accuracy: 0.9788\n",
      "Epoch 103/200\n",
      "48000/48000 [==============================] - 1s 14us/sample - loss: 0.0483 - accuracy: 0.9886 - val_loss: 0.2350 - val_accuracy: 0.9778\n",
      "Epoch 104/200\n",
      "48000/48000 [==============================] - 1s 14us/sample - loss: 0.0492 - accuracy: 0.9891 - val_loss: 0.2335 - val_accuracy: 0.9789\n",
      "Epoch 105/200\n",
      "48000/48000 [==============================] - 1s 14us/sample - loss: 0.0526 - accuracy: 0.9886 - val_loss: 0.2366 - val_accuracy: 0.9779\n",
      "Epoch 106/200\n",
      "48000/48000 [==============================] - 1s 14us/sample - loss: 0.0506 - accuracy: 0.9891 - val_loss: 0.2149 - val_accuracy: 0.9800\n",
      "Epoch 107/200\n",
      "48000/48000 [==============================] - 1s 14us/sample - loss: 0.0503 - accuracy: 0.9885 - val_loss: 0.2386 - val_accuracy: 0.9786\n",
      "Epoch 108/200\n",
      "48000/48000 [==============================] - 1s 14us/sample - loss: 0.0529 - accuracy: 0.9883 - val_loss: 0.2326 - val_accuracy: 0.9787\n",
      "Epoch 109/200\n"
     ]
    },
    {
     "name": "stdout",
     "output_type": "stream",
     "text": [
      "48000/48000 [==============================] - 1s 14us/sample - loss: 0.0524 - accuracy: 0.9883 - val_loss: 0.2452 - val_accuracy: 0.9780\n",
      "Epoch 110/200\n",
      "48000/48000 [==============================] - 1s 14us/sample - loss: 0.0520 - accuracy: 0.9888 - val_loss: 0.2452 - val_accuracy: 0.9781\n",
      "Epoch 111/200\n",
      "48000/48000 [==============================] - 1s 14us/sample - loss: 0.0501 - accuracy: 0.9887 - val_loss: 0.2394 - val_accuracy: 0.9787\n",
      "Epoch 112/200\n",
      "48000/48000 [==============================] - 1s 14us/sample - loss: 0.0486 - accuracy: 0.9884 - val_loss: 0.2470 - val_accuracy: 0.9778\n",
      "Epoch 113/200\n",
      "48000/48000 [==============================] - 1s 14us/sample - loss: 0.0526 - accuracy: 0.9890 - val_loss: 0.2205 - val_accuracy: 0.9786\n",
      "Epoch 114/200\n",
      "48000/48000 [==============================] - 1s 14us/sample - loss: 0.0466 - accuracy: 0.9887 - val_loss: 0.2299 - val_accuracy: 0.9793\n",
      "Epoch 115/200\n",
      "48000/48000 [==============================] - 1s 14us/sample - loss: 0.0525 - accuracy: 0.9883 - val_loss: 0.2340 - val_accuracy: 0.9792\n",
      "Epoch 116/200\n",
      "48000/48000 [==============================] - 1s 14us/sample - loss: 0.0520 - accuracy: 0.9886 - val_loss: 0.2255 - val_accuracy: 0.9790\n",
      "Epoch 117/200\n",
      "48000/48000 [==============================] - 1s 14us/sample - loss: 0.0534 - accuracy: 0.9883 - val_loss: 0.2394 - val_accuracy: 0.9784\n",
      "Epoch 118/200\n",
      "48000/48000 [==============================] - 1s 14us/sample - loss: 0.0552 - accuracy: 0.9883 - val_loss: 0.2476 - val_accuracy: 0.9780\n",
      "Epoch 119/200\n",
      "48000/48000 [==============================] - 1s 14us/sample - loss: 0.0520 - accuracy: 0.9883 - val_loss: 0.2556 - val_accuracy: 0.9782\n",
      "Epoch 120/200\n",
      "48000/48000 [==============================] - 1s 14us/sample - loss: 0.0449 - accuracy: 0.9897 - val_loss: 0.2439 - val_accuracy: 0.9788\n",
      "Epoch 121/200\n",
      "48000/48000 [==============================] - 1s 14us/sample - loss: 0.0464 - accuracy: 0.9895 - val_loss: 0.2602 - val_accuracy: 0.9788\n",
      "Epoch 122/200\n",
      "48000/48000 [==============================] - 1s 14us/sample - loss: 0.0521 - accuracy: 0.9887 - val_loss: 0.2576 - val_accuracy: 0.9791\n",
      "Epoch 123/200\n",
      "48000/48000 [==============================] - 1s 14us/sample - loss: 0.0537 - accuracy: 0.9888 - val_loss: 0.2586 - val_accuracy: 0.9775\n",
      "Epoch 124/200\n",
      "48000/48000 [==============================] - 1s 14us/sample - loss: 0.0555 - accuracy: 0.9883 - val_loss: 0.2591 - val_accuracy: 0.9778\n",
      "Epoch 125/200\n",
      "48000/48000 [==============================] - 1s 14us/sample - loss: 0.0508 - accuracy: 0.9896 - val_loss: 0.2504 - val_accuracy: 0.9789\n",
      "Epoch 126/200\n",
      "48000/48000 [==============================] - 1s 14us/sample - loss: 0.0518 - accuracy: 0.9890 - val_loss: 0.2443 - val_accuracy: 0.9785\n",
      "Epoch 127/200\n",
      "48000/48000 [==============================] - 1s 14us/sample - loss: 0.0495 - accuracy: 0.9896 - val_loss: 0.2496 - val_accuracy: 0.9787\n",
      "Epoch 128/200\n",
      "48000/48000 [==============================] - 1s 14us/sample - loss: 0.0499 - accuracy: 0.9883 - val_loss: 0.2562 - val_accuracy: 0.9772\n",
      "Epoch 129/200\n",
      "48000/48000 [==============================] - 1s 14us/sample - loss: 0.0535 - accuracy: 0.9892 - val_loss: 0.2481 - val_accuracy: 0.9791\n",
      "Epoch 130/200\n",
      "48000/48000 [==============================] - 1s 14us/sample - loss: 0.0551 - accuracy: 0.9889 - val_loss: 0.2618 - val_accuracy: 0.9795\n",
      "Epoch 131/200\n",
      "48000/48000 [==============================] - 1s 14us/sample - loss: 0.0524 - accuracy: 0.9890 - val_loss: 0.2450 - val_accuracy: 0.9787\n",
      "Epoch 132/200\n",
      "48000/48000 [==============================] - 1s 14us/sample - loss: 0.0469 - accuracy: 0.9889 - val_loss: 0.2613 - val_accuracy: 0.9776\n",
      "Epoch 133/200\n",
      "48000/48000 [==============================] - 1s 14us/sample - loss: 0.0539 - accuracy: 0.9888 - val_loss: 0.2561 - val_accuracy: 0.9785\n",
      "Epoch 134/200\n",
      "48000/48000 [==============================] - 1s 14us/sample - loss: 0.0489 - accuracy: 0.9886 - val_loss: 0.2679 - val_accuracy: 0.9782\n",
      "Epoch 135/200\n",
      "48000/48000 [==============================] - 1s 14us/sample - loss: 0.0499 - accuracy: 0.9885 - val_loss: 0.2595 - val_accuracy: 0.9780\n",
      "Epoch 136/200\n",
      "48000/48000 [==============================] - 1s 14us/sample - loss: 0.0488 - accuracy: 0.9895 - val_loss: 0.2741 - val_accuracy: 0.9771\n",
      "Epoch 137/200\n",
      "48000/48000 [==============================] - 1s 14us/sample - loss: 0.0515 - accuracy: 0.9892 - val_loss: 0.2696 - val_accuracy: 0.9780\n",
      "Epoch 138/200\n",
      "48000/48000 [==============================] - 1s 14us/sample - loss: 0.0519 - accuracy: 0.9892 - val_loss: 0.2589 - val_accuracy: 0.9792\n",
      "Epoch 139/200\n",
      "48000/48000 [==============================] - 1s 14us/sample - loss: 0.0490 - accuracy: 0.9899 - val_loss: 0.2700 - val_accuracy: 0.9774\n",
      "Epoch 140/200\n",
      "48000/48000 [==============================] - 1s 15us/sample - loss: 0.0558 - accuracy: 0.9883 - val_loss: 0.2622 - val_accuracy: 0.9782\n",
      "Epoch 141/200\n",
      "48000/48000 [==============================] - 1s 15us/sample - loss: 0.0519 - accuracy: 0.9890 - val_loss: 0.2692 - val_accuracy: 0.9762\n",
      "Epoch 142/200\n",
      "48000/48000 [==============================] - 1s 14us/sample - loss: 0.0517 - accuracy: 0.9886 - val_loss: 0.2636 - val_accuracy: 0.9778\n",
      "Epoch 143/200\n",
      "48000/48000 [==============================] - 1s 14us/sample - loss: 0.0505 - accuracy: 0.9892 - val_loss: 0.2791 - val_accuracy: 0.9785\n",
      "Epoch 144/200\n",
      "48000/48000 [==============================] - 1s 14us/sample - loss: 0.0466 - accuracy: 0.9897 - val_loss: 0.2764 - val_accuracy: 0.9783\n",
      "Epoch 145/200\n",
      "48000/48000 [==============================] - 1s 14us/sample - loss: 0.0476 - accuracy: 0.9904 - val_loss: 0.2826 - val_accuracy: 0.9781\n",
      "Epoch 146/200\n",
      "48000/48000 [==============================] - 1s 15us/sample - loss: 0.0471 - accuracy: 0.9891 - val_loss: 0.2794 - val_accuracy: 0.9784\n",
      "Epoch 147/200\n",
      "48000/48000 [==============================] - 1s 14us/sample - loss: 0.0516 - accuracy: 0.9890 - val_loss: 0.2857 - val_accuracy: 0.9781\n",
      "Epoch 148/200\n",
      "48000/48000 [==============================] - 1s 14us/sample - loss: 0.0511 - accuracy: 0.9893 - val_loss: 0.2930 - val_accuracy: 0.9785\n",
      "Epoch 149/200\n",
      "48000/48000 [==============================] - 1s 14us/sample - loss: 0.0521 - accuracy: 0.9895 - val_loss: 0.2761 - val_accuracy: 0.9794\n",
      "Epoch 150/200\n",
      "48000/48000 [==============================] - 1s 14us/sample - loss: 0.0541 - accuracy: 0.9894 - val_loss: 0.2877 - val_accuracy: 0.9783\n",
      "Epoch 151/200\n",
      "48000/48000 [==============================] - 1s 14us/sample - loss: 0.0478 - accuracy: 0.9897 - val_loss: 0.2782 - val_accuracy: 0.9785\n",
      "Epoch 152/200\n",
      "48000/48000 [==============================] - 1s 14us/sample - loss: 0.0544 - accuracy: 0.9890 - val_loss: 0.2982 - val_accuracy: 0.9779\n",
      "Epoch 153/200\n",
      "48000/48000 [==============================] - 1s 14us/sample - loss: 0.0523 - accuracy: 0.9891 - val_loss: 0.2859 - val_accuracy: 0.9787\n",
      "Epoch 154/200\n",
      "48000/48000 [==============================] - 1s 14us/sample - loss: 0.0482 - accuracy: 0.9899 - val_loss: 0.2742 - val_accuracy: 0.9795\n",
      "Epoch 155/200\n",
      "48000/48000 [==============================] - 1s 14us/sample - loss: 0.0483 - accuracy: 0.9898 - val_loss: 0.2910 - val_accuracy: 0.9788\n",
      "Epoch 156/200\n",
      "48000/48000 [==============================] - 1s 14us/sample - loss: 0.0537 - accuracy: 0.9888 - val_loss: 0.2684 - val_accuracy: 0.9783\n",
      "Epoch 157/200\n",
      "48000/48000 [==============================] - 1s 14us/sample - loss: 0.0481 - accuracy: 0.9900 - val_loss: 0.2946 - val_accuracy: 0.9779\n",
      "Epoch 158/200\n",
      "48000/48000 [==============================] - 1s 14us/sample - loss: 0.0515 - accuracy: 0.9891 - val_loss: 0.2837 - val_accuracy: 0.9779\n",
      "Epoch 159/200\n",
      "48000/48000 [==============================] - 1s 14us/sample - loss: 0.0519 - accuracy: 0.9898 - val_loss: 0.2788 - val_accuracy: 0.9781\n",
      "Epoch 160/200\n",
      "48000/48000 [==============================] - 1s 14us/sample - loss: 0.0474 - accuracy: 0.9898 - val_loss: 0.2864 - val_accuracy: 0.9782\n",
      "Epoch 161/200\n",
      "48000/48000 [==============================] - 1s 14us/sample - loss: 0.0490 - accuracy: 0.9902 - val_loss: 0.2960 - val_accuracy: 0.9782\n",
      "Epoch 162/200\n",
      "48000/48000 [==============================] - 1s 14us/sample - loss: 0.0540 - accuracy: 0.9892 - val_loss: 0.2984 - val_accuracy: 0.9775\n"
     ]
    },
    {
     "name": "stdout",
     "output_type": "stream",
     "text": [
      "Epoch 163/200\n",
      "48000/48000 [==============================] - 1s 14us/sample - loss: 0.0475 - accuracy: 0.9896 - val_loss: 0.2908 - val_accuracy: 0.9786\n",
      "Epoch 164/200\n",
      "48000/48000 [==============================] - 1s 14us/sample - loss: 0.0514 - accuracy: 0.9901 - val_loss: 0.3164 - val_accuracy: 0.9772\n",
      "Epoch 165/200\n",
      "48000/48000 [==============================] - 1s 14us/sample - loss: 0.0508 - accuracy: 0.9898 - val_loss: 0.3101 - val_accuracy: 0.9786\n",
      "Epoch 166/200\n",
      "48000/48000 [==============================] - 1s 14us/sample - loss: 0.0507 - accuracy: 0.9899 - val_loss: 0.2909 - val_accuracy: 0.9780\n",
      "Epoch 167/200\n",
      "48000/48000 [==============================] - 1s 14us/sample - loss: 0.0435 - accuracy: 0.9900 - val_loss: 0.2890 - val_accuracy: 0.9793\n",
      "Epoch 168/200\n",
      "48000/48000 [==============================] - 1s 14us/sample - loss: 0.0556 - accuracy: 0.9885 - val_loss: 0.2816 - val_accuracy: 0.9788\n",
      "Epoch 169/200\n",
      "48000/48000 [==============================] - 1s 14us/sample - loss: 0.0469 - accuracy: 0.9900 - val_loss: 0.3000 - val_accuracy: 0.9785\n",
      "Epoch 170/200\n",
      "48000/48000 [==============================] - 1s 14us/sample - loss: 0.0498 - accuracy: 0.9898 - val_loss: 0.2963 - val_accuracy: 0.9789\n",
      "Epoch 171/200\n",
      "48000/48000 [==============================] - 1s 14us/sample - loss: 0.0540 - accuracy: 0.9892 - val_loss: 0.2910 - val_accuracy: 0.9787\n",
      "Epoch 172/200\n",
      "48000/48000 [==============================] - 1s 14us/sample - loss: 0.0529 - accuracy: 0.9899 - val_loss: 0.3034 - val_accuracy: 0.9785\n",
      "Epoch 173/200\n",
      "48000/48000 [==============================] - 1s 14us/sample - loss: 0.0529 - accuracy: 0.9894 - val_loss: 0.2787 - val_accuracy: 0.9789\n",
      "Epoch 174/200\n",
      "48000/48000 [==============================] - 1s 14us/sample - loss: 0.0533 - accuracy: 0.9897 - val_loss: 0.2909 - val_accuracy: 0.9790\n",
      "Epoch 175/200\n",
      "48000/48000 [==============================] - 1s 14us/sample - loss: 0.0539 - accuracy: 0.9894 - val_loss: 0.2864 - val_accuracy: 0.9787\n",
      "Epoch 176/200\n",
      "48000/48000 [==============================] - 1s 14us/sample - loss: 0.0552 - accuracy: 0.9892 - val_loss: 0.3116 - val_accuracy: 0.9762\n",
      "Epoch 177/200\n",
      "48000/48000 [==============================] - 1s 14us/sample - loss: 0.0509 - accuracy: 0.9892 - val_loss: 0.2937 - val_accuracy: 0.9777\n",
      "Epoch 178/200\n",
      "48000/48000 [==============================] - 1s 14us/sample - loss: 0.0525 - accuracy: 0.9897 - val_loss: 0.3079 - val_accuracy: 0.9779\n",
      "Epoch 179/200\n",
      "48000/48000 [==============================] - 1s 14us/sample - loss: 0.0504 - accuracy: 0.9899 - val_loss: 0.2944 - val_accuracy: 0.9789\n",
      "Epoch 180/200\n",
      "48000/48000 [==============================] - 1s 14us/sample - loss: 0.0505 - accuracy: 0.9896 - val_loss: 0.3043 - val_accuracy: 0.9783\n",
      "Epoch 181/200\n",
      "48000/48000 [==============================] - 1s 14us/sample - loss: 0.0619 - accuracy: 0.9890 - val_loss: 0.3084 - val_accuracy: 0.9773\n",
      "Epoch 182/200\n",
      "48000/48000 [==============================] - 1s 14us/sample - loss: 0.0535 - accuracy: 0.9891 - val_loss: 0.3104 - val_accuracy: 0.9770\n",
      "Epoch 183/200\n",
      "48000/48000 [==============================] - 1s 14us/sample - loss: 0.0480 - accuracy: 0.9900 - val_loss: 0.3026 - val_accuracy: 0.9790\n",
      "Epoch 184/200\n",
      "48000/48000 [==============================] - 1s 14us/sample - loss: 0.0510 - accuracy: 0.9898 - val_loss: 0.3068 - val_accuracy: 0.9781\n",
      "Epoch 185/200\n",
      "48000/48000 [==============================] - 1s 14us/sample - loss: 0.0527 - accuracy: 0.9895 - val_loss: 0.3143 - val_accuracy: 0.9782\n",
      "Epoch 186/200\n",
      "48000/48000 [==============================] - 1s 14us/sample - loss: 0.0614 - accuracy: 0.9894 - val_loss: 0.3162 - val_accuracy: 0.9772\n",
      "Epoch 187/200\n",
      "48000/48000 [==============================] - 1s 14us/sample - loss: 0.0543 - accuracy: 0.9889 - val_loss: 0.3190 - val_accuracy: 0.9763\n",
      "Epoch 188/200\n",
      "48000/48000 [==============================] - 1s 14us/sample - loss: 0.0508 - accuracy: 0.9902 - val_loss: 0.3138 - val_accuracy: 0.9783\n",
      "Epoch 189/200\n",
      "48000/48000 [==============================] - 1s 14us/sample - loss: 0.0586 - accuracy: 0.9893 - val_loss: 0.3029 - val_accuracy: 0.9775\n",
      "Epoch 190/200\n",
      "48000/48000 [==============================] - 1s 14us/sample - loss: 0.0511 - accuracy: 0.9898 - val_loss: 0.3295 - val_accuracy: 0.9780\n",
      "Epoch 191/200\n",
      "48000/48000 [==============================] - 1s 14us/sample - loss: 0.0522 - accuracy: 0.9894 - val_loss: 0.3170 - val_accuracy: 0.9782\n",
      "Epoch 192/200\n",
      "48000/48000 [==============================] - 1s 14us/sample - loss: 0.0524 - accuracy: 0.9899 - val_loss: 0.3081 - val_accuracy: 0.9783\n",
      "Epoch 193/200\n",
      "48000/48000 [==============================] - 1s 14us/sample - loss: 0.0539 - accuracy: 0.9901 - val_loss: 0.3230 - val_accuracy: 0.9787\n",
      "Epoch 194/200\n",
      "48000/48000 [==============================] - 1s 14us/sample - loss: 0.0504 - accuracy: 0.9900 - val_loss: 0.3238 - val_accuracy: 0.9791\n",
      "Epoch 195/200\n",
      "48000/48000 [==============================] - 1s 14us/sample - loss: 0.0588 - accuracy: 0.9884 - val_loss: 0.3103 - val_accuracy: 0.9787\n",
      "Epoch 196/200\n",
      "48000/48000 [==============================] - 1s 14us/sample - loss: 0.0528 - accuracy: 0.9901 - val_loss: 0.3103 - val_accuracy: 0.9792\n",
      "Epoch 197/200\n",
      "48000/48000 [==============================] - 1s 14us/sample - loss: 0.0529 - accuracy: 0.9902 - val_loss: 0.3131 - val_accuracy: 0.9787\n",
      "Epoch 198/200\n",
      "48000/48000 [==============================] - 1s 14us/sample - loss: 0.0554 - accuracy: 0.9890 - val_loss: 0.3257 - val_accuracy: 0.9775\n",
      "Epoch 199/200\n",
      "48000/48000 [==============================] - 1s 14us/sample - loss: 0.0548 - accuracy: 0.9895 - val_loss: 0.3166 - val_accuracy: 0.9780\n",
      "Epoch 200/200\n",
      "48000/48000 [==============================] - 1s 14us/sample - loss: 0.0509 - accuracy: 0.9903 - val_loss: 0.3209 - val_accuracy: 0.9776\n"
     ]
    },
    {
     "data": {
      "text/plain": [
       "<tensorflow.python.keras.callbacks.History at 0x15f2752b7c8>"
      ]
     },
     "execution_count": 16,
     "metadata": {},
     "output_type": "execute_result"
    }
   ],
   "source": [
    "# 모델 훈련\n",
    "model.fit(x_train, y_train, \n",
    "          batch_size = batch_size, \n",
    "          epochs = epochs, \n",
    "         verbose = verbose, \n",
    "         validation_split =  validation_split)"
   ]
  },
  {
   "cell_type": "code",
   "execution_count": 17,
   "metadata": {},
   "outputs": [
    {
     "name": "stdout",
     "output_type": "stream",
     "text": [
      "10000/10000 [==============================] - 0s 18us/sample - loss: 0.3098 - accuracy: 0.9773\n",
      "Test accuracy :  0.9773\n"
     ]
    }
   ],
   "source": [
    "# 모델 평가\n",
    "test_loss, test_acc = model.evaluate(x_test, y_test)\n",
    "print('Test accuracy : ',test_acc)"
   ]
  },
  {
   "cell_type": "markdown",
   "metadata": {},
   "source": [
    "### 정확도 97%\n",
    "### SGD에 비해 보다 빠르게 최적화되어 정확도를 얻을 수 있음"
   ]
  },
  {
   "cell_type": "code",
   "execution_count": null,
   "metadata": {},
   "outputs": [],
   "source": []
  }
 ],
 "metadata": {
  "kernelspec": {
   "display_name": "Python 3",
   "language": "python",
   "name": "python3"
  },
  "language_info": {
   "codemirror_mode": {
    "name": "ipython",
    "version": 3
   },
   "file_extension": ".py",
   "mimetype": "text/x-python",
   "name": "python",
   "nbconvert_exporter": "python",
   "pygments_lexer": "ipython3",
   "version": "3.7.7"
  }
 },
 "nbformat": 4,
 "nbformat_minor": 4
}
