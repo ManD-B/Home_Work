{
 "cells": [
  {
   "cell_type": "markdown",
   "metadata": {},
   "source": [
    "# MINST 필기체 숫자 인식"
   ]
  },
  {
   "cell_type": "code",
   "execution_count": 73,
   "metadata": {},
   "outputs": [],
   "source": [
    "import tensorflow as tf"
   ]
  },
  {
   "cell_type": "code",
   "execution_count": 74,
   "metadata": {},
   "outputs": [],
   "source": [
    "import numpy as np"
   ]
  },
  {
   "cell_type": "code",
   "execution_count": 75,
   "metadata": {},
   "outputs": [],
   "source": [
    "from tensorflow import keras"
   ]
  },
  {
   "cell_type": "code",
   "execution_count": 76,
   "metadata": {},
   "outputs": [],
   "source": [
    "# 신경망과 훈련 매개변수\n",
    "epochs = 200\n",
    "batch_size = 128\n",
    "verbose = 1\n",
    "nb_classes = 10     # 출력 개수 = 숫자의 개수\n",
    "n_hidden = 128\n",
    "validation_split = 0.2     # 검증을 위해 남겨둔 훈련 데이터"
   ]
  },
  {
   "cell_type": "code",
   "execution_count": 77,
   "metadata": {},
   "outputs": [],
   "source": [
    "# MINST 데이터셋 로드\n",
    "mnist = keras.datasets.mnist\n",
    "(x_train, y_train), (x_test, y_test) = mnist.load_data()"
   ]
  },
  {
   "cell_type": "code",
   "execution_count": 78,
   "metadata": {},
   "outputs": [
    {
     "data": {
      "text/plain": [
       "(60000, 28, 28)"
      ]
     },
     "execution_count": 78,
     "metadata": {},
     "output_type": "execute_result"
    }
   ],
   "source": [
    "x_train.shape"
   ]
  },
  {
   "cell_type": "code",
   "execution_count": 79,
   "metadata": {},
   "outputs": [],
   "source": [
    "# 이를 28x28에서 60000, 784로 바꿔줌\n",
    "reshaped = 784\n",
    "x_train = x_train.reshape(60000, reshape)\n",
    "x_test = x_test.reshape(10000, reshape)"
   ]
  },
  {
   "cell_type": "code",
   "execution_count": 80,
   "metadata": {},
   "outputs": [
    {
     "data": {
      "text/plain": [
       "(60000, 784)"
      ]
     },
     "execution_count": 80,
     "metadata": {},
     "output_type": "execute_result"
    }
   ],
   "source": [
    "x_train.shape"
   ]
  },
  {
   "cell_type": "code",
   "execution_count": 81,
   "metadata": {},
   "outputs": [],
   "source": [
    "x_train = x_train.astype('float32')\n",
    "x_test = x_test.astype('float32')"
   ]
  },
  {
   "cell_type": "code",
   "execution_count": 82,
   "metadata": {},
   "outputs": [
    {
     "name": "stdout",
     "output_type": "stream",
     "text": [
      "60000 train samples\n",
      "10000 test samples\n"
     ]
    }
   ],
   "source": [
    "# 픽셀값은 0~255인데 이를 255로 나눠줌으로써 0~1 사이로 정규화시킴\n",
    "x_train /= 255\n",
    "x_test /= 255\n",
    "print(x_train.shape[0], 'train samples')\n",
    "print(x_test.shape[0], 'test samples')"
   ]
  },
  {
   "cell_type": "code",
   "execution_count": 83,
   "metadata": {},
   "outputs": [],
   "source": [
    "# 원핫 인코딩\n",
    "y_train = tf.keras.utils.to_categorical(y_train, nb_classes)\n",
    "y_test = tf.keras.utils.to_categorical(y_test, nb_classes)"
   ]
  },
  {
   "cell_type": "markdown",
   "metadata": {},
   "source": [
    "## 똑같이 따와서 이부분만 달라짐"
   ]
  },
  {
   "cell_type": "code",
   "execution_count": 84,
   "metadata": {},
   "outputs": [],
   "source": [
    "# 모델 구축\n",
    "model = tf.keras.models.Sequential()\n",
    "model.add(keras.layers.Dense(n_hidden,\n",
    "                            input_shape = (reshaped,),\n",
    "                            name = 'dense_layer',\n",
    "                            activation = 'relu'))\n",
    "model.add(keras.layers.Dense(n_hidden,\n",
    "                            name = 'dense_layer_2',\n",
    "                            activation = 'relu'))\n",
    "model.add(keras.layers.Dense(nb_classes,\n",
    "                            name = 'dense_layer_3',\n",
    "                            activation = 'softmax'))"
   ]
  },
  {
   "cell_type": "code",
   "execution_count": 85,
   "metadata": {},
   "outputs": [],
   "source": [
    "# 모델 컴파일\n",
    "model.compile(optimizer = 'SGD',   # 확률적 그래디언트 하강\n",
    "             loss = 'categorical_crossentropy',\n",
    "             metrics = ['accuracy'])"
   ]
  },
  {
   "cell_type": "code",
   "execution_count": 86,
   "metadata": {
    "scrolled": true
   },
   "outputs": [
    {
     "name": "stdout",
     "output_type": "stream",
     "text": [
      "Train on 48000 samples, validate on 12000 samples\n",
      "Epoch 1/200\n",
      "48000/48000 [==============================] - 1s 18us/sample - loss: 1.4514 - accuracy: 0.6429 - val_loss: 0.7472 - val_accuracy: 0.8354\n",
      "Epoch 2/200\n",
      "48000/48000 [==============================] - 1s 11us/sample - loss: 0.6011 - accuracy: 0.8523 - val_loss: 0.4601 - val_accuracy: 0.8848\n",
      "Epoch 3/200\n",
      "48000/48000 [==============================] - 0s 10us/sample - loss: 0.4435 - accuracy: 0.8816 - val_loss: 0.3795 - val_accuracy: 0.8997\n",
      "Epoch 4/200\n",
      "48000/48000 [==============================] - 1s 11us/sample - loss: 0.3833 - accuracy: 0.8941 - val_loss: 0.3429 - val_accuracy: 0.9050\n",
      "Epoch 5/200\n",
      "48000/48000 [==============================] - 1s 11us/sample - loss: 0.3504 - accuracy: 0.9018 - val_loss: 0.3174 - val_accuracy: 0.9112\n",
      "Epoch 6/200\n",
      "48000/48000 [==============================] - 0s 10us/sample - loss: 0.3274 - accuracy: 0.9070 - val_loss: 0.2996 - val_accuracy: 0.9145\n",
      "Epoch 7/200\n",
      "48000/48000 [==============================] - 1s 11us/sample - loss: 0.3102 - accuracy: 0.9115 - val_loss: 0.2870 - val_accuracy: 0.9194\n",
      "Epoch 8/200\n",
      "48000/48000 [==============================] - 1s 11us/sample - loss: 0.2958 - accuracy: 0.9154 - val_loss: 0.2746 - val_accuracy: 0.9220\n",
      "Epoch 9/200\n",
      "48000/48000 [==============================] - 1s 11us/sample - loss: 0.2828 - accuracy: 0.9192 - val_loss: 0.2649 - val_accuracy: 0.9243\n",
      "Epoch 10/200\n",
      "48000/48000 [==============================] - 1s 11us/sample - loss: 0.2718 - accuracy: 0.9222 - val_loss: 0.2557 - val_accuracy: 0.9268\n",
      "Epoch 11/200\n",
      "48000/48000 [==============================] - 0s 10us/sample - loss: 0.2616 - accuracy: 0.9251 - val_loss: 0.2487 - val_accuracy: 0.9298\n",
      "Epoch 12/200\n",
      "48000/48000 [==============================] - 0s 10us/sample - loss: 0.2522 - accuracy: 0.9281 - val_loss: 0.2390 - val_accuracy: 0.9323\n",
      "Epoch 13/200\n",
      "48000/48000 [==============================] - 1s 11us/sample - loss: 0.2436 - accuracy: 0.9308 - val_loss: 0.2323 - val_accuracy: 0.9336\n",
      "Epoch 14/200\n",
      "48000/48000 [==============================] - 1s 11us/sample - loss: 0.2352 - accuracy: 0.9334 - val_loss: 0.2263 - val_accuracy: 0.9354\n",
      "Epoch 15/200\n",
      "48000/48000 [==============================] - 1s 10us/sample - loss: 0.2274 - accuracy: 0.9351 - val_loss: 0.2188 - val_accuracy: 0.9384\n",
      "Epoch 16/200\n",
      "48000/48000 [==============================] - 0s 10us/sample - loss: 0.2207 - accuracy: 0.9374 - val_loss: 0.2133 - val_accuracy: 0.9408\n",
      "Epoch 17/200\n",
      "48000/48000 [==============================] - 1s 11us/sample - loss: 0.2138 - accuracy: 0.9395 - val_loss: 0.2072 - val_accuracy: 0.9422\n",
      "Epoch 18/200\n",
      "48000/48000 [==============================] - 1s 11us/sample - loss: 0.2072 - accuracy: 0.9413 - val_loss: 0.2029 - val_accuracy: 0.9434\n",
      "Epoch 19/200\n",
      "48000/48000 [==============================] - 1s 11us/sample - loss: 0.2012 - accuracy: 0.9426 - val_loss: 0.1989 - val_accuracy: 0.9442\n",
      "Epoch 20/200\n",
      "48000/48000 [==============================] - 1s 10us/sample - loss: 0.1954 - accuracy: 0.9445 - val_loss: 0.1930 - val_accuracy: 0.9480\n",
      "Epoch 21/200\n",
      "48000/48000 [==============================] - 1s 11us/sample - loss: 0.1901 - accuracy: 0.9453 - val_loss: 0.1888 - val_accuracy: 0.9492\n",
      "Epoch 22/200\n",
      "48000/48000 [==============================] - 1s 11us/sample - loss: 0.1849 - accuracy: 0.9467 - val_loss: 0.1848 - val_accuracy: 0.9499\n",
      "Epoch 23/200\n",
      "48000/48000 [==============================] - 1s 11us/sample - loss: 0.1801 - accuracy: 0.9482 - val_loss: 0.1808 - val_accuracy: 0.9506\n",
      "Epoch 24/200\n",
      "48000/48000 [==============================] - 1s 11us/sample - loss: 0.1755 - accuracy: 0.9499 - val_loss: 0.1773 - val_accuracy: 0.9514\n",
      "Epoch 25/200\n",
      "48000/48000 [==============================] - 0s 10us/sample - loss: 0.1711 - accuracy: 0.9501 - val_loss: 0.1741 - val_accuracy: 0.9525\n",
      "Epoch 26/200\n",
      "48000/48000 [==============================] - 0s 10us/sample - loss: 0.1669 - accuracy: 0.9521 - val_loss: 0.1704 - val_accuracy: 0.9541\n",
      "Epoch 27/200\n",
      "48000/48000 [==============================] - 1s 11us/sample - loss: 0.1626 - accuracy: 0.9531 - val_loss: 0.1684 - val_accuracy: 0.9543\n",
      "Epoch 28/200\n",
      "48000/48000 [==============================] - 0s 10us/sample - loss: 0.1589 - accuracy: 0.9545 - val_loss: 0.1651 - val_accuracy: 0.9555\n",
      "Epoch 29/200\n",
      "48000/48000 [==============================] - 1s 11us/sample - loss: 0.1553 - accuracy: 0.9555 - val_loss: 0.1621 - val_accuracy: 0.9553\n",
      "Epoch 30/200\n",
      "48000/48000 [==============================] - 1s 11us/sample - loss: 0.1516 - accuracy: 0.9569 - val_loss: 0.1597 - val_accuracy: 0.9567\n",
      "Epoch 31/200\n",
      "48000/48000 [==============================] - 1s 11us/sample - loss: 0.1482 - accuracy: 0.9579 - val_loss: 0.1574 - val_accuracy: 0.9567\n",
      "Epoch 32/200\n",
      "48000/48000 [==============================] - 1s 11us/sample - loss: 0.1453 - accuracy: 0.9589 - val_loss: 0.1555 - val_accuracy: 0.9571\n",
      "Epoch 33/200\n",
      "48000/48000 [==============================] - 1s 11us/sample - loss: 0.1421 - accuracy: 0.9595 - val_loss: 0.1532 - val_accuracy: 0.9580\n",
      "Epoch 34/200\n",
      "48000/48000 [==============================] - 1s 11us/sample - loss: 0.1392 - accuracy: 0.9606 - val_loss: 0.1509 - val_accuracy: 0.9588\n",
      "Epoch 35/200\n",
      "48000/48000 [==============================] - 1s 11us/sample - loss: 0.1362 - accuracy: 0.9613 - val_loss: 0.1489 - val_accuracy: 0.9589\n",
      "Epoch 36/200\n",
      "48000/48000 [==============================] - 1s 11us/sample - loss: 0.1333 - accuracy: 0.9625 - val_loss: 0.1475 - val_accuracy: 0.9598\n",
      "Epoch 37/200\n",
      "48000/48000 [==============================] - 1s 11us/sample - loss: 0.1306 - accuracy: 0.9631 - val_loss: 0.1449 - val_accuracy: 0.9602\n",
      "Epoch 38/200\n",
      "48000/48000 [==============================] - 1s 11us/sample - loss: 0.1281 - accuracy: 0.9640 - val_loss: 0.1428 - val_accuracy: 0.9615\n",
      "Epoch 39/200\n",
      "48000/48000 [==============================] - 1s 11us/sample - loss: 0.1256 - accuracy: 0.9647 - val_loss: 0.1416 - val_accuracy: 0.9615\n",
      "Epoch 40/200\n",
      "48000/48000 [==============================] - 1s 11us/sample - loss: 0.1232 - accuracy: 0.9651 - val_loss: 0.1395 - val_accuracy: 0.9620\n",
      "Epoch 41/200\n",
      "48000/48000 [==============================] - 1s 11us/sample - loss: 0.1209 - accuracy: 0.9655 - val_loss: 0.1383 - val_accuracy: 0.9625\n",
      "Epoch 42/200\n",
      "48000/48000 [==============================] - 1s 11us/sample - loss: 0.1186 - accuracy: 0.9669 - val_loss: 0.1364 - val_accuracy: 0.9633\n",
      "Epoch 43/200\n",
      "48000/48000 [==============================] - 1s 11us/sample - loss: 0.1163 - accuracy: 0.9672 - val_loss: 0.1355 - val_accuracy: 0.9630\n",
      "Epoch 44/200\n",
      "48000/48000 [==============================] - 1s 11us/sample - loss: 0.1143 - accuracy: 0.9680 - val_loss: 0.1344 - val_accuracy: 0.9631\n",
      "Epoch 45/200\n",
      "48000/48000 [==============================] - 1s 11us/sample - loss: 0.1122 - accuracy: 0.9685 - val_loss: 0.1330 - val_accuracy: 0.9636\n",
      "Epoch 46/200\n",
      "48000/48000 [==============================] - 1s 11us/sample - loss: 0.1103 - accuracy: 0.9692 - val_loss: 0.1315 - val_accuracy: 0.9646\n",
      "Epoch 47/200\n",
      "48000/48000 [==============================] - 0s 10us/sample - loss: 0.1084 - accuracy: 0.9695 - val_loss: 0.1303 - val_accuracy: 0.9643\n",
      "Epoch 48/200\n",
      "48000/48000 [==============================] - 1s 11us/sample - loss: 0.1063 - accuracy: 0.9706 - val_loss: 0.1291 - val_accuracy: 0.9650\n",
      "Epoch 49/200\n",
      "48000/48000 [==============================] - 1s 11us/sample - loss: 0.1046 - accuracy: 0.9707 - val_loss: 0.1279 - val_accuracy: 0.9650\n",
      "Epoch 50/200\n",
      "48000/48000 [==============================] - 1s 11us/sample - loss: 0.1028 - accuracy: 0.9711 - val_loss: 0.1265 - val_accuracy: 0.9661\n",
      "Epoch 51/200\n",
      "48000/48000 [==============================] - 0s 10us/sample - loss: 0.1011 - accuracy: 0.9722 - val_loss: 0.1259 - val_accuracy: 0.9654\n",
      "Epoch 52/200\n",
      "48000/48000 [==============================] - 1s 11us/sample - loss: 0.0994 - accuracy: 0.9725 - val_loss: 0.1261 - val_accuracy: 0.9654\n",
      "Epoch 53/200\n",
      "48000/48000 [==============================] - 1s 11us/sample - loss: 0.0977 - accuracy: 0.9726 - val_loss: 0.1235 - val_accuracy: 0.9667\n",
      "Epoch 54/200\n",
      "48000/48000 [==============================] - 1s 11us/sample - loss: 0.0962 - accuracy: 0.9735 - val_loss: 0.1226 - val_accuracy: 0.9667\n"
     ]
    },
    {
     "name": "stdout",
     "output_type": "stream",
     "text": [
      "Epoch 55/200\n",
      "48000/48000 [==============================] - 1s 11us/sample - loss: 0.0946 - accuracy: 0.9738 - val_loss: 0.1220 - val_accuracy: 0.9673\n",
      "Epoch 56/200\n",
      "48000/48000 [==============================] - 1s 11us/sample - loss: 0.0930 - accuracy: 0.9744 - val_loss: 0.1210 - val_accuracy: 0.9667\n",
      "Epoch 57/200\n",
      "48000/48000 [==============================] - 0s 10us/sample - loss: 0.0917 - accuracy: 0.9748 - val_loss: 0.1207 - val_accuracy: 0.9668\n",
      "Epoch 58/200\n",
      "48000/48000 [==============================] - 1s 11us/sample - loss: 0.0903 - accuracy: 0.9752 - val_loss: 0.1192 - val_accuracy: 0.9675\n",
      "Epoch 59/200\n",
      "48000/48000 [==============================] - 0s 10us/sample - loss: 0.0890 - accuracy: 0.9752 - val_loss: 0.1191 - val_accuracy: 0.9672\n",
      "Epoch 60/200\n",
      "48000/48000 [==============================] - 1s 10us/sample - loss: 0.0875 - accuracy: 0.9758 - val_loss: 0.1179 - val_accuracy: 0.9676\n",
      "Epoch 61/200\n",
      "48000/48000 [==============================] - 0s 10us/sample - loss: 0.0862 - accuracy: 0.9762 - val_loss: 0.1166 - val_accuracy: 0.9683\n",
      "Epoch 62/200\n",
      "48000/48000 [==============================] - 1s 11us/sample - loss: 0.0848 - accuracy: 0.9766 - val_loss: 0.1156 - val_accuracy: 0.9682\n",
      "Epoch 63/200\n",
      "48000/48000 [==============================] - 0s 10us/sample - loss: 0.0837 - accuracy: 0.9770 - val_loss: 0.1154 - val_accuracy: 0.9687\n",
      "Epoch 64/200\n",
      "48000/48000 [==============================] - 1s 11us/sample - loss: 0.0823 - accuracy: 0.9778 - val_loss: 0.1148 - val_accuracy: 0.9691\n",
      "Epoch 65/200\n",
      "48000/48000 [==============================] - 1s 11us/sample - loss: 0.0810 - accuracy: 0.9780 - val_loss: 0.1148 - val_accuracy: 0.9684\n",
      "Epoch 66/200\n",
      "48000/48000 [==============================] - 1s 11us/sample - loss: 0.0800 - accuracy: 0.9784 - val_loss: 0.1139 - val_accuracy: 0.9691\n",
      "Epoch 67/200\n",
      "48000/48000 [==============================] - 1s 11us/sample - loss: 0.0788 - accuracy: 0.9785 - val_loss: 0.1136 - val_accuracy: 0.9688\n",
      "Epoch 68/200\n",
      "48000/48000 [==============================] - 1s 11us/sample - loss: 0.0777 - accuracy: 0.9788 - val_loss: 0.1124 - val_accuracy: 0.9690\n",
      "Epoch 69/200\n",
      "48000/48000 [==============================] - 0s 10us/sample - loss: 0.0764 - accuracy: 0.9791 - val_loss: 0.1115 - val_accuracy: 0.9691\n",
      "Epoch 70/200\n",
      "48000/48000 [==============================] - 0s 10us/sample - loss: 0.0755 - accuracy: 0.9797 - val_loss: 0.1111 - val_accuracy: 0.9696\n",
      "Epoch 71/200\n",
      "48000/48000 [==============================] - 0s 10us/sample - loss: 0.0743 - accuracy: 0.9800 - val_loss: 0.1112 - val_accuracy: 0.9689\n",
      "Epoch 72/200\n",
      "48000/48000 [==============================] - 0s 10us/sample - loss: 0.0733 - accuracy: 0.9800 - val_loss: 0.1105 - val_accuracy: 0.9696\n",
      "Epoch 73/200\n",
      "48000/48000 [==============================] - 1s 11us/sample - loss: 0.0723 - accuracy: 0.9808 - val_loss: 0.1099 - val_accuracy: 0.9698\n",
      "Epoch 74/200\n",
      "48000/48000 [==============================] - 1s 11us/sample - loss: 0.0712 - accuracy: 0.9813 - val_loss: 0.1087 - val_accuracy: 0.9698\n",
      "Epoch 75/200\n",
      "48000/48000 [==============================] - 1s 11us/sample - loss: 0.0704 - accuracy: 0.9812 - val_loss: 0.1083 - val_accuracy: 0.9697\n",
      "Epoch 76/200\n",
      "48000/48000 [==============================] - 1s 11us/sample - loss: 0.0694 - accuracy: 0.9812 - val_loss: 0.1079 - val_accuracy: 0.9701\n",
      "Epoch 77/200\n",
      "48000/48000 [==============================] - 0s 10us/sample - loss: 0.0684 - accuracy: 0.9817 - val_loss: 0.1076 - val_accuracy: 0.9696\n",
      "Epoch 78/200\n",
      "48000/48000 [==============================] - 1s 11us/sample - loss: 0.0674 - accuracy: 0.9823 - val_loss: 0.1067 - val_accuracy: 0.9706\n",
      "Epoch 79/200\n",
      "48000/48000 [==============================] - 1s 10us/sample - loss: 0.0665 - accuracy: 0.9824 - val_loss: 0.1076 - val_accuracy: 0.9693\n",
      "Epoch 80/200\n",
      "48000/48000 [==============================] - 1s 11us/sample - loss: 0.0657 - accuracy: 0.9822 - val_loss: 0.1062 - val_accuracy: 0.9703\n",
      "Epoch 81/200\n",
      "48000/48000 [==============================] - 0s 10us/sample - loss: 0.0646 - accuracy: 0.9827 - val_loss: 0.1062 - val_accuracy: 0.9701\n",
      "Epoch 82/200\n",
      "48000/48000 [==============================] - 1s 11us/sample - loss: 0.0638 - accuracy: 0.9832 - val_loss: 0.1056 - val_accuracy: 0.9695\n",
      "Epoch 83/200\n",
      "48000/48000 [==============================] - 0s 10us/sample - loss: 0.0629 - accuracy: 0.9836 - val_loss: 0.1054 - val_accuracy: 0.9703\n",
      "Epoch 84/200\n",
      "48000/48000 [==============================] - 1s 11us/sample - loss: 0.0622 - accuracy: 0.9835 - val_loss: 0.1043 - val_accuracy: 0.9707\n",
      "Epoch 85/200\n",
      "48000/48000 [==============================] - 1s 10us/sample - loss: 0.0613 - accuracy: 0.9839 - val_loss: 0.1045 - val_accuracy: 0.9708\n",
      "Epoch 86/200\n",
      "48000/48000 [==============================] - 1s 11us/sample - loss: 0.0605 - accuracy: 0.9841 - val_loss: 0.1039 - val_accuracy: 0.9705\n",
      "Epoch 87/200\n",
      "48000/48000 [==============================] - 1s 11us/sample - loss: 0.0597 - accuracy: 0.9846 - val_loss: 0.1037 - val_accuracy: 0.9702\n",
      "Epoch 88/200\n",
      "48000/48000 [==============================] - 1s 11us/sample - loss: 0.0589 - accuracy: 0.9846 - val_loss: 0.1040 - val_accuracy: 0.9711\n",
      "Epoch 89/200\n",
      "48000/48000 [==============================] - 1s 11us/sample - loss: 0.0581 - accuracy: 0.9851 - val_loss: 0.1032 - val_accuracy: 0.9703\n",
      "Epoch 90/200\n",
      "48000/48000 [==============================] - 1s 11us/sample - loss: 0.0572 - accuracy: 0.9852 - val_loss: 0.1037 - val_accuracy: 0.9700\n",
      "Epoch 91/200\n",
      "48000/48000 [==============================] - 0s 10us/sample - loss: 0.0566 - accuracy: 0.9850 - val_loss: 0.1028 - val_accuracy: 0.9710\n",
      "Epoch 92/200\n",
      "48000/48000 [==============================] - 1s 11us/sample - loss: 0.0558 - accuracy: 0.9857 - val_loss: 0.1024 - val_accuracy: 0.9706\n",
      "Epoch 93/200\n",
      "48000/48000 [==============================] - 1s 11us/sample - loss: 0.0551 - accuracy: 0.9857 - val_loss: 0.1019 - val_accuracy: 0.9712\n",
      "Epoch 94/200\n",
      "48000/48000 [==============================] - 1s 11us/sample - loss: 0.0544 - accuracy: 0.9860 - val_loss: 0.1028 - val_accuracy: 0.9698\n",
      "Epoch 95/200\n",
      "48000/48000 [==============================] - 1s 11us/sample - loss: 0.0537 - accuracy: 0.9865 - val_loss: 0.1014 - val_accuracy: 0.9708\n",
      "Epoch 96/200\n",
      "48000/48000 [==============================] - 1s 11us/sample - loss: 0.0531 - accuracy: 0.9867 - val_loss: 0.1014 - val_accuracy: 0.9707\n",
      "Epoch 97/200\n",
      "48000/48000 [==============================] - 1s 11us/sample - loss: 0.0525 - accuracy: 0.9865 - val_loss: 0.1009 - val_accuracy: 0.9718\n",
      "Epoch 98/200\n",
      "48000/48000 [==============================] - 1s 11us/sample - loss: 0.0518 - accuracy: 0.9866 - val_loss: 0.1022 - val_accuracy: 0.9704\n",
      "Epoch 99/200\n",
      "48000/48000 [==============================] - 1s 11us/sample - loss: 0.0512 - accuracy: 0.9868 - val_loss: 0.1005 - val_accuracy: 0.9706\n",
      "Epoch 100/200\n",
      "48000/48000 [==============================] - 1s 11us/sample - loss: 0.0506 - accuracy: 0.9873 - val_loss: 0.0998 - val_accuracy: 0.9713\n",
      "Epoch 101/200\n",
      "48000/48000 [==============================] - 1s 11us/sample - loss: 0.0498 - accuracy: 0.9874 - val_loss: 0.1009 - val_accuracy: 0.9704\n",
      "Epoch 102/200\n",
      "48000/48000 [==============================] - 1s 11us/sample - loss: 0.0492 - accuracy: 0.9877 - val_loss: 0.0997 - val_accuracy: 0.9704\n",
      "Epoch 103/200\n",
      "48000/48000 [==============================] - 1s 11us/sample - loss: 0.0485 - accuracy: 0.9877 - val_loss: 0.0996 - val_accuracy: 0.9709\n",
      "Epoch 104/200\n",
      "48000/48000 [==============================] - 1s 11us/sample - loss: 0.0480 - accuracy: 0.9882 - val_loss: 0.0998 - val_accuracy: 0.9708\n",
      "Epoch 105/200\n",
      "48000/48000 [==============================] - 0s 10us/sample - loss: 0.0473 - accuracy: 0.9887 - val_loss: 0.0996 - val_accuracy: 0.9705\n",
      "Epoch 106/200\n",
      "48000/48000 [==============================] - 1s 11us/sample - loss: 0.0469 - accuracy: 0.9886 - val_loss: 0.0987 - val_accuracy: 0.9714\n",
      "Epoch 107/200\n",
      "48000/48000 [==============================] - 1s 11us/sample - loss: 0.0464 - accuracy: 0.9885 - val_loss: 0.0987 - val_accuracy: 0.9711\n",
      "Epoch 108/200\n",
      "48000/48000 [==============================] - 1s 11us/sample - loss: 0.0457 - accuracy: 0.9883 - val_loss: 0.0989 - val_accuracy: 0.9706\n",
      "Epoch 109/200\n"
     ]
    },
    {
     "name": "stdout",
     "output_type": "stream",
     "text": [
      "48000/48000 [==============================] - 1s 11us/sample - loss: 0.0452 - accuracy: 0.9887 - val_loss: 0.0983 - val_accuracy: 0.9712\n",
      "Epoch 110/200\n",
      "48000/48000 [==============================] - 1s 11us/sample - loss: 0.0444 - accuracy: 0.9893 - val_loss: 0.0979 - val_accuracy: 0.9713\n",
      "Epoch 111/200\n",
      "48000/48000 [==============================] - 1s 10us/sample - loss: 0.0441 - accuracy: 0.9890 - val_loss: 0.0985 - val_accuracy: 0.9716\n",
      "Epoch 112/200\n",
      "48000/48000 [==============================] - 0s 10us/sample - loss: 0.0435 - accuracy: 0.9894 - val_loss: 0.0978 - val_accuracy: 0.9710\n",
      "Epoch 113/200\n",
      "48000/48000 [==============================] - 1s 11us/sample - loss: 0.0430 - accuracy: 0.9893 - val_loss: 0.0981 - val_accuracy: 0.9714\n",
      "Epoch 114/200\n",
      "48000/48000 [==============================] - 1s 11us/sample - loss: 0.0426 - accuracy: 0.9894 - val_loss: 0.0977 - val_accuracy: 0.9709\n",
      "Epoch 115/200\n",
      "48000/48000 [==============================] - 1s 11us/sample - loss: 0.0420 - accuracy: 0.9897 - val_loss: 0.0977 - val_accuracy: 0.9714\n",
      "Epoch 116/200\n",
      "48000/48000 [==============================] - 1s 11us/sample - loss: 0.0414 - accuracy: 0.9900 - val_loss: 0.0974 - val_accuracy: 0.9714\n",
      "Epoch 117/200\n",
      "48000/48000 [==============================] - 1s 11us/sample - loss: 0.0409 - accuracy: 0.9902 - val_loss: 0.0970 - val_accuracy: 0.9715\n",
      "Epoch 118/200\n",
      "48000/48000 [==============================] - 1s 11us/sample - loss: 0.0405 - accuracy: 0.9903 - val_loss: 0.0976 - val_accuracy: 0.9710\n",
      "Epoch 119/200\n",
      "48000/48000 [==============================] - 1s 10us/sample - loss: 0.0400 - accuracy: 0.9903 - val_loss: 0.0962 - val_accuracy: 0.9721\n",
      "Epoch 120/200\n",
      "48000/48000 [==============================] - 1s 11us/sample - loss: 0.0395 - accuracy: 0.9906 - val_loss: 0.0964 - val_accuracy: 0.9723\n",
      "Epoch 121/200\n",
      "48000/48000 [==============================] - 1s 11us/sample - loss: 0.0391 - accuracy: 0.9906 - val_loss: 0.0970 - val_accuracy: 0.9713\n",
      "Epoch 122/200\n",
      "48000/48000 [==============================] - 1s 11us/sample - loss: 0.0386 - accuracy: 0.9909 - val_loss: 0.0967 - val_accuracy: 0.9715\n",
      "Epoch 123/200\n",
      "48000/48000 [==============================] - 1s 11us/sample - loss: 0.0382 - accuracy: 0.9909 - val_loss: 0.0964 - val_accuracy: 0.9714\n",
      "Epoch 124/200\n",
      "48000/48000 [==============================] - 1s 11us/sample - loss: 0.0377 - accuracy: 0.9911 - val_loss: 0.0963 - val_accuracy: 0.9716\n",
      "Epoch 125/200\n",
      "48000/48000 [==============================] - 1s 11us/sample - loss: 0.0372 - accuracy: 0.9912 - val_loss: 0.0968 - val_accuracy: 0.9712\n",
      "Epoch 126/200\n",
      "48000/48000 [==============================] - 1s 11us/sample - loss: 0.0369 - accuracy: 0.9914 - val_loss: 0.0963 - val_accuracy: 0.9722\n",
      "Epoch 127/200\n",
      "48000/48000 [==============================] - 1s 11us/sample - loss: 0.0364 - accuracy: 0.9918 - val_loss: 0.0963 - val_accuracy: 0.9716\n",
      "Epoch 128/200\n",
      "48000/48000 [==============================] - 1s 11us/sample - loss: 0.0360 - accuracy: 0.9915 - val_loss: 0.0965 - val_accuracy: 0.9720\n",
      "Epoch 129/200\n",
      "48000/48000 [==============================] - 1s 11us/sample - loss: 0.0355 - accuracy: 0.9920 - val_loss: 0.0968 - val_accuracy: 0.9717\n",
      "Epoch 130/200\n",
      "48000/48000 [==============================] - 1s 11us/sample - loss: 0.0351 - accuracy: 0.9919 - val_loss: 0.0964 - val_accuracy: 0.9722\n",
      "Epoch 131/200\n",
      "48000/48000 [==============================] - 0s 10us/sample - loss: 0.0347 - accuracy: 0.9919 - val_loss: 0.0958 - val_accuracy: 0.9719\n",
      "Epoch 132/200\n",
      "48000/48000 [==============================] - 0s 10us/sample - loss: 0.0342 - accuracy: 0.9923 - val_loss: 0.0956 - val_accuracy: 0.9719\n",
      "Epoch 133/200\n",
      "48000/48000 [==============================] - 1s 14us/sample - loss: 0.0339 - accuracy: 0.9924 - val_loss: 0.0955 - val_accuracy: 0.9725\n",
      "Epoch 134/200\n",
      "48000/48000 [==============================] - 1s 13us/sample - loss: 0.0335 - accuracy: 0.9922 - val_loss: 0.0956 - val_accuracy: 0.9723\n",
      "Epoch 135/200\n",
      "48000/48000 [==============================] - 1s 12us/sample - loss: 0.0331 - accuracy: 0.9926 - val_loss: 0.0961 - val_accuracy: 0.9719\n",
      "Epoch 136/200\n",
      "48000/48000 [==============================] - 1s 11us/sample - loss: 0.0327 - accuracy: 0.9928 - val_loss: 0.0954 - val_accuracy: 0.9718\n",
      "Epoch 137/200\n",
      "48000/48000 [==============================] - 1s 11us/sample - loss: 0.0324 - accuracy: 0.9929 - val_loss: 0.0958 - val_accuracy: 0.9718\n",
      "Epoch 138/200\n",
      "48000/48000 [==============================] - 0s 10us/sample - loss: 0.0321 - accuracy: 0.9929 - val_loss: 0.0955 - val_accuracy: 0.9718\n",
      "Epoch 139/200\n",
      "48000/48000 [==============================] - 1s 11us/sample - loss: 0.0317 - accuracy: 0.9931 - val_loss: 0.0951 - val_accuracy: 0.9725\n",
      "Epoch 140/200\n",
      "48000/48000 [==============================] - 1s 11us/sample - loss: 0.0310 - accuracy: 0.9933 - val_loss: 0.0955 - val_accuracy: 0.9718\n",
      "Epoch 141/200\n",
      "48000/48000 [==============================] - 1s 10us/sample - loss: 0.0310 - accuracy: 0.9931 - val_loss: 0.0953 - val_accuracy: 0.9722\n",
      "Epoch 142/200\n",
      "48000/48000 [==============================] - 0s 10us/sample - loss: 0.0305 - accuracy: 0.9933 - val_loss: 0.0959 - val_accuracy: 0.9721\n",
      "Epoch 143/200\n",
      "48000/48000 [==============================] - 0s 10us/sample - loss: 0.0302 - accuracy: 0.9933 - val_loss: 0.0962 - val_accuracy: 0.9721\n",
      "Epoch 144/200\n",
      "48000/48000 [==============================] - 0s 10us/sample - loss: 0.0298 - accuracy: 0.9934 - val_loss: 0.0950 - val_accuracy: 0.9717\n",
      "Epoch 145/200\n",
      "48000/48000 [==============================] - 1s 10us/sample - loss: 0.0295 - accuracy: 0.9938 - val_loss: 0.0950 - val_accuracy: 0.9722\n",
      "Epoch 146/200\n",
      "48000/48000 [==============================] - 0s 10us/sample - loss: 0.0292 - accuracy: 0.9938 - val_loss: 0.0958 - val_accuracy: 0.9718\n",
      "Epoch 147/200\n",
      "48000/48000 [==============================] - 0s 10us/sample - loss: 0.0289 - accuracy: 0.9939 - val_loss: 0.0948 - val_accuracy: 0.9723\n",
      "Epoch 148/200\n",
      "48000/48000 [==============================] - 0s 10us/sample - loss: 0.0285 - accuracy: 0.9940 - val_loss: 0.0951 - val_accuracy: 0.9720\n",
      "Epoch 149/200\n",
      "48000/48000 [==============================] - 0s 10us/sample - loss: 0.0281 - accuracy: 0.9940 - val_loss: 0.0949 - val_accuracy: 0.9724\n",
      "Epoch 150/200\n",
      "48000/48000 [==============================] - 0s 10us/sample - loss: 0.0278 - accuracy: 0.9942 - val_loss: 0.0951 - val_accuracy: 0.9721\n",
      "Epoch 151/200\n",
      "48000/48000 [==============================] - 0s 10us/sample - loss: 0.0275 - accuracy: 0.9943 - val_loss: 0.0956 - val_accuracy: 0.9723\n",
      "Epoch 152/200\n",
      "48000/48000 [==============================] - 0s 10us/sample - loss: 0.0272 - accuracy: 0.9944 - val_loss: 0.0959 - val_accuracy: 0.9725\n",
      "Epoch 153/200\n",
      "48000/48000 [==============================] - 0s 10us/sample - loss: 0.0269 - accuracy: 0.9944 - val_loss: 0.0947 - val_accuracy: 0.9732\n",
      "Epoch 154/200\n",
      "48000/48000 [==============================] - 0s 10us/sample - loss: 0.0266 - accuracy: 0.9949 - val_loss: 0.0959 - val_accuracy: 0.9715\n",
      "Epoch 155/200\n",
      "48000/48000 [==============================] - 1s 11us/sample - loss: 0.0263 - accuracy: 0.9946 - val_loss: 0.0958 - val_accuracy: 0.9716\n",
      "Epoch 156/200\n",
      "48000/48000 [==============================] - 0s 10us/sample - loss: 0.0260 - accuracy: 0.9948 - val_loss: 0.0953 - val_accuracy: 0.9729\n",
      "Epoch 157/200\n",
      "48000/48000 [==============================] - 0s 10us/sample - loss: 0.0257 - accuracy: 0.9948 - val_loss: 0.0951 - val_accuracy: 0.9722\n",
      "Epoch 158/200\n",
      "48000/48000 [==============================] - 0s 10us/sample - loss: 0.0255 - accuracy: 0.9950 - val_loss: 0.0948 - val_accuracy: 0.9725\n",
      "Epoch 159/200\n",
      "48000/48000 [==============================] - 0s 10us/sample - loss: 0.0251 - accuracy: 0.9950 - val_loss: 0.0951 - val_accuracy: 0.9721\n",
      "Epoch 160/200\n",
      "48000/48000 [==============================] - 0s 10us/sample - loss: 0.0248 - accuracy: 0.9951 - val_loss: 0.0954 - val_accuracy: 0.9722\n",
      "Epoch 161/200\n",
      "48000/48000 [==============================] - 1s 11us/sample - loss: 0.0246 - accuracy: 0.9951 - val_loss: 0.0949 - val_accuracy: 0.9722\n",
      "Epoch 162/200\n",
      "48000/48000 [==============================] - 0s 10us/sample - loss: 0.0243 - accuracy: 0.9954 - val_loss: 0.0955 - val_accuracy: 0.9720\n"
     ]
    },
    {
     "name": "stdout",
     "output_type": "stream",
     "text": [
      "Epoch 163/200\n",
      "48000/48000 [==============================] - 0s 10us/sample - loss: 0.0241 - accuracy: 0.9953 - val_loss: 0.0953 - val_accuracy: 0.9728\n",
      "Epoch 164/200\n",
      "48000/48000 [==============================] - 0s 10us/sample - loss: 0.0237 - accuracy: 0.9955 - val_loss: 0.0953 - val_accuracy: 0.9722\n",
      "Epoch 165/200\n",
      "48000/48000 [==============================] - 0s 10us/sample - loss: 0.0235 - accuracy: 0.9955 - val_loss: 0.0953 - val_accuracy: 0.9728\n",
      "Epoch 166/200\n",
      "48000/48000 [==============================] - 1s 11us/sample - loss: 0.0233 - accuracy: 0.9955 - val_loss: 0.0955 - val_accuracy: 0.9723\n",
      "Epoch 167/200\n",
      "48000/48000 [==============================] - 1s 11us/sample - loss: 0.0229 - accuracy: 0.9957 - val_loss: 0.0957 - val_accuracy: 0.9728\n",
      "Epoch 168/200\n",
      "48000/48000 [==============================] - 0s 10us/sample - loss: 0.0227 - accuracy: 0.9961 - val_loss: 0.0950 - val_accuracy: 0.9733\n",
      "Epoch 169/200\n",
      "48000/48000 [==============================] - 0s 10us/sample - loss: 0.0225 - accuracy: 0.9959 - val_loss: 0.0953 - val_accuracy: 0.9727\n",
      "Epoch 170/200\n",
      "48000/48000 [==============================] - 0s 10us/sample - loss: 0.0222 - accuracy: 0.9959 - val_loss: 0.0952 - val_accuracy: 0.9729\n",
      "Epoch 171/200\n",
      "48000/48000 [==============================] - 0s 10us/sample - loss: 0.0220 - accuracy: 0.9960 - val_loss: 0.0955 - val_accuracy: 0.9718\n",
      "Epoch 172/200\n",
      "48000/48000 [==============================] - 0s 10us/sample - loss: 0.0218 - accuracy: 0.9960 - val_loss: 0.0954 - val_accuracy: 0.9718\n",
      "Epoch 173/200\n",
      "48000/48000 [==============================] - 0s 10us/sample - loss: 0.0215 - accuracy: 0.9964 - val_loss: 0.0951 - val_accuracy: 0.9728\n",
      "Epoch 174/200\n",
      "48000/48000 [==============================] - 1s 11us/sample - loss: 0.0212 - accuracy: 0.9961 - val_loss: 0.0957 - val_accuracy: 0.9721\n",
      "Epoch 175/200\n",
      "48000/48000 [==============================] - 0s 10us/sample - loss: 0.0211 - accuracy: 0.9963 - val_loss: 0.0953 - val_accuracy: 0.9723\n",
      "Epoch 176/200\n",
      "48000/48000 [==============================] - 0s 10us/sample - loss: 0.0208 - accuracy: 0.9964 - val_loss: 0.0953 - val_accuracy: 0.9726\n",
      "Epoch 177/200\n",
      "48000/48000 [==============================] - 0s 10us/sample - loss: 0.0205 - accuracy: 0.9964 - val_loss: 0.0960 - val_accuracy: 0.9722\n",
      "Epoch 178/200\n",
      "48000/48000 [==============================] - 0s 10us/sample - loss: 0.0204 - accuracy: 0.9966 - val_loss: 0.0970 - val_accuracy: 0.9727\n",
      "Epoch 179/200\n",
      "48000/48000 [==============================] - 0s 10us/sample - loss: 0.0202 - accuracy: 0.9966 - val_loss: 0.0956 - val_accuracy: 0.9720\n",
      "Epoch 180/200\n",
      "48000/48000 [==============================] - 0s 10us/sample - loss: 0.0199 - accuracy: 0.9968 - val_loss: 0.0965 - val_accuracy: 0.9725\n",
      "Epoch 181/200\n",
      "48000/48000 [==============================] - 0s 10us/sample - loss: 0.0197 - accuracy: 0.9967 - val_loss: 0.0966 - val_accuracy: 0.9720\n",
      "Epoch 182/200\n",
      "48000/48000 [==============================] - 0s 10us/sample - loss: 0.0194 - accuracy: 0.9967 - val_loss: 0.0955 - val_accuracy: 0.9728\n",
      "Epoch 183/200\n",
      "48000/48000 [==============================] - 0s 10us/sample - loss: 0.0193 - accuracy: 0.9968 - val_loss: 0.0956 - val_accuracy: 0.9725\n",
      "Epoch 184/200\n",
      "48000/48000 [==============================] - 0s 10us/sample - loss: 0.0191 - accuracy: 0.9971 - val_loss: 0.0961 - val_accuracy: 0.9717\n",
      "Epoch 185/200\n",
      "48000/48000 [==============================] - 0s 10us/sample - loss: 0.0189 - accuracy: 0.9969 - val_loss: 0.0957 - val_accuracy: 0.9727\n",
      "Epoch 186/200\n",
      "48000/48000 [==============================] - 0s 10us/sample - loss: 0.0186 - accuracy: 0.9972 - val_loss: 0.0955 - val_accuracy: 0.9719\n",
      "Epoch 187/200\n",
      "48000/48000 [==============================] - 0s 10us/sample - loss: 0.0185 - accuracy: 0.9972 - val_loss: 0.0958 - val_accuracy: 0.9724\n",
      "Epoch 188/200\n",
      "48000/48000 [==============================] - 0s 10us/sample - loss: 0.0183 - accuracy: 0.9971 - val_loss: 0.0959 - val_accuracy: 0.9729\n",
      "Epoch 189/200\n",
      "48000/48000 [==============================] - 0s 10us/sample - loss: 0.0181 - accuracy: 0.9973 - val_loss: 0.0961 - val_accuracy: 0.9721\n",
      "Epoch 190/200\n",
      "48000/48000 [==============================] - 1s 11us/sample - loss: 0.0178 - accuracy: 0.9973 - val_loss: 0.0966 - val_accuracy: 0.9721\n",
      "Epoch 191/200\n",
      "48000/48000 [==============================] - 1s 10us/sample - loss: 0.0177 - accuracy: 0.9972 - val_loss: 0.0963 - val_accuracy: 0.9726\n",
      "Epoch 192/200\n",
      "48000/48000 [==============================] - 1s 10us/sample - loss: 0.0175 - accuracy: 0.9973 - val_loss: 0.0966 - val_accuracy: 0.9722\n",
      "Epoch 193/200\n",
      "48000/48000 [==============================] - 0s 10us/sample - loss: 0.0172 - accuracy: 0.9976 - val_loss: 0.0968 - val_accuracy: 0.9724\n",
      "Epoch 194/200\n",
      "48000/48000 [==============================] - 1s 11us/sample - loss: 0.0172 - accuracy: 0.9974 - val_loss: 0.0965 - val_accuracy: 0.9722\n",
      "Epoch 195/200\n",
      "48000/48000 [==============================] - 0s 10us/sample - loss: 0.0169 - accuracy: 0.9976 - val_loss: 0.0969 - val_accuracy: 0.9725\n",
      "Epoch 196/200\n",
      "48000/48000 [==============================] - 0s 10us/sample - loss: 0.0167 - accuracy: 0.9976 - val_loss: 0.0963 - val_accuracy: 0.9729\n",
      "Epoch 197/200\n",
      "48000/48000 [==============================] - 1s 10us/sample - loss: 0.0166 - accuracy: 0.9975 - val_loss: 0.0964 - val_accuracy: 0.9723\n",
      "Epoch 198/200\n",
      "48000/48000 [==============================] - 1s 10us/sample - loss: 0.0164 - accuracy: 0.9976 - val_loss: 0.0962 - val_accuracy: 0.9724\n",
      "Epoch 199/200\n",
      "48000/48000 [==============================] - 0s 10us/sample - loss: 0.0163 - accuracy: 0.9976 - val_loss: 0.0966 - val_accuracy: 0.9723\n",
      "Epoch 200/200\n",
      "48000/48000 [==============================] - 0s 10us/sample - loss: 0.0161 - accuracy: 0.9977 - val_loss: 0.0970 - val_accuracy: 0.9718\n"
     ]
    },
    {
     "data": {
      "text/plain": [
       "<tensorflow.python.keras.callbacks.History at 0x23d8c540608>"
      ]
     },
     "execution_count": 86,
     "metadata": {},
     "output_type": "execute_result"
    }
   ],
   "source": [
    "# 모델 훈련\n",
    "model.fit(x_train, y_train, \n",
    "          batch_size = batch_size, \n",
    "          epochs = epochs, \n",
    "         verbose = verbose, \n",
    "         validation_split =  validation_split)"
   ]
  },
  {
   "cell_type": "code",
   "execution_count": 87,
   "metadata": {},
   "outputs": [
    {
     "name": "stdout",
     "output_type": "stream",
     "text": [
      "10000/10000 [==============================] - 0s 18us/sample - loss: 0.0803 - accuracy: 0.9767\n",
      "Test accuracy :  0.9767\n"
     ]
    }
   ],
   "source": [
    "# 모델 평가\n",
    "test_loss, test_acc = model.evaluate(x_test, y_test)\n",
    "print('Test accuracy : ',test_acc)"
   ]
  },
  {
   "cell_type": "markdown",
   "metadata": {},
   "source": [
    "### 정확도 97% 로 92%에서 개선됐음을 볼 수 있음"
   ]
  }
 ],
 "metadata": {
  "kernelspec": {
   "display_name": "Python 3",
   "language": "python",
   "name": "python3"
  },
  "language_info": {
   "codemirror_mode": {
    "name": "ipython",
    "version": 3
   },
   "file_extension": ".py",
   "mimetype": "text/x-python",
   "name": "python",
   "nbconvert_exporter": "python",
   "pygments_lexer": "ipython3",
   "version": "3.7.7"
  }
 },
 "nbformat": 4,
 "nbformat_minor": 4
}
