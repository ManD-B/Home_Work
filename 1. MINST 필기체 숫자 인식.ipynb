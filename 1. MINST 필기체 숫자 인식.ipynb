{
 "cells": [
  {
   "cell_type": "markdown",
   "metadata": {},
   "source": [
    "# MINST 해보자"
   ]
  },
  {
   "cell_type": "code",
   "execution_count": 16,
   "metadata": {},
   "outputs": [],
   "source": [
    "import tensorflow as tf"
   ]
  },
  {
   "cell_type": "code",
   "execution_count": 17,
   "metadata": {},
   "outputs": [],
   "source": [
    "import numpy as np"
   ]
  },
  {
   "cell_type": "code",
   "execution_count": 18,
   "metadata": {},
   "outputs": [],
   "source": [
    "from tensorflow import keras"
   ]
  },
  {
   "cell_type": "code",
   "execution_count": 19,
   "metadata": {},
   "outputs": [],
   "source": [
    "# 신경망과 훈련 매개변수\n",
    "epochs = 200\n",
    "batch_size = 128\n",
    "verbose = 1\n",
    "nb_classes = 10     # 출력 개수 = 숫자의 개수\n",
    "n_hidden = 128\n",
    "validation_split = 0.2     # 검증을 위해 남겨둔 훈련 데이터"
   ]
  },
  {
   "cell_type": "code",
   "execution_count": 20,
   "metadata": {},
   "outputs": [],
   "source": [
    "# MINST 데이터셋 로드\n",
    "mnist = keras.datasets.mnist\n",
    "(x_train, y_train), (x_test, y_test) = mnist.load_data()"
   ]
  },
  {
   "cell_type": "code",
   "execution_count": 21,
   "metadata": {},
   "outputs": [
    {
     "data": {
      "text/plain": [
       "(60000, 28, 28)"
      ]
     },
     "execution_count": 21,
     "metadata": {},
     "output_type": "execute_result"
    }
   ],
   "source": [
    "x_train.shape"
   ]
  },
  {
   "cell_type": "code",
   "execution_count": 22,
   "metadata": {},
   "outputs": [],
   "source": [
    "# 이를 28x28에서 60000, 784로 바꿔줌\n",
    "reshaped = 784\n",
    "x_train = x_train.reshape(60000, reshaped)\n",
    "x_test = x_test.reshape(10000, reshaped)"
   ]
  },
  {
   "cell_type": "code",
   "execution_count": 23,
   "metadata": {},
   "outputs": [
    {
     "data": {
      "text/plain": [
       "(60000, 784)"
      ]
     },
     "execution_count": 23,
     "metadata": {},
     "output_type": "execute_result"
    }
   ],
   "source": [
    "x_train.shape"
   ]
  },
  {
   "cell_type": "code",
   "execution_count": 24,
   "metadata": {},
   "outputs": [],
   "source": [
    "x_train = x_train.astype('float32')\n",
    "x_test = x_test.astype('float32')"
   ]
  },
  {
   "cell_type": "code",
   "execution_count": 25,
   "metadata": {},
   "outputs": [
    {
     "name": "stdout",
     "output_type": "stream",
     "text": [
      "60000 train samples\n",
      "10000 test samples\n"
     ]
    }
   ],
   "source": [
    "# 픽셀값은 0~255인데 이를 255로 나눠줌으로써 0~1 사이로 정규화시킴\n",
    "x_train /= 255\n",
    "x_test /= 255\n",
    "print(x_train.shape[0], 'train samples')\n",
    "print(x_test.shape[0], 'test samples')"
   ]
  },
  {
   "cell_type": "code",
   "execution_count": 26,
   "metadata": {},
   "outputs": [],
   "source": [
    "# 원핫 인코딩\n",
    "y_train = tf.keras.utils.to_categorical(y_train, nb_classes)\n",
    "y_test = tf.keras.utils.to_categorical(y_test, nb_classes)"
   ]
  },
  {
   "cell_type": "code",
   "execution_count": 27,
   "metadata": {},
   "outputs": [
    {
     "name": "stdout",
     "output_type": "stream",
     "text": [
      "Model: \"sequential\"\n",
      "_________________________________________________________________\n",
      "Layer (type)                 Output Shape              Param #   \n",
      "=================================================================\n",
      "dense_layer (Dense)          (None, 10)                7850      \n",
      "=================================================================\n",
      "Total params: 7,850\n",
      "Trainable params: 7,850\n",
      "Non-trainable params: 0\n",
      "_________________________________________________________________\n"
     ]
    }
   ],
   "source": [
    "# 모델 구축\n",
    "model = tf.keras.models.Sequential()\n",
    "model.add(keras.layers.Dense(nb_classes,\n",
    "                            input_shape = (reshaped,),\n",
    "                            name = 'dense_layer',\n",
    "                            activation = 'softmax'))\n",
    "model.summary()"
   ]
  },
  {
   "cell_type": "code",
   "execution_count": 28,
   "metadata": {},
   "outputs": [],
   "source": [
    "# 모델 컴파일\n",
    "model.compile(optimizer = 'SGD',   # 확률적 그래디언트 하강\n",
    "             loss = 'categorical_crossentropy',\n",
    "             metrics = ['accuracy'])"
   ]
  },
  {
   "cell_type": "code",
   "execution_count": 29,
   "metadata": {
    "scrolled": true
   },
   "outputs": [
    {
     "name": "stdout",
     "output_type": "stream",
     "text": [
      "Train on 48000 samples, validate on 12000 samples\n",
      "Epoch 1/200\n",
      "48000/48000 [==============================] - 1s 13us/sample - loss: 1.4015 - accuracy: 0.6619 - val_loss: 0.9007 - val_accuracy: 0.8309\n",
      "Epoch 2/200\n",
      "48000/48000 [==============================] - 0s 8us/sample - loss: 0.7941 - accuracy: 0.8333 - val_loss: 0.6567 - val_accuracy: 0.8613\n",
      "Epoch 3/200\n",
      "48000/48000 [==============================] - 0s 8us/sample - loss: 0.6418 - accuracy: 0.8534 - val_loss: 0.5599 - val_accuracy: 0.8712\n",
      "Epoch 4/200\n",
      "48000/48000 [==============================] - 0s 7us/sample - loss: 0.5690 - accuracy: 0.8634 - val_loss: 0.5068 - val_accuracy: 0.8777\n",
      "Epoch 5/200\n",
      "48000/48000 [==============================] - 0s 8us/sample - loss: 0.5247 - accuracy: 0.8705 - val_loss: 0.4726 - val_accuracy: 0.8832\n",
      "Epoch 6/200\n",
      "48000/48000 [==============================] - 0s 8us/sample - loss: 0.4946 - accuracy: 0.8749 - val_loss: 0.4484 - val_accuracy: 0.8863\n",
      "Epoch 7/200\n",
      "48000/48000 [==============================] - 0s 7us/sample - loss: 0.4722 - accuracy: 0.8791 - val_loss: 0.4305 - val_accuracy: 0.8890\n",
      "Epoch 8/200\n",
      "48000/48000 [==============================] - 0s 8us/sample - loss: 0.4550 - accuracy: 0.8817 - val_loss: 0.4165 - val_accuracy: 0.8920\n",
      "Epoch 9/200\n",
      "48000/48000 [==============================] - 0s 8us/sample - loss: 0.4411 - accuracy: 0.8847 - val_loss: 0.4050 - val_accuracy: 0.8941\n",
      "Epoch 10/200\n",
      "48000/48000 [==============================] - 0s 8us/sample - loss: 0.4296 - accuracy: 0.8863 - val_loss: 0.3954 - val_accuracy: 0.8961\n",
      "Epoch 11/200\n",
      "48000/48000 [==============================] - 0s 8us/sample - loss: 0.4199 - accuracy: 0.8883 - val_loss: 0.3873 - val_accuracy: 0.8982\n",
      "Epoch 12/200\n",
      "48000/48000 [==============================] - 0s 8us/sample - loss: 0.4116 - accuracy: 0.8896 - val_loss: 0.3804 - val_accuracy: 0.8993\n",
      "Epoch 13/200\n",
      "48000/48000 [==============================] - 0s 8us/sample - loss: 0.4043 - accuracy: 0.8910 - val_loss: 0.3743 - val_accuracy: 0.8999\n",
      "Epoch 14/200\n",
      "48000/48000 [==============================] - 0s 8us/sample - loss: 0.3979 - accuracy: 0.8926 - val_loss: 0.3692 - val_accuracy: 0.9013\n",
      "Epoch 15/200\n",
      "48000/48000 [==============================] - 0s 8us/sample - loss: 0.3922 - accuracy: 0.8940 - val_loss: 0.3644 - val_accuracy: 0.9018\n",
      "Epoch 16/200\n",
      "48000/48000 [==============================] - 0s 8us/sample - loss: 0.3871 - accuracy: 0.8952 - val_loss: 0.3602 - val_accuracy: 0.9030\n",
      "Epoch 17/200\n",
      "48000/48000 [==============================] - 0s 8us/sample - loss: 0.3824 - accuracy: 0.8962 - val_loss: 0.3565 - val_accuracy: 0.9036\n",
      "Epoch 18/200\n",
      "48000/48000 [==============================] - 0s 8us/sample - loss: 0.3782 - accuracy: 0.8968 - val_loss: 0.3530 - val_accuracy: 0.9047\n",
      "Epoch 19/200\n",
      "48000/48000 [==============================] - 0s 8us/sample - loss: 0.3744 - accuracy: 0.8980 - val_loss: 0.3497 - val_accuracy: 0.9059\n",
      "Epoch 20/200\n",
      "48000/48000 [==============================] - 0s 8us/sample - loss: 0.3708 - accuracy: 0.8989 - val_loss: 0.3469 - val_accuracy: 0.9062\n",
      "Epoch 21/200\n",
      "48000/48000 [==============================] - 0s 7us/sample - loss: 0.3675 - accuracy: 0.8998 - val_loss: 0.3441 - val_accuracy: 0.9069\n",
      "Epoch 22/200\n",
      "48000/48000 [==============================] - 0s 7us/sample - loss: 0.3645 - accuracy: 0.9005 - val_loss: 0.3416 - val_accuracy: 0.9072\n",
      "Epoch 23/200\n",
      "48000/48000 [==============================] - 0s 7us/sample - loss: 0.3616 - accuracy: 0.9010 - val_loss: 0.3392 - val_accuracy: 0.9074\n",
      "Epoch 24/200\n",
      "48000/48000 [==============================] - 0s 7us/sample - loss: 0.3590 - accuracy: 0.9016 - val_loss: 0.3371 - val_accuracy: 0.9091\n",
      "Epoch 25/200\n",
      "48000/48000 [==============================] - 0s 7us/sample - loss: 0.3564 - accuracy: 0.9020 - val_loss: 0.3351 - val_accuracy: 0.9086\n",
      "Epoch 26/200\n",
      "48000/48000 [==============================] - 0s 7us/sample - loss: 0.3541 - accuracy: 0.9026 - val_loss: 0.3332 - val_accuracy: 0.9096\n",
      "Epoch 27/200\n",
      "48000/48000 [==============================] - 0s 8us/sample - loss: 0.3519 - accuracy: 0.9030 - val_loss: 0.3314 - val_accuracy: 0.9095\n",
      "Epoch 28/200\n",
      "48000/48000 [==============================] - 0s 8us/sample - loss: 0.3498 - accuracy: 0.9035 - val_loss: 0.3296 - val_accuracy: 0.9093\n",
      "Epoch 29/200\n",
      "48000/48000 [==============================] - 0s 8us/sample - loss: 0.3478 - accuracy: 0.9041 - val_loss: 0.3281 - val_accuracy: 0.9096\n",
      "Epoch 30/200\n",
      "48000/48000 [==============================] - 0s 8us/sample - loss: 0.3459 - accuracy: 0.9047 - val_loss: 0.3264 - val_accuracy: 0.9107\n",
      "Epoch 31/200\n",
      "48000/48000 [==============================] - 0s 7us/sample - loss: 0.3441 - accuracy: 0.9052 - val_loss: 0.3252 - val_accuracy: 0.9104\n",
      "Epoch 32/200\n",
      "48000/48000 [==============================] - 0s 8us/sample - loss: 0.3424 - accuracy: 0.9057 - val_loss: 0.3236 - val_accuracy: 0.9114\n",
      "Epoch 33/200\n",
      "48000/48000 [==============================] - 0s 8us/sample - loss: 0.3408 - accuracy: 0.9061 - val_loss: 0.3223 - val_accuracy: 0.9118\n",
      "Epoch 34/200\n",
      "48000/48000 [==============================] - 0s 8us/sample - loss: 0.3392 - accuracy: 0.9067 - val_loss: 0.3211 - val_accuracy: 0.9121\n",
      "Epoch 35/200\n",
      "48000/48000 [==============================] - 0s 7us/sample - loss: 0.3378 - accuracy: 0.9069 - val_loss: 0.3199 - val_accuracy: 0.9129\n",
      "Epoch 36/200\n",
      "48000/48000 [==============================] - 0s 8us/sample - loss: 0.3363 - accuracy: 0.9073 - val_loss: 0.3188 - val_accuracy: 0.9125\n",
      "Epoch 37/200\n",
      "48000/48000 [==============================] - 0s 7us/sample - loss: 0.3350 - accuracy: 0.9078 - val_loss: 0.3177 - val_accuracy: 0.9122\n",
      "Epoch 38/200\n",
      "48000/48000 [==============================] - 0s 8us/sample - loss: 0.3336 - accuracy: 0.9082 - val_loss: 0.3166 - val_accuracy: 0.9132\n",
      "Epoch 39/200\n",
      "48000/48000 [==============================] - 0s 7us/sample - loss: 0.3324 - accuracy: 0.9084 - val_loss: 0.3156 - val_accuracy: 0.9130\n",
      "Epoch 40/200\n",
      "48000/48000 [==============================] - 0s 7us/sample - loss: 0.3312 - accuracy: 0.9086 - val_loss: 0.3147 - val_accuracy: 0.9137\n",
      "Epoch 41/200\n",
      "48000/48000 [==============================] - 0s 8us/sample - loss: 0.3300 - accuracy: 0.9087 - val_loss: 0.3137 - val_accuracy: 0.9136\n",
      "Epoch 42/200\n",
      "48000/48000 [==============================] - 0s 7us/sample - loss: 0.3289 - accuracy: 0.9094 - val_loss: 0.3129 - val_accuracy: 0.9137\n",
      "Epoch 43/200\n",
      "48000/48000 [==============================] - 0s 8us/sample - loss: 0.3277 - accuracy: 0.9094 - val_loss: 0.3120 - val_accuracy: 0.9138\n",
      "Epoch 44/200\n",
      "48000/48000 [==============================] - 0s 8us/sample - loss: 0.3267 - accuracy: 0.9096 - val_loss: 0.3111 - val_accuracy: 0.9143\n",
      "Epoch 45/200\n",
      "48000/48000 [==============================] - 0s 8us/sample - loss: 0.3257 - accuracy: 0.9098 - val_loss: 0.3104 - val_accuracy: 0.9147\n",
      "Epoch 46/200\n",
      "48000/48000 [==============================] - 0s 8us/sample - loss: 0.3247 - accuracy: 0.9105 - val_loss: 0.3096 - val_accuracy: 0.9144\n",
      "Epoch 47/200\n",
      "48000/48000 [==============================] - 0s 8us/sample - loss: 0.3237 - accuracy: 0.9106 - val_loss: 0.3089 - val_accuracy: 0.9146\n",
      "Epoch 48/200\n",
      "48000/48000 [==============================] - 0s 7us/sample - loss: 0.3228 - accuracy: 0.9106 - val_loss: 0.3080 - val_accuracy: 0.9149\n",
      "Epoch 49/200\n",
      "48000/48000 [==============================] - 0s 7us/sample - loss: 0.3219 - accuracy: 0.9111 - val_loss: 0.3074 - val_accuracy: 0.9148\n",
      "Epoch 50/200\n",
      "48000/48000 [==============================] - 0s 8us/sample - loss: 0.3210 - accuracy: 0.9109 - val_loss: 0.3066 - val_accuracy: 0.9153\n",
      "Epoch 51/200\n",
      "48000/48000 [==============================] - 0s 8us/sample - loss: 0.3202 - accuracy: 0.9110 - val_loss: 0.3060 - val_accuracy: 0.9151\n",
      "Epoch 52/200\n",
      "48000/48000 [==============================] - 0s 8us/sample - loss: 0.3194 - accuracy: 0.9119 - val_loss: 0.3054 - val_accuracy: 0.9149\n",
      "Epoch 53/200\n",
      "48000/48000 [==============================] - 0s 7us/sample - loss: 0.3186 - accuracy: 0.9118 - val_loss: 0.3047 - val_accuracy: 0.9150\n",
      "Epoch 54/200\n",
      "48000/48000 [==============================] - 0s 7us/sample - loss: 0.3178 - accuracy: 0.9122 - val_loss: 0.3041 - val_accuracy: 0.9151\n",
      "Epoch 55/200\n"
     ]
    },
    {
     "name": "stdout",
     "output_type": "stream",
     "text": [
      "48000/48000 [==============================] - 0s 8us/sample - loss: 0.3170 - accuracy: 0.9125 - val_loss: 0.3036 - val_accuracy: 0.9150\n",
      "Epoch 56/200\n",
      "48000/48000 [==============================] - 0s 8us/sample - loss: 0.3163 - accuracy: 0.9126 - val_loss: 0.3030 - val_accuracy: 0.9153\n",
      "Epoch 57/200\n",
      "48000/48000 [==============================] - 0s 8us/sample - loss: 0.3156 - accuracy: 0.9128 - val_loss: 0.3025 - val_accuracy: 0.9155\n",
      "Epoch 58/200\n",
      "48000/48000 [==============================] - 0s 8us/sample - loss: 0.3149 - accuracy: 0.9130 - val_loss: 0.3019 - val_accuracy: 0.9156\n",
      "Epoch 59/200\n",
      "48000/48000 [==============================] - 0s 8us/sample - loss: 0.3141 - accuracy: 0.9132 - val_loss: 0.3013 - val_accuracy: 0.9162\n",
      "Epoch 60/200\n",
      "48000/48000 [==============================] - 0s 8us/sample - loss: 0.3135 - accuracy: 0.9134 - val_loss: 0.3008 - val_accuracy: 0.9161\n",
      "Epoch 61/200\n",
      "48000/48000 [==============================] - 0s 8us/sample - loss: 0.3129 - accuracy: 0.9135 - val_loss: 0.3004 - val_accuracy: 0.9161\n",
      "Epoch 62/200\n",
      "48000/48000 [==============================] - 0s 8us/sample - loss: 0.3122 - accuracy: 0.9136 - val_loss: 0.2998 - val_accuracy: 0.9163\n",
      "Epoch 63/200\n",
      "48000/48000 [==============================] - 0s 8us/sample - loss: 0.3116 - accuracy: 0.9140 - val_loss: 0.2994 - val_accuracy: 0.9165\n",
      "Epoch 64/200\n",
      "48000/48000 [==============================] - 0s 8us/sample - loss: 0.3110 - accuracy: 0.9141 - val_loss: 0.2990 - val_accuracy: 0.9163\n",
      "Epoch 65/200\n",
      "48000/48000 [==============================] - 0s 8us/sample - loss: 0.3104 - accuracy: 0.9140 - val_loss: 0.2984 - val_accuracy: 0.9172\n",
      "Epoch 66/200\n",
      "48000/48000 [==============================] - 0s 8us/sample - loss: 0.3098 - accuracy: 0.9145 - val_loss: 0.2981 - val_accuracy: 0.9172\n",
      "Epoch 67/200\n",
      "48000/48000 [==============================] - 0s 8us/sample - loss: 0.3092 - accuracy: 0.9144 - val_loss: 0.2976 - val_accuracy: 0.9172\n",
      "Epoch 68/200\n",
      "48000/48000 [==============================] - 0s 8us/sample - loss: 0.3087 - accuracy: 0.9148 - val_loss: 0.2972 - val_accuracy: 0.9173\n",
      "Epoch 69/200\n",
      "48000/48000 [==============================] - 0s 8us/sample - loss: 0.3081 - accuracy: 0.9148 - val_loss: 0.2968 - val_accuracy: 0.9172\n",
      "Epoch 70/200\n",
      "48000/48000 [==============================] - 0s 8us/sample - loss: 0.3076 - accuracy: 0.9148 - val_loss: 0.2963 - val_accuracy: 0.9176\n",
      "Epoch 71/200\n",
      "48000/48000 [==============================] - 0s 8us/sample - loss: 0.3071 - accuracy: 0.9153 - val_loss: 0.2960 - val_accuracy: 0.9172\n",
      "Epoch 72/200\n",
      "48000/48000 [==============================] - 0s 8us/sample - loss: 0.3066 - accuracy: 0.9152 - val_loss: 0.2956 - val_accuracy: 0.9172\n",
      "Epoch 73/200\n",
      "48000/48000 [==============================] - 0s 8us/sample - loss: 0.3061 - accuracy: 0.9153 - val_loss: 0.2953 - val_accuracy: 0.9175\n",
      "Epoch 74/200\n",
      "48000/48000 [==============================] - 0s 8us/sample - loss: 0.3056 - accuracy: 0.9154 - val_loss: 0.2949 - val_accuracy: 0.9178\n",
      "Epoch 75/200\n",
      "48000/48000 [==============================] - 0s 8us/sample - loss: 0.3051 - accuracy: 0.9157 - val_loss: 0.2945 - val_accuracy: 0.9172\n",
      "Epoch 76/200\n",
      "48000/48000 [==============================] - 0s 8us/sample - loss: 0.3047 - accuracy: 0.9156 - val_loss: 0.2941 - val_accuracy: 0.9178\n",
      "Epoch 77/200\n",
      "48000/48000 [==============================] - 0s 8us/sample - loss: 0.3041 - accuracy: 0.9159 - val_loss: 0.2938 - val_accuracy: 0.9182\n",
      "Epoch 78/200\n",
      "48000/48000 [==============================] - 0s 8us/sample - loss: 0.3037 - accuracy: 0.9162 - val_loss: 0.2935 - val_accuracy: 0.9180\n",
      "Epoch 79/200\n",
      "48000/48000 [==============================] - 0s 8us/sample - loss: 0.3033 - accuracy: 0.9158 - val_loss: 0.2932 - val_accuracy: 0.9182\n",
      "Epoch 80/200\n",
      "48000/48000 [==============================] - 0s 8us/sample - loss: 0.3028 - accuracy: 0.9160 - val_loss: 0.2928 - val_accuracy: 0.9183\n",
      "Epoch 81/200\n",
      "48000/48000 [==============================] - 0s 8us/sample - loss: 0.3024 - accuracy: 0.9162 - val_loss: 0.2926 - val_accuracy: 0.9186\n",
      "Epoch 82/200\n",
      "48000/48000 [==============================] - 0s 8us/sample - loss: 0.3020 - accuracy: 0.9163 - val_loss: 0.2922 - val_accuracy: 0.9188\n",
      "Epoch 83/200\n",
      "48000/48000 [==============================] - 0s 8us/sample - loss: 0.3016 - accuracy: 0.9162 - val_loss: 0.2919 - val_accuracy: 0.9188\n",
      "Epoch 84/200\n",
      "48000/48000 [==============================] - 0s 8us/sample - loss: 0.3012 - accuracy: 0.9164 - val_loss: 0.2916 - val_accuracy: 0.9187\n",
      "Epoch 85/200\n",
      "48000/48000 [==============================] - 0s 8us/sample - loss: 0.3008 - accuracy: 0.9168 - val_loss: 0.2913 - val_accuracy: 0.9187\n",
      "Epoch 86/200\n",
      "48000/48000 [==============================] - 0s 8us/sample - loss: 0.3003 - accuracy: 0.9166 - val_loss: 0.2910 - val_accuracy: 0.9192\n",
      "Epoch 87/200\n",
      "48000/48000 [==============================] - 0s 8us/sample - loss: 0.3000 - accuracy: 0.9169 - val_loss: 0.2907 - val_accuracy: 0.9190\n",
      "Epoch 88/200\n",
      "48000/48000 [==============================] - 0s 8us/sample - loss: 0.2996 - accuracy: 0.9172 - val_loss: 0.2905 - val_accuracy: 0.9193\n",
      "Epoch 89/200\n",
      "48000/48000 [==============================] - 0s 8us/sample - loss: 0.2992 - accuracy: 0.9170 - val_loss: 0.2901 - val_accuracy: 0.9190\n",
      "Epoch 90/200\n",
      "48000/48000 [==============================] - 0s 8us/sample - loss: 0.2988 - accuracy: 0.9170 - val_loss: 0.2899 - val_accuracy: 0.9191\n",
      "Epoch 91/200\n",
      "48000/48000 [==============================] - 0s 8us/sample - loss: 0.2984 - accuracy: 0.9172 - val_loss: 0.2898 - val_accuracy: 0.9190\n",
      "Epoch 92/200\n",
      "48000/48000 [==============================] - 0s 8us/sample - loss: 0.2981 - accuracy: 0.9172 - val_loss: 0.2894 - val_accuracy: 0.9195\n",
      "Epoch 93/200\n",
      "48000/48000 [==============================] - 0s 8us/sample - loss: 0.2978 - accuracy: 0.9178 - val_loss: 0.2891 - val_accuracy: 0.9195\n",
      "Epoch 94/200\n",
      "48000/48000 [==============================] - 0s 8us/sample - loss: 0.2974 - accuracy: 0.9172 - val_loss: 0.2889 - val_accuracy: 0.9195\n",
      "Epoch 95/200\n",
      "48000/48000 [==============================] - 0s 8us/sample - loss: 0.2971 - accuracy: 0.9175 - val_loss: 0.2887 - val_accuracy: 0.9199\n",
      "Epoch 96/200\n",
      "48000/48000 [==============================] - 0s 8us/sample - loss: 0.2967 - accuracy: 0.9176 - val_loss: 0.2885 - val_accuracy: 0.9196\n",
      "Epoch 97/200\n",
      "48000/48000 [==============================] - 0s 8us/sample - loss: 0.2964 - accuracy: 0.9174 - val_loss: 0.2881 - val_accuracy: 0.9192\n",
      "Epoch 98/200\n",
      "48000/48000 [==============================] - 0s 8us/sample - loss: 0.2960 - accuracy: 0.9176 - val_loss: 0.2881 - val_accuracy: 0.9197\n",
      "Epoch 99/200\n",
      "48000/48000 [==============================] - 0s 8us/sample - loss: 0.2958 - accuracy: 0.9180 - val_loss: 0.2877 - val_accuracy: 0.9198\n",
      "Epoch 100/200\n",
      "48000/48000 [==============================] - 0s 8us/sample - loss: 0.2954 - accuracy: 0.9178 - val_loss: 0.2875 - val_accuracy: 0.9197\n",
      "Epoch 101/200\n",
      "48000/48000 [==============================] - 0s 8us/sample - loss: 0.2951 - accuracy: 0.9180 - val_loss: 0.2873 - val_accuracy: 0.9201\n",
      "Epoch 102/200\n",
      "48000/48000 [==============================] - 0s 8us/sample - loss: 0.2948 - accuracy: 0.9178 - val_loss: 0.2870 - val_accuracy: 0.9202\n",
      "Epoch 103/200\n",
      "48000/48000 [==============================] - 0s 8us/sample - loss: 0.2945 - accuracy: 0.9180 - val_loss: 0.2868 - val_accuracy: 0.9202\n",
      "Epoch 104/200\n",
      "48000/48000 [==============================] - 0s 8us/sample - loss: 0.2942 - accuracy: 0.9183 - val_loss: 0.2866 - val_accuracy: 0.9202\n",
      "Epoch 105/200\n",
      "48000/48000 [==============================] - 0s 8us/sample - loss: 0.2939 - accuracy: 0.9183 - val_loss: 0.2865 - val_accuracy: 0.9200\n",
      "Epoch 106/200\n",
      "48000/48000 [==============================] - 0s 8us/sample - loss: 0.2936 - accuracy: 0.9183 - val_loss: 0.2862 - val_accuracy: 0.9202\n",
      "Epoch 107/200\n",
      "48000/48000 [==============================] - 0s 8us/sample - loss: 0.2933 - accuracy: 0.9183 - val_loss: 0.2860 - val_accuracy: 0.9203\n",
      "Epoch 108/200\n",
      "48000/48000 [==============================] - 0s 8us/sample - loss: 0.2930 - accuracy: 0.9187 - val_loss: 0.2858 - val_accuracy: 0.9202\n",
      "Epoch 109/200\n"
     ]
    },
    {
     "name": "stdout",
     "output_type": "stream",
     "text": [
      "48000/48000 [==============================] - 0s 8us/sample - loss: 0.2927 - accuracy: 0.9186 - val_loss: 0.2856 - val_accuracy: 0.9203\n",
      "Epoch 110/200\n",
      "48000/48000 [==============================] - 0s 8us/sample - loss: 0.2925 - accuracy: 0.9186 - val_loss: 0.2854 - val_accuracy: 0.9205\n",
      "Epoch 111/200\n",
      "48000/48000 [==============================] - 0s 8us/sample - loss: 0.2922 - accuracy: 0.9187 - val_loss: 0.2852 - val_accuracy: 0.9203\n",
      "Epoch 112/200\n",
      "48000/48000 [==============================] - 0s 8us/sample - loss: 0.2919 - accuracy: 0.9191 - val_loss: 0.2851 - val_accuracy: 0.9203\n",
      "Epoch 113/200\n",
      "48000/48000 [==============================] - 0s 7us/sample - loss: 0.2917 - accuracy: 0.9191 - val_loss: 0.2849 - val_accuracy: 0.9205\n",
      "Epoch 114/200\n",
      "48000/48000 [==============================] - 0s 8us/sample - loss: 0.2914 - accuracy: 0.9188 - val_loss: 0.2846 - val_accuracy: 0.9203\n",
      "Epoch 115/200\n",
      "48000/48000 [==============================] - 0s 8us/sample - loss: 0.2911 - accuracy: 0.9191 - val_loss: 0.2846 - val_accuracy: 0.9205\n",
      "Epoch 116/200\n",
      "48000/48000 [==============================] - 0s 8us/sample - loss: 0.2909 - accuracy: 0.9190 - val_loss: 0.2843 - val_accuracy: 0.9205\n",
      "Epoch 117/200\n",
      "48000/48000 [==============================] - 0s 7us/sample - loss: 0.2906 - accuracy: 0.9194 - val_loss: 0.2842 - val_accuracy: 0.9206\n",
      "Epoch 118/200\n",
      "48000/48000 [==============================] - 0s 8us/sample - loss: 0.2903 - accuracy: 0.9190 - val_loss: 0.2839 - val_accuracy: 0.9208\n",
      "Epoch 119/200\n",
      "48000/48000 [==============================] - 0s 8us/sample - loss: 0.2901 - accuracy: 0.9193 - val_loss: 0.2838 - val_accuracy: 0.9204\n",
      "Epoch 120/200\n",
      "48000/48000 [==============================] - 0s 8us/sample - loss: 0.2899 - accuracy: 0.9196 - val_loss: 0.2836 - val_accuracy: 0.9206\n",
      "Epoch 121/200\n",
      "48000/48000 [==============================] - 0s 8us/sample - loss: 0.2896 - accuracy: 0.9198 - val_loss: 0.2836 - val_accuracy: 0.9206\n",
      "Epoch 122/200\n",
      "48000/48000 [==============================] - 0s 8us/sample - loss: 0.2894 - accuracy: 0.9196 - val_loss: 0.2833 - val_accuracy: 0.9208\n",
      "Epoch 123/200\n",
      "48000/48000 [==============================] - 0s 8us/sample - loss: 0.2891 - accuracy: 0.9198 - val_loss: 0.2832 - val_accuracy: 0.9208\n",
      "Epoch 124/200\n",
      "48000/48000 [==============================] - 0s 8us/sample - loss: 0.2889 - accuracy: 0.9197 - val_loss: 0.2830 - val_accuracy: 0.9209\n",
      "Epoch 125/200\n",
      "48000/48000 [==============================] - 0s 8us/sample - loss: 0.2887 - accuracy: 0.9197 - val_loss: 0.2829 - val_accuracy: 0.9207\n",
      "Epoch 126/200\n",
      "48000/48000 [==============================] - 0s 8us/sample - loss: 0.2884 - accuracy: 0.9197 - val_loss: 0.2827 - val_accuracy: 0.9212\n",
      "Epoch 127/200\n",
      "48000/48000 [==============================] - 0s 8us/sample - loss: 0.2882 - accuracy: 0.9198 - val_loss: 0.2825 - val_accuracy: 0.9217\n",
      "Epoch 128/200\n",
      "48000/48000 [==============================] - 0s 8us/sample - loss: 0.2880 - accuracy: 0.9200 - val_loss: 0.2824 - val_accuracy: 0.9212\n",
      "Epoch 129/200\n",
      "48000/48000 [==============================] - 0s 8us/sample - loss: 0.2878 - accuracy: 0.9201 - val_loss: 0.2822 - val_accuracy: 0.9212\n",
      "Epoch 130/200\n",
      "48000/48000 [==============================] - 0s 8us/sample - loss: 0.2875 - accuracy: 0.9200 - val_loss: 0.2821 - val_accuracy: 0.9216\n",
      "Epoch 131/200\n",
      "48000/48000 [==============================] - 0s 8us/sample - loss: 0.2873 - accuracy: 0.9202 - val_loss: 0.2819 - val_accuracy: 0.9214\n",
      "Epoch 132/200\n",
      "48000/48000 [==============================] - 0s 8us/sample - loss: 0.2871 - accuracy: 0.9201 - val_loss: 0.2817 - val_accuracy: 0.9217\n",
      "Epoch 133/200\n",
      "48000/48000 [==============================] - 0s 8us/sample - loss: 0.2869 - accuracy: 0.9204 - val_loss: 0.2816 - val_accuracy: 0.9218\n",
      "Epoch 134/200\n",
      "48000/48000 [==============================] - 0s 8us/sample - loss: 0.2866 - accuracy: 0.9206 - val_loss: 0.2815 - val_accuracy: 0.9216\n",
      "Epoch 135/200\n",
      "48000/48000 [==============================] - 0s 8us/sample - loss: 0.2865 - accuracy: 0.9204 - val_loss: 0.2814 - val_accuracy: 0.9218\n",
      "Epoch 136/200\n",
      "48000/48000 [==============================] - 0s 8us/sample - loss: 0.2863 - accuracy: 0.9206 - val_loss: 0.2812 - val_accuracy: 0.9217\n",
      "Epoch 137/200\n",
      "48000/48000 [==============================] - 0s 8us/sample - loss: 0.2860 - accuracy: 0.9207 - val_loss: 0.2812 - val_accuracy: 0.9217\n",
      "Epoch 138/200\n",
      "48000/48000 [==============================] - 0s 8us/sample - loss: 0.2859 - accuracy: 0.9205 - val_loss: 0.2810 - val_accuracy: 0.9218\n",
      "Epoch 139/200\n",
      "48000/48000 [==============================] - 0s 8us/sample - loss: 0.2857 - accuracy: 0.9204 - val_loss: 0.2808 - val_accuracy: 0.9218\n",
      "Epoch 140/200\n",
      "48000/48000 [==============================] - 0s 8us/sample - loss: 0.2855 - accuracy: 0.9207 - val_loss: 0.2807 - val_accuracy: 0.9219\n",
      "Epoch 141/200\n",
      "48000/48000 [==============================] - 0s 8us/sample - loss: 0.2853 - accuracy: 0.9208 - val_loss: 0.2806 - val_accuracy: 0.9218\n",
      "Epoch 142/200\n",
      "48000/48000 [==============================] - 0s 8us/sample - loss: 0.2851 - accuracy: 0.9208 - val_loss: 0.2805 - val_accuracy: 0.9218\n",
      "Epoch 143/200\n",
      "48000/48000 [==============================] - 0s 8us/sample - loss: 0.2849 - accuracy: 0.9209 - val_loss: 0.2804 - val_accuracy: 0.9221\n",
      "Epoch 144/200\n",
      "48000/48000 [==============================] - 0s 8us/sample - loss: 0.2847 - accuracy: 0.9211 - val_loss: 0.2802 - val_accuracy: 0.9220\n",
      "Epoch 145/200\n",
      "48000/48000 [==============================] - 0s 8us/sample - loss: 0.2845 - accuracy: 0.9209 - val_loss: 0.2802 - val_accuracy: 0.9222\n",
      "Epoch 146/200\n",
      "48000/48000 [==============================] - 0s 8us/sample - loss: 0.2843 - accuracy: 0.9211 - val_loss: 0.2800 - val_accuracy: 0.9222\n",
      "Epoch 147/200\n",
      "48000/48000 [==============================] - 0s 8us/sample - loss: 0.2841 - accuracy: 0.9211 - val_loss: 0.2799 - val_accuracy: 0.9223\n",
      "Epoch 148/200\n",
      "48000/48000 [==============================] - 0s 8us/sample - loss: 0.2839 - accuracy: 0.9216 - val_loss: 0.2798 - val_accuracy: 0.9221\n",
      "Epoch 149/200\n",
      "48000/48000 [==============================] - 0s 8us/sample - loss: 0.2838 - accuracy: 0.9212 - val_loss: 0.2797 - val_accuracy: 0.9224\n",
      "Epoch 150/200\n",
      "48000/48000 [==============================] - 0s 8us/sample - loss: 0.2836 - accuracy: 0.9211 - val_loss: 0.2795 - val_accuracy: 0.9225\n",
      "Epoch 151/200\n",
      "48000/48000 [==============================] - 0s 8us/sample - loss: 0.2834 - accuracy: 0.9214 - val_loss: 0.2794 - val_accuracy: 0.9222\n",
      "Epoch 152/200\n",
      "48000/48000 [==============================] - 0s 8us/sample - loss: 0.2832 - accuracy: 0.9214 - val_loss: 0.2793 - val_accuracy: 0.9222\n",
      "Epoch 153/200\n",
      "48000/48000 [==============================] - 0s 8us/sample - loss: 0.2830 - accuracy: 0.9215 - val_loss: 0.2793 - val_accuracy: 0.9227\n",
      "Epoch 154/200\n",
      "48000/48000 [==============================] - 0s 8us/sample - loss: 0.2829 - accuracy: 0.9213 - val_loss: 0.2791 - val_accuracy: 0.9229\n",
      "Epoch 155/200\n",
      "48000/48000 [==============================] - 0s 7us/sample - loss: 0.2827 - accuracy: 0.9216 - val_loss: 0.2790 - val_accuracy: 0.9227\n",
      "Epoch 156/200\n",
      "48000/48000 [==============================] - 0s 8us/sample - loss: 0.2825 - accuracy: 0.9216 - val_loss: 0.2789 - val_accuracy: 0.9227\n",
      "Epoch 157/200\n",
      "48000/48000 [==============================] - 0s 7us/sample - loss: 0.2824 - accuracy: 0.9216 - val_loss: 0.2788 - val_accuracy: 0.9223\n",
      "Epoch 158/200\n",
      "48000/48000 [==============================] - 0s 8us/sample - loss: 0.2822 - accuracy: 0.9220 - val_loss: 0.2788 - val_accuracy: 0.9227\n",
      "Epoch 159/200\n",
      "48000/48000 [==============================] - 0s 7us/sample - loss: 0.2820 - accuracy: 0.9216 - val_loss: 0.2786 - val_accuracy: 0.9227\n",
      "Epoch 160/200\n",
      "48000/48000 [==============================] - 0s 7us/sample - loss: 0.2819 - accuracy: 0.9219 - val_loss: 0.2785 - val_accuracy: 0.9228\n",
      "Epoch 161/200\n",
      "48000/48000 [==============================] - 0s 8us/sample - loss: 0.2817 - accuracy: 0.9217 - val_loss: 0.2784 - val_accuracy: 0.9229\n",
      "Epoch 162/200\n",
      "48000/48000 [==============================] - 0s 8us/sample - loss: 0.2815 - accuracy: 0.9218 - val_loss: 0.2783 - val_accuracy: 0.9222\n",
      "Epoch 163/200\n"
     ]
    },
    {
     "name": "stdout",
     "output_type": "stream",
     "text": [
      "48000/48000 [==============================] - 0s 7us/sample - loss: 0.2814 - accuracy: 0.9218 - val_loss: 0.2782 - val_accuracy: 0.9231\n",
      "Epoch 164/200\n",
      "48000/48000 [==============================] - 0s 7us/sample - loss: 0.2812 - accuracy: 0.9219 - val_loss: 0.2781 - val_accuracy: 0.9230\n",
      "Epoch 165/200\n",
      "48000/48000 [==============================] - 0s 8us/sample - loss: 0.2810 - accuracy: 0.9219 - val_loss: 0.2779 - val_accuracy: 0.9232\n",
      "Epoch 166/200\n",
      "48000/48000 [==============================] - 0s 8us/sample - loss: 0.2809 - accuracy: 0.9222 - val_loss: 0.2779 - val_accuracy: 0.9229\n",
      "Epoch 167/200\n",
      "48000/48000 [==============================] - 0s 8us/sample - loss: 0.2808 - accuracy: 0.9219 - val_loss: 0.2777 - val_accuracy: 0.9229\n",
      "Epoch 168/200\n",
      "48000/48000 [==============================] - 0s 7us/sample - loss: 0.2806 - accuracy: 0.9223 - val_loss: 0.2777 - val_accuracy: 0.9226\n",
      "Epoch 169/200\n",
      "48000/48000 [==============================] - 0s 8us/sample - loss: 0.2805 - accuracy: 0.9221 - val_loss: 0.2776 - val_accuracy: 0.9231\n",
      "Epoch 170/200\n",
      "48000/48000 [==============================] - 0s 7us/sample - loss: 0.2803 - accuracy: 0.9223 - val_loss: 0.2776 - val_accuracy: 0.9234\n",
      "Epoch 171/200\n",
      "48000/48000 [==============================] - 0s 8us/sample - loss: 0.2801 - accuracy: 0.9222 - val_loss: 0.2773 - val_accuracy: 0.9231\n",
      "Epoch 172/200\n",
      "48000/48000 [==============================] - 0s 7us/sample - loss: 0.2800 - accuracy: 0.9223 - val_loss: 0.2773 - val_accuracy: 0.9228\n",
      "Epoch 173/200\n",
      "48000/48000 [==============================] - 0s 7us/sample - loss: 0.2798 - accuracy: 0.9224 - val_loss: 0.2772 - val_accuracy: 0.9233\n",
      "Epoch 174/200\n",
      "48000/48000 [==============================] - 0s 7us/sample - loss: 0.2797 - accuracy: 0.9222 - val_loss: 0.2771 - val_accuracy: 0.9238\n",
      "Epoch 175/200\n",
      "48000/48000 [==============================] - 0s 7us/sample - loss: 0.2796 - accuracy: 0.9224 - val_loss: 0.2771 - val_accuracy: 0.9233\n",
      "Epoch 176/200\n",
      "48000/48000 [==============================] - 0s 8us/sample - loss: 0.2794 - accuracy: 0.9225 - val_loss: 0.2769 - val_accuracy: 0.9234\n",
      "Epoch 177/200\n",
      "48000/48000 [==============================] - 0s 7us/sample - loss: 0.2793 - accuracy: 0.9226 - val_loss: 0.2769 - val_accuracy: 0.9228\n",
      "Epoch 178/200\n",
      "48000/48000 [==============================] - 0s 7us/sample - loss: 0.2791 - accuracy: 0.9224 - val_loss: 0.2768 - val_accuracy: 0.9233\n",
      "Epoch 179/200\n",
      "48000/48000 [==============================] - 0s 7us/sample - loss: 0.2790 - accuracy: 0.9226 - val_loss: 0.2767 - val_accuracy: 0.9237\n",
      "Epoch 180/200\n",
      "48000/48000 [==============================] - 0s 8us/sample - loss: 0.2788 - accuracy: 0.9227 - val_loss: 0.2767 - val_accuracy: 0.9230\n",
      "Epoch 181/200\n",
      "48000/48000 [==============================] - 0s 7us/sample - loss: 0.2787 - accuracy: 0.9228 - val_loss: 0.2766 - val_accuracy: 0.9237\n",
      "Epoch 182/200\n",
      "48000/48000 [==============================] - 0s 8us/sample - loss: 0.2786 - accuracy: 0.9227 - val_loss: 0.2765 - val_accuracy: 0.9237\n",
      "Epoch 183/200\n",
      "48000/48000 [==============================] - 0s 8us/sample - loss: 0.2784 - accuracy: 0.9226 - val_loss: 0.2764 - val_accuracy: 0.9240\n",
      "Epoch 184/200\n",
      "48000/48000 [==============================] - 0s 7us/sample - loss: 0.2783 - accuracy: 0.9232 - val_loss: 0.2764 - val_accuracy: 0.9236\n",
      "Epoch 185/200\n",
      "48000/48000 [==============================] - 0s 7us/sample - loss: 0.2782 - accuracy: 0.9227 - val_loss: 0.2763 - val_accuracy: 0.9234\n",
      "Epoch 186/200\n",
      "48000/48000 [==============================] - 0s 8us/sample - loss: 0.2780 - accuracy: 0.9229 - val_loss: 0.2762 - val_accuracy: 0.9234\n",
      "Epoch 187/200\n",
      "48000/48000 [==============================] - 0s 8us/sample - loss: 0.2779 - accuracy: 0.9229 - val_loss: 0.2762 - val_accuracy: 0.9233\n",
      "Epoch 188/200\n",
      "48000/48000 [==============================] - 0s 8us/sample - loss: 0.2778 - accuracy: 0.9230 - val_loss: 0.2760 - val_accuracy: 0.9235\n",
      "Epoch 189/200\n",
      "48000/48000 [==============================] - 0s 8us/sample - loss: 0.2776 - accuracy: 0.9231 - val_loss: 0.2760 - val_accuracy: 0.9239\n",
      "Epoch 190/200\n",
      "48000/48000 [==============================] - 0s 8us/sample - loss: 0.2775 - accuracy: 0.9232 - val_loss: 0.2758 - val_accuracy: 0.9239\n",
      "Epoch 191/200\n",
      "48000/48000 [==============================] - 0s 7us/sample - loss: 0.2774 - accuracy: 0.9231 - val_loss: 0.2758 - val_accuracy: 0.9238\n",
      "Epoch 192/200\n",
      "48000/48000 [==============================] - 0s 8us/sample - loss: 0.2772 - accuracy: 0.9231 - val_loss: 0.2757 - val_accuracy: 0.9241\n",
      "Epoch 193/200\n",
      "48000/48000 [==============================] - 0s 8us/sample - loss: 0.2771 - accuracy: 0.9229 - val_loss: 0.2756 - val_accuracy: 0.9243\n",
      "Epoch 194/200\n",
      "48000/48000 [==============================] - 0s 8us/sample - loss: 0.2770 - accuracy: 0.9230 - val_loss: 0.2756 - val_accuracy: 0.9233\n",
      "Epoch 195/200\n",
      "48000/48000 [==============================] - 0s 8us/sample - loss: 0.2769 - accuracy: 0.9233 - val_loss: 0.2754 - val_accuracy: 0.9237\n",
      "Epoch 196/200\n",
      "48000/48000 [==============================] - 0s 8us/sample - loss: 0.2767 - accuracy: 0.9232 - val_loss: 0.2754 - val_accuracy: 0.9238\n",
      "Epoch 197/200\n",
      "48000/48000 [==============================] - 0s 8us/sample - loss: 0.2766 - accuracy: 0.9232 - val_loss: 0.2753 - val_accuracy: 0.9237\n",
      "Epoch 198/200\n",
      "48000/48000 [==============================] - 0s 8us/sample - loss: 0.2765 - accuracy: 0.9234 - val_loss: 0.2752 - val_accuracy: 0.9237\n",
      "Epoch 199/200\n",
      "48000/48000 [==============================] - 0s 8us/sample - loss: 0.2764 - accuracy: 0.9232 - val_loss: 0.2752 - val_accuracy: 0.9237\n",
      "Epoch 200/200\n",
      "48000/48000 [==============================] - 0s 8us/sample - loss: 0.2762 - accuracy: 0.9234 - val_loss: 0.2751 - val_accuracy: 0.9237\n"
     ]
    },
    {
     "data": {
      "text/plain": [
       "<tensorflow.python.keras.callbacks.History at 0x1fd952d16c8>"
      ]
     },
     "execution_count": 29,
     "metadata": {},
     "output_type": "execute_result"
    }
   ],
   "source": [
    "# 모델 훈련\n",
    "model.fit(x_train, y_train, \n",
    "          batch_size = batch_size, \n",
    "          epochs = epochs, \n",
    "         verbose = verbose, \n",
    "         validation_split =  validation_split)"
   ]
  },
  {
   "cell_type": "code",
   "execution_count": 30,
   "metadata": {},
   "outputs": [
    {
     "name": "stdout",
     "output_type": "stream",
     "text": [
      "10000/10000 [==============================] - 0s 14us/sample - loss: 0.2776 - accuracy: 0.9224\n",
      "Test accuracy :  0.9224\n"
     ]
    }
   ],
   "source": [
    "# 모델 평가\n",
    "test_loss, test_acc = model.evaluate(x_test, y_test)\n",
    "print('Test accuracy : ',test_acc)"
   ]
  },
  {
   "cell_type": "markdown",
   "metadata": {},
   "source": [
    "### 정확도 92% 나옴을 확인"
   ]
  }
 ],
 "metadata": {
  "kernelspec": {
   "display_name": "Python 3",
   "language": "python",
   "name": "python3"
  },
  "language_info": {
   "codemirror_mode": {
    "name": "ipython",
    "version": 3
   },
   "file_extension": ".py",
   "mimetype": "text/x-python",
   "name": "python",
   "nbconvert_exporter": "python",
   "pygments_lexer": "ipython3",
   "version": "3.7.7"
  }
 },
 "nbformat": 4,
 "nbformat_minor": 4
}
