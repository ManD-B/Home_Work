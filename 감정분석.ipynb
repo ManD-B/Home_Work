{
  "nbformat": 4,
  "nbformat_minor": 0,
  "metadata": {
    "colab": {
      "name": "감정분석.ipynb",
      "provenance": [],
      "collapsed_sections": [],
      "authorship_tag": "ABX9TyO9VVZOv7Be+P7UB0VsVJxm",
      "include_colab_link": true
    },
    "kernelspec": {
      "name": "python3",
      "display_name": "Python 3"
    },
    "accelerator": "GPU"
  },
  "cells": [
    {
      "cell_type": "markdown",
      "metadata": {
        "id": "view-in-github",
        "colab_type": "text"
      },
      "source": [
        "<a href=\"https://colab.research.google.com/github/ManD-B/Home_Work/blob/master/%EA%B0%90%EC%A0%95%EB%B6%84%EC%84%9D.ipynb\" target=\"_parent\"><img src=\"https://colab.research.google.com/assets/colab-badge.svg\" alt=\"Open In Colab\"/></a>"
      ]
    },
    {
      "cell_type": "code",
      "metadata": {
        "id": "FWd630wL8nwI"
      },
      "source": [
        "import tensorflow as tf\r\n",
        "from tensorflow.keras import datasets, layers, models, preprocessing\r\n",
        "import tensorflow_datasets as tfds"
      ],
      "execution_count": null,
      "outputs": []
    },
    {
      "cell_type": "code",
      "metadata": {
        "id": "9GJx483l9WDn"
      },
      "source": [
        "max_len = 200\r\n",
        "n_words = 10000\r\n",
        "dim_embedding = 256\r\n",
        "epochs = 200\r\n",
        "batch_size = 500"
      ],
      "execution_count": null,
      "outputs": []
    },
    {
      "cell_type": "code",
      "metadata": {
        "id": "A2ht0X-69kqV"
      },
      "source": [
        "def load_data():\r\n",
        "    (x_train, y_train), (x_test, y_test) = datasets.imdb.load_data(num_words=n_words)\r\n",
        "    # 문장이 max_len이 되도록 채워 넣는다.\r\n",
        "    x_train = preprocessing.sequence.pad_sequences(x_train, maxlen = max_len)\r\n",
        "    x_test = preprocessing.sequence.pad_sequences(x_test, maxlen = max_len)\r\n",
        "    return (x_train, y_train), (x_test, y_test)"
      ],
      "execution_count": null,
      "outputs": []
    },
    {
      "cell_type": "code",
      "metadata": {
        "id": "ujdlkNOY-IM_"
      },
      "source": [
        "def build_model():\r\n",
        "    # 입력 : -eEmbedding Layer\r\n",
        "    # 모델의 크기는 정수 행렬을 입력으로 취한다(batch, input_length)\r\n",
        "    # 모델의 출력은 차원이다(input_length, dim_embedding)\r\n",
        "    # 입력 중 가장 큰 정수는 n_word보다 작거나 같다(어휘 크기)\r\n",
        "    model = models.Sequential()\r\n",
        "    model.add(layers.Embedding(n_words,\r\n",
        "                               dim_embedding,\r\n",
        "                               input_length = max_len))\r\n",
        "    # 각 n_word 특징에서 특징 벡터의 최댓값을 취한다\r\n",
        "    model.add(layers.Dropout(0.3))\r\n",
        "    model.add(layers.GlobalMaxPooling1D())\r\n",
        "    model.add(layers.Dense(128, activation = 'relu'))\r\n",
        "    model.add(layers.Dropout(0.5))\r\n",
        "    model.add(layers.Dense(1, activation = 'sigmoid'))\r\n",
        "    return model"
      ],
      "execution_count": 5,
      "outputs": []
    },
    {
      "cell_type": "code",
      "metadata": {
        "colab": {
          "base_uri": "https://localhost:8080/",
          "height": 244
        },
        "id": "Fb05XhD__6-v",
        "outputId": "e97c7aaa-aca3-4eb8-e7db-f98fb5f84876"
      },
      "source": [
        "(x_train, y_train), (x_test, y_test) = load_data()\r\n",
        "model = build_model()\r\n",
        "model.summary()\r\n",
        "\r\n",
        "model.compile(optimizer = \"adam\",\r\n",
        "              loss = \"binary_crossentropy\",\r\n",
        "              metrics = [\"accuracy\"])\r\n",
        "\r\n",
        "score = model.fit(x_train, y_train,\r\n",
        "                  epochs = epochs,\r\n",
        "                  batch_size = batch_size,\r\n",
        "                  validation_data = (x_test, y_test))\r\n",
        "\r\n",
        "score = model.evaluate(x_test, y_test, batch_size = batch_size)\r\n",
        "print(\"\\nTestscore:\", score[0])\r\n",
        "print('test accuracy:', score[1])\r\n"
      ],
      "execution_count": 1,
      "outputs": [
        {
          "output_type": "error",
          "ename": "NameError",
          "evalue": "ignored",
          "traceback": [
            "\u001b[0;31m---------------------------------------------------------------------------\u001b[0m",
            "\u001b[0;31mNameError\u001b[0m                                 Traceback (most recent call last)",
            "\u001b[0;32m<ipython-input-1-7c151660d9a8>\u001b[0m in \u001b[0;36m<module>\u001b[0;34m()\u001b[0m\n\u001b[0;32m----> 1\u001b[0;31m \u001b[0;34m(\u001b[0m\u001b[0mx_train\u001b[0m\u001b[0;34m,\u001b[0m \u001b[0my_train\u001b[0m\u001b[0;34m)\u001b[0m\u001b[0;34m,\u001b[0m \u001b[0;34m(\u001b[0m\u001b[0mx_test\u001b[0m\u001b[0;34m,\u001b[0m \u001b[0my_test\u001b[0m\u001b[0;34m)\u001b[0m \u001b[0;34m=\u001b[0m \u001b[0mload_data\u001b[0m\u001b[0;34m(\u001b[0m\u001b[0;34m)\u001b[0m\u001b[0;34m\u001b[0m\u001b[0;34m\u001b[0m\u001b[0m\n\u001b[0m\u001b[1;32m      2\u001b[0m \u001b[0mmodel\u001b[0m \u001b[0;34m=\u001b[0m \u001b[0mbuild_model\u001b[0m\u001b[0;34m(\u001b[0m\u001b[0;34m)\u001b[0m\u001b[0;34m\u001b[0m\u001b[0;34m\u001b[0m\u001b[0m\n\u001b[1;32m      3\u001b[0m \u001b[0mmodel\u001b[0m\u001b[0;34m.\u001b[0m\u001b[0msummary\u001b[0m\u001b[0;34m(\u001b[0m\u001b[0;34m)\u001b[0m\u001b[0;34m\u001b[0m\u001b[0;34m\u001b[0m\u001b[0m\n\u001b[1;32m      4\u001b[0m \u001b[0;34m\u001b[0m\u001b[0m\n\u001b[1;32m      5\u001b[0m model.compile(optimizer = \"adam\",\n",
            "\u001b[0;31mNameError\u001b[0m: name 'load_data' is not defined"
          ]
        }
      ]
    },
    {
      "cell_type": "code",
      "metadata": {
        "id": "IZpGu7_WA_su"
      },
      "source": [
        ""
      ],
      "execution_count": null,
      "outputs": []
    }
  ]
}