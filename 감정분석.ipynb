{
  "nbformat": 4,
  "nbformat_minor": 0,
  "metadata": {
    "colab": {
      "name": "Untitled0.ipynb",
      "provenance": [],
      "authorship_tag": "ABX9TyNjfJQIvdFXmm9FtmZp/XP1",
      "include_colab_link": true
    },
    "kernelspec": {
      "name": "python3",
      "display_name": "Python 3"
    },
    "accelerator": "GPU"
  },
  "cells": [
    {
      "cell_type": "markdown",
      "metadata": {
        "id": "view-in-github",
        "colab_type": "text"
      },
      "source": [
        "<a href=\"https://colab.research.google.com/github/ManD-B/Home_Work/blob/master/%EA%B0%90%EC%A0%95%EB%B6%84%EC%84%9D.ipynb\" target=\"_parent\"><img src=\"https://colab.research.google.com/assets/colab-badge.svg\" alt=\"Open In Colab\"/></a>"
      ]
    },
    {
      "cell_type": "code",
      "metadata": {
        "id": "FWd630wL8nwI"
      },
      "source": [
        "import tensorflow as tf\r\n",
        "from tensorflow.keras import datasets, layers, models, preprocessing\r\n",
        "import tensorflow_datasets as tfds"
      ],
      "execution_count": 2,
      "outputs": []
    },
    {
      "cell_type": "code",
      "metadata": {
        "id": "9GJx483l9WDn"
      },
      "source": [
        "max_len = 200\r\n",
        "n_words = 10000\r\n",
        "dim_embedding = 256\r\n",
        "epochs = 200\r\n",
        "batch_size = 500"
      ],
      "execution_count": 3,
      "outputs": []
    },
    {
      "cell_type": "code",
      "metadata": {
        "id": "A2ht0X-69kqV"
      },
      "source": [
        "def load_data():\r\n",
        "    (x_train, y_train), (x_test, y_test) = datasets.imdb.load_data(num_words=n_words)\r\n",
        "    x_train = preprocessing.sequence.pad_sequences(x_train, maxlen = max_len)\r\n",
        "    x_test = preprocessing.sequence.pad_sequences(x_test, maxlen = max_len)\r\n",
        "    return (x_train, y_train), (x_test, y_test)"
      ],
      "execution_count": 4,
      "outputs": []
    },
    {
      "cell_type": "code",
      "metadata": {
        "id": "ujdlkNOY-IM_"
      },
      "source": [
        ""
      ],
      "execution_count": null,
      "outputs": []
    }
  ]
}