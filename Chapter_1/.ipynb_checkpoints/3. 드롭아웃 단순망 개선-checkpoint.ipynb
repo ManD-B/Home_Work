{
 "cells": [
  {
   "cell_type": "markdown",
   "metadata": {},
   "source": [
    "# MINST 필기체 숫자 인식"
   ]
  },
  {
   "cell_type": "code",
   "execution_count": 93,
   "metadata": {},
   "outputs": [],
   "source": [
    "import tensorflow as tf"
   ]
  },
  {
   "cell_type": "code",
   "execution_count": 94,
   "metadata": {},
   "outputs": [],
   "source": [
    "import numpy as np"
   ]
  },
  {
   "cell_type": "code",
   "execution_count": 95,
   "metadata": {},
   "outputs": [],
   "source": [
    "from tensorflow import keras"
   ]
  },
  {
   "cell_type": "code",
   "execution_count": 96,
   "metadata": {},
   "outputs": [],
   "source": [
    "# 신경망과 훈련 매개변수\n",
    "epochs = 200\n",
    "batch_size = 128\n",
    "verbose = 1\n",
    "nb_classes = 10     # 출력 개수 = 숫자의 개수\n",
    "n_hidden = 128\n",
    "validation_split = 0.2     # 검증을 위해 남겨둔 훈련 데이터"
   ]
  },
  {
   "cell_type": "code",
   "execution_count": 97,
   "metadata": {},
   "outputs": [],
   "source": [
    "# MINST 데이터셋 로드\n",
    "mnist = keras.datasets.mnist\n",
    "(x_train, y_train), (x_test, y_test) = mnist.load_data()"
   ]
  },
  {
   "cell_type": "code",
   "execution_count": 98,
   "metadata": {},
   "outputs": [
    {
     "data": {
      "text/plain": [
       "(60000, 28, 28)"
      ]
     },
     "execution_count": 98,
     "metadata": {},
     "output_type": "execute_result"
    }
   ],
   "source": [
    "x_train.shape"
   ]
  },
  {
   "cell_type": "code",
   "execution_count": 99,
   "metadata": {},
   "outputs": [],
   "source": [
    "# 이를 28x28에서 60000, 784로 바꿔줌\n",
    "reshaped = 784\n",
    "x_train = x_train.reshape(60000, reshaped)\n",
    "x_test = x_test.reshape(10000, reshaped)"
   ]
  },
  {
   "cell_type": "code",
   "execution_count": 100,
   "metadata": {},
   "outputs": [
    {
     "data": {
      "text/plain": [
       "(60000, 784)"
      ]
     },
     "execution_count": 100,
     "metadata": {},
     "output_type": "execute_result"
    }
   ],
   "source": [
    "x_train.shape"
   ]
  },
  {
   "cell_type": "code",
   "execution_count": 101,
   "metadata": {},
   "outputs": [],
   "source": [
    "x_train = x_train.astype('float32')\n",
    "x_test = x_test.astype('float32')"
   ]
  },
  {
   "cell_type": "code",
   "execution_count": 102,
   "metadata": {},
   "outputs": [
    {
     "name": "stdout",
     "output_type": "stream",
     "text": [
      "60000 train samples\n",
      "10000 test samples\n"
     ]
    }
   ],
   "source": [
    "# 픽셀값은 0~255인데 이를 255로 나눠줌으로써 0~1 사이로 정규화시킴\n",
    "x_train /= 255\n",
    "x_test /= 255\n",
    "print(x_train.shape[0], 'train samples')\n",
    "print(x_test.shape[0], 'test samples')"
   ]
  },
  {
   "cell_type": "code",
   "execution_count": 103,
   "metadata": {},
   "outputs": [],
   "source": [
    "# 원핫 인코딩\n",
    "y_train = tf.keras.utils.to_categorical(y_train, nb_classes)\n",
    "y_test = tf.keras.utils.to_categorical(y_test, nb_classes)"
   ]
  },
  {
   "cell_type": "markdown",
   "metadata": {},
   "source": [
    "## 똑같이 따와서 이부분만 달라짐"
   ]
  },
  {
   "cell_type": "code",
   "execution_count": 104,
   "metadata": {},
   "outputs": [],
   "source": [
    "dropout = 0.3"
   ]
  },
  {
   "cell_type": "code",
   "execution_count": 105,
   "metadata": {},
   "outputs": [
    {
     "name": "stdout",
     "output_type": "stream",
     "text": [
      "Model: \"sequential_8\"\n",
      "_________________________________________________________________\n",
      "Layer (type)                 Output Shape              Param #   \n",
      "=================================================================\n",
      "dense_layer (Dense)          (None, 128)               100480    \n",
      "_________________________________________________________________\n",
      "dropout_8 (Dropout)          (None, 128)               0         \n",
      "_________________________________________________________________\n",
      "dense_layer_2 (Dense)        (None, 128)               16512     \n",
      "_________________________________________________________________\n",
      "dropout_9 (Dropout)          (None, 128)               0         \n",
      "_________________________________________________________________\n",
      "dense_layer_3 (Dense)        (None, 10)                1290      \n",
      "=================================================================\n",
      "Total params: 118,282\n",
      "Trainable params: 118,282\n",
      "Non-trainable params: 0\n",
      "_________________________________________________________________\n"
     ]
    }
   ],
   "source": [
    "# 모델 구축\n",
    "model = tf.keras.models.Sequential()\n",
    "model.add(keras.layers.Dense(n_hidden,\n",
    "                            input_shape = (reshaped,),\n",
    "                            name = 'dense_layer',\n",
    "                            activation = 'relu'))\n",
    "model.add(keras.layers.Dropout(dropout))\n",
    "model.add(keras.layers.Dense(n_hidden,\n",
    "                            name = 'dense_layer_2',\n",
    "                            activation = 'relu'))\n",
    "model.add(keras.layers.Dropout(dropout))\n",
    "model.add(keras.layers.Dense(nb_classes,\n",
    "                            name = 'dense_layer_3',\n",
    "                            activation = 'softmax'))\n",
    "model.summary()"
   ]
  },
  {
   "cell_type": "code",
   "execution_count": 106,
   "metadata": {},
   "outputs": [],
   "source": [
    "# 모델 컴파일\n",
    "model.compile(optimizer = 'SGD',   # 확률적 그래디언트 하강\n",
    "             loss = 'categorical_crossentropy',\n",
    "             metrics = ['accuracy'])"
   ]
  },
  {
   "cell_type": "code",
   "execution_count": 107,
   "metadata": {
    "scrolled": true
   },
   "outputs": [
    {
     "name": "stdout",
     "output_type": "stream",
     "text": [
      "Train on 48000 samples, validate on 12000 samples\n",
      "Epoch 1/200\n",
      "48000/48000 [==============================] - 1s 19us/sample - loss: 1.7469 - accuracy: 0.4461 - val_loss: 0.9608 - val_accuracy: 0.7918\n",
      "Epoch 2/200\n",
      "48000/48000 [==============================] - 1s 12us/sample - loss: 0.9533 - accuracy: 0.7061 - val_loss: 0.5537 - val_accuracy: 0.8630\n",
      "Epoch 3/200\n",
      "48000/48000 [==============================] - 1s 12us/sample - loss: 0.7138 - accuracy: 0.7787 - val_loss: 0.4371 - val_accuracy: 0.8846\n",
      "Epoch 4/200\n",
      "48000/48000 [==============================] - 1s 12us/sample - loss: 0.5994 - accuracy: 0.8163 - val_loss: 0.3777 - val_accuracy: 0.8966\n",
      "Epoch 5/200\n",
      "48000/48000 [==============================] - 1s 12us/sample - loss: 0.5350 - accuracy: 0.8392 - val_loss: 0.3445 - val_accuracy: 0.9029\n",
      "Epoch 6/200\n",
      "48000/48000 [==============================] - 1s 12us/sample - loss: 0.4934 - accuracy: 0.8541 - val_loss: 0.3186 - val_accuracy: 0.9075\n",
      "Epoch 7/200\n",
      "48000/48000 [==============================] - 1s 12us/sample - loss: 0.4600 - accuracy: 0.8633 - val_loss: 0.3003 - val_accuracy: 0.9116\n",
      "Epoch 8/200\n",
      "48000/48000 [==============================] - 1s 12us/sample - loss: 0.4360 - accuracy: 0.8706 - val_loss: 0.2854 - val_accuracy: 0.9162\n",
      "Epoch 9/200\n",
      "48000/48000 [==============================] - 1s 12us/sample - loss: 0.4143 - accuracy: 0.8780 - val_loss: 0.2729 - val_accuracy: 0.9186\n",
      "Epoch 10/200\n",
      "48000/48000 [==============================] - 1s 12us/sample - loss: 0.3934 - accuracy: 0.8845 - val_loss: 0.2616 - val_accuracy: 0.9218\n",
      "Epoch 11/200\n",
      "48000/48000 [==============================] - 1s 12us/sample - loss: 0.3762 - accuracy: 0.8908 - val_loss: 0.2527 - val_accuracy: 0.9254\n",
      "Epoch 12/200\n",
      "48000/48000 [==============================] - 1s 12us/sample - loss: 0.3651 - accuracy: 0.8936 - val_loss: 0.2442 - val_accuracy: 0.9281\n",
      "Epoch 13/200\n",
      "48000/48000 [==============================] - 1s 12us/sample - loss: 0.3524 - accuracy: 0.8961 - val_loss: 0.2366 - val_accuracy: 0.9307\n",
      "Epoch 14/200\n",
      "48000/48000 [==============================] - 1s 12us/sample - loss: 0.3395 - accuracy: 0.8990 - val_loss: 0.2296 - val_accuracy: 0.9322\n",
      "Epoch 15/200\n",
      "48000/48000 [==============================] - 1s 12us/sample - loss: 0.3318 - accuracy: 0.9020 - val_loss: 0.2228 - val_accuracy: 0.9352\n",
      "Epoch 16/200\n",
      "48000/48000 [==============================] - 1s 12us/sample - loss: 0.3241 - accuracy: 0.9058 - val_loss: 0.2174 - val_accuracy: 0.9361\n",
      "Epoch 17/200\n",
      "48000/48000 [==============================] - 1s 12us/sample - loss: 0.3146 - accuracy: 0.9079 - val_loss: 0.2109 - val_accuracy: 0.9379\n",
      "Epoch 18/200\n",
      "48000/48000 [==============================] - 1s 12us/sample - loss: 0.3056 - accuracy: 0.9093 - val_loss: 0.2059 - val_accuracy: 0.9402\n",
      "Epoch 19/200\n",
      "48000/48000 [==============================] - 1s 12us/sample - loss: 0.2960 - accuracy: 0.9128 - val_loss: 0.2013 - val_accuracy: 0.9413\n",
      "Epoch 20/200\n",
      "48000/48000 [==============================] - 1s 12us/sample - loss: 0.2906 - accuracy: 0.9146 - val_loss: 0.1967 - val_accuracy: 0.9423\n",
      "Epoch 21/200\n",
      "48000/48000 [==============================] - 1s 12us/sample - loss: 0.2858 - accuracy: 0.9155 - val_loss: 0.1927 - val_accuracy: 0.9434\n",
      "Epoch 22/200\n",
      "48000/48000 [==============================] - 1s 12us/sample - loss: 0.2793 - accuracy: 0.9179 - val_loss: 0.1883 - val_accuracy: 0.9459\n",
      "Epoch 23/200\n",
      "48000/48000 [==============================] - 1s 12us/sample - loss: 0.2709 - accuracy: 0.9192 - val_loss: 0.1844 - val_accuracy: 0.9464\n",
      "Epoch 24/200\n",
      "48000/48000 [==============================] - 1s 12us/sample - loss: 0.2635 - accuracy: 0.9230 - val_loss: 0.1808 - val_accuracy: 0.9467\n",
      "Epoch 25/200\n",
      "48000/48000 [==============================] - 1s 12us/sample - loss: 0.2620 - accuracy: 0.9223 - val_loss: 0.1778 - val_accuracy: 0.9477\n",
      "Epoch 26/200\n",
      "48000/48000 [==============================] - 1s 12us/sample - loss: 0.2574 - accuracy: 0.9243 - val_loss: 0.1740 - val_accuracy: 0.9491\n",
      "Epoch 27/200\n",
      "48000/48000 [==============================] - 1s 12us/sample - loss: 0.2520 - accuracy: 0.9269 - val_loss: 0.1719 - val_accuracy: 0.9493\n",
      "Epoch 28/200\n",
      "48000/48000 [==============================] - 1s 12us/sample - loss: 0.2483 - accuracy: 0.9279 - val_loss: 0.1688 - val_accuracy: 0.9513\n",
      "Epoch 29/200\n",
      "48000/48000 [==============================] - 1s 12us/sample - loss: 0.2398 - accuracy: 0.9292 - val_loss: 0.1655 - val_accuracy: 0.9517\n",
      "Epoch 30/200\n",
      "48000/48000 [==============================] - 1s 12us/sample - loss: 0.2373 - accuracy: 0.9297 - val_loss: 0.1629 - val_accuracy: 0.9522\n",
      "Epoch 31/200\n",
      "48000/48000 [==============================] - 1s 12us/sample - loss: 0.2328 - accuracy: 0.9320 - val_loss: 0.1600 - val_accuracy: 0.9532\n",
      "Epoch 32/200\n",
      "48000/48000 [==============================] - 1s 13us/sample - loss: 0.2304 - accuracy: 0.9321 - val_loss: 0.1582 - val_accuracy: 0.9538\n",
      "Epoch 33/200\n",
      "48000/48000 [==============================] - 1s 12us/sample - loss: 0.2275 - accuracy: 0.9328 - val_loss: 0.1564 - val_accuracy: 0.9540\n",
      "Epoch 34/200\n",
      "48000/48000 [==============================] - 1s 12us/sample - loss: 0.2237 - accuracy: 0.9337 - val_loss: 0.1533 - val_accuracy: 0.9551\n",
      "Epoch 35/200\n",
      "48000/48000 [==============================] - 1s 12us/sample - loss: 0.2202 - accuracy: 0.9354 - val_loss: 0.1517 - val_accuracy: 0.9562\n",
      "Epoch 36/200\n",
      "48000/48000 [==============================] - 1s 12us/sample - loss: 0.2177 - accuracy: 0.9354 - val_loss: 0.1493 - val_accuracy: 0.9567\n",
      "Epoch 37/200\n",
      "48000/48000 [==============================] - 1s 12us/sample - loss: 0.2127 - accuracy: 0.9377 - val_loss: 0.1470 - val_accuracy: 0.9567\n",
      "Epoch 38/200\n",
      "48000/48000 [==============================] - 1s 12us/sample - loss: 0.2090 - accuracy: 0.9376 - val_loss: 0.1453 - val_accuracy: 0.9574\n",
      "Epoch 39/200\n",
      "48000/48000 [==============================] - 1s 12us/sample - loss: 0.2082 - accuracy: 0.9379 - val_loss: 0.1440 - val_accuracy: 0.9587\n",
      "Epoch 40/200\n",
      "48000/48000 [==============================] - 1s 12us/sample - loss: 0.2060 - accuracy: 0.9394 - val_loss: 0.1416 - val_accuracy: 0.9589\n",
      "Epoch 41/200\n",
      "48000/48000 [==============================] - 1s 12us/sample - loss: 0.2043 - accuracy: 0.9405 - val_loss: 0.1392 - val_accuracy: 0.9592\n",
      "Epoch 42/200\n",
      "48000/48000 [==============================] - 1s 12us/sample - loss: 0.2019 - accuracy: 0.9411 - val_loss: 0.1387 - val_accuracy: 0.9588\n",
      "Epoch 43/200\n",
      "48000/48000 [==============================] - 1s 12us/sample - loss: 0.1968 - accuracy: 0.9424 - val_loss: 0.1372 - val_accuracy: 0.9596\n",
      "Epoch 44/200\n",
      "48000/48000 [==============================] - 1s 12us/sample - loss: 0.1938 - accuracy: 0.9424 - val_loss: 0.1358 - val_accuracy: 0.9599\n",
      "Epoch 45/200\n",
      "48000/48000 [==============================] - 1s 12us/sample - loss: 0.1933 - accuracy: 0.9439 - val_loss: 0.1350 - val_accuracy: 0.9598\n",
      "Epoch 46/200\n",
      "48000/48000 [==============================] - 1s 12us/sample - loss: 0.1927 - accuracy: 0.9432 - val_loss: 0.1330 - val_accuracy: 0.9607\n",
      "Epoch 47/200\n",
      "48000/48000 [==============================] - 1s 12us/sample - loss: 0.1876 - accuracy: 0.9442 - val_loss: 0.1323 - val_accuracy: 0.9615\n",
      "Epoch 48/200\n",
      "48000/48000 [==============================] - 1s 12us/sample - loss: 0.1866 - accuracy: 0.9451 - val_loss: 0.1303 - val_accuracy: 0.9614\n",
      "Epoch 49/200\n",
      "48000/48000 [==============================] - 1s 12us/sample - loss: 0.1853 - accuracy: 0.9454 - val_loss: 0.1293 - val_accuracy: 0.9622\n",
      "Epoch 50/200\n",
      "48000/48000 [==============================] - 1s 12us/sample - loss: 0.1827 - accuracy: 0.9461 - val_loss: 0.1283 - val_accuracy: 0.9622\n",
      "Epoch 51/200\n",
      "48000/48000 [==============================] - 1s 12us/sample - loss: 0.1772 - accuracy: 0.9481 - val_loss: 0.1270 - val_accuracy: 0.9623\n",
      "Epoch 52/200\n",
      "48000/48000 [==============================] - 1s 12us/sample - loss: 0.1797 - accuracy: 0.9472 - val_loss: 0.1253 - val_accuracy: 0.9627\n",
      "Epoch 53/200\n",
      "48000/48000 [==============================] - 1s 12us/sample - loss: 0.1761 - accuracy: 0.9482 - val_loss: 0.1241 - val_accuracy: 0.9633\n",
      "Epoch 54/200\n",
      "48000/48000 [==============================] - 1s 12us/sample - loss: 0.1734 - accuracy: 0.9480 - val_loss: 0.1239 - val_accuracy: 0.9625\n"
     ]
    },
    {
     "name": "stdout",
     "output_type": "stream",
     "text": [
      "Epoch 55/200\n",
      "48000/48000 [==============================] - 1s 12us/sample - loss: 0.1726 - accuracy: 0.9487 - val_loss: 0.1227 - val_accuracy: 0.9631\n",
      "Epoch 56/200\n",
      "48000/48000 [==============================] - 1s 12us/sample - loss: 0.1717 - accuracy: 0.9496 - val_loss: 0.1218 - val_accuracy: 0.9638\n",
      "Epoch 57/200\n",
      "48000/48000 [==============================] - 1s 12us/sample - loss: 0.1688 - accuracy: 0.9502 - val_loss: 0.1207 - val_accuracy: 0.9639\n",
      "Epoch 58/200\n",
      "48000/48000 [==============================] - 1s 12us/sample - loss: 0.1686 - accuracy: 0.9491 - val_loss: 0.1196 - val_accuracy: 0.9647\n",
      "Epoch 59/200\n",
      "48000/48000 [==============================] - 1s 12us/sample - loss: 0.1666 - accuracy: 0.9503 - val_loss: 0.1185 - val_accuracy: 0.9645\n",
      "Epoch 60/200\n",
      "48000/48000 [==============================] - 1s 12us/sample - loss: 0.1666 - accuracy: 0.9510 - val_loss: 0.1169 - val_accuracy: 0.9652\n",
      "Epoch 61/200\n",
      "48000/48000 [==============================] - 1s 12us/sample - loss: 0.1616 - accuracy: 0.9511 - val_loss: 0.1165 - val_accuracy: 0.9652\n",
      "Epoch 62/200\n",
      "48000/48000 [==============================] - 1s 12us/sample - loss: 0.1591 - accuracy: 0.9540 - val_loss: 0.1153 - val_accuracy: 0.9658\n",
      "Epoch 63/200\n",
      "48000/48000 [==============================] - 1s 12us/sample - loss: 0.1584 - accuracy: 0.9533 - val_loss: 0.1154 - val_accuracy: 0.9659\n",
      "Epoch 64/200\n",
      "48000/48000 [==============================] - 1s 12us/sample - loss: 0.1596 - accuracy: 0.9526 - val_loss: 0.1141 - val_accuracy: 0.9660\n",
      "Epoch 65/200\n",
      "48000/48000 [==============================] - 1s 12us/sample - loss: 0.1576 - accuracy: 0.9528 - val_loss: 0.1133 - val_accuracy: 0.9662\n",
      "Epoch 66/200\n",
      "48000/48000 [==============================] - 1s 12us/sample - loss: 0.1539 - accuracy: 0.9540 - val_loss: 0.1122 - val_accuracy: 0.9666\n",
      "Epoch 67/200\n",
      "48000/48000 [==============================] - 1s 12us/sample - loss: 0.1546 - accuracy: 0.9544 - val_loss: 0.1121 - val_accuracy: 0.9668\n",
      "Epoch 68/200\n",
      "48000/48000 [==============================] - 1s 12us/sample - loss: 0.1532 - accuracy: 0.9545 - val_loss: 0.1106 - val_accuracy: 0.9678\n",
      "Epoch 69/200\n",
      "48000/48000 [==============================] - 1s 12us/sample - loss: 0.1535 - accuracy: 0.9540 - val_loss: 0.1103 - val_accuracy: 0.9676\n",
      "Epoch 70/200\n",
      "48000/48000 [==============================] - 1s 12us/sample - loss: 0.1531 - accuracy: 0.9549 - val_loss: 0.1099 - val_accuracy: 0.9672\n",
      "Epoch 71/200\n",
      "48000/48000 [==============================] - 1s 12us/sample - loss: 0.1475 - accuracy: 0.9563 - val_loss: 0.1090 - val_accuracy: 0.9676\n",
      "Epoch 72/200\n",
      "48000/48000 [==============================] - 1s 12us/sample - loss: 0.1474 - accuracy: 0.9564 - val_loss: 0.1087 - val_accuracy: 0.9670\n",
      "Epoch 73/200\n",
      "48000/48000 [==============================] - 1s 12us/sample - loss: 0.1459 - accuracy: 0.9570 - val_loss: 0.1079 - val_accuracy: 0.9675\n",
      "Epoch 74/200\n",
      "48000/48000 [==============================] - 1s 12us/sample - loss: 0.1468 - accuracy: 0.9568 - val_loss: 0.1070 - val_accuracy: 0.9678\n",
      "Epoch 75/200\n",
      "48000/48000 [==============================] - 1s 12us/sample - loss: 0.1441 - accuracy: 0.9572 - val_loss: 0.1059 - val_accuracy: 0.9687\n",
      "Epoch 76/200\n",
      "48000/48000 [==============================] - 1s 12us/sample - loss: 0.1422 - accuracy: 0.9585 - val_loss: 0.1061 - val_accuracy: 0.9682\n",
      "Epoch 77/200\n",
      "48000/48000 [==============================] - 1s 12us/sample - loss: 0.1408 - accuracy: 0.9578 - val_loss: 0.1055 - val_accuracy: 0.9683\n",
      "Epoch 78/200\n",
      "48000/48000 [==============================] - 1s 12us/sample - loss: 0.1425 - accuracy: 0.9576 - val_loss: 0.1049 - val_accuracy: 0.9691\n",
      "Epoch 79/200\n",
      "48000/48000 [==============================] - 1s 12us/sample - loss: 0.1405 - accuracy: 0.9584 - val_loss: 0.1043 - val_accuracy: 0.9688\n",
      "Epoch 80/200\n",
      "48000/48000 [==============================] - 1s 12us/sample - loss: 0.1383 - accuracy: 0.9584 - val_loss: 0.1044 - val_accuracy: 0.9691\n",
      "Epoch 81/200\n",
      "48000/48000 [==============================] - 1s 12us/sample - loss: 0.1354 - accuracy: 0.9598 - val_loss: 0.1033 - val_accuracy: 0.9695\n",
      "Epoch 82/200\n",
      "48000/48000 [==============================] - 1s 12us/sample - loss: 0.1335 - accuracy: 0.9610 - val_loss: 0.1029 - val_accuracy: 0.9689\n",
      "Epoch 83/200\n",
      "48000/48000 [==============================] - 1s 12us/sample - loss: 0.1362 - accuracy: 0.9600 - val_loss: 0.1024 - val_accuracy: 0.9694\n",
      "Epoch 84/200\n",
      "48000/48000 [==============================] - 1s 12us/sample - loss: 0.1355 - accuracy: 0.9589 - val_loss: 0.1018 - val_accuracy: 0.9694\n",
      "Epoch 85/200\n",
      "48000/48000 [==============================] - 1s 12us/sample - loss: 0.1342 - accuracy: 0.9607 - val_loss: 0.1015 - val_accuracy: 0.9694\n",
      "Epoch 86/200\n",
      "48000/48000 [==============================] - 1s 12us/sample - loss: 0.1312 - accuracy: 0.9616 - val_loss: 0.1018 - val_accuracy: 0.9696\n",
      "Epoch 87/200\n",
      "48000/48000 [==============================] - 1s 12us/sample - loss: 0.1313 - accuracy: 0.9600 - val_loss: 0.1005 - val_accuracy: 0.9702\n",
      "Epoch 88/200\n",
      "48000/48000 [==============================] - 1s 12us/sample - loss: 0.1307 - accuracy: 0.9613 - val_loss: 0.1001 - val_accuracy: 0.9697\n",
      "Epoch 89/200\n",
      "48000/48000 [==============================] - 1s 12us/sample - loss: 0.1318 - accuracy: 0.9604 - val_loss: 0.0998 - val_accuracy: 0.9703\n",
      "Epoch 90/200\n",
      "48000/48000 [==============================] - 1s 12us/sample - loss: 0.1300 - accuracy: 0.9609 - val_loss: 0.0996 - val_accuracy: 0.9702\n",
      "Epoch 91/200\n",
      "48000/48000 [==============================] - 1s 12us/sample - loss: 0.1267 - accuracy: 0.9626 - val_loss: 0.0991 - val_accuracy: 0.9703\n",
      "Epoch 92/200\n",
      "48000/48000 [==============================] - 1s 12us/sample - loss: 0.1277 - accuracy: 0.9626 - val_loss: 0.0984 - val_accuracy: 0.9711\n",
      "Epoch 93/200\n",
      "48000/48000 [==============================] - 1s 12us/sample - loss: 0.1266 - accuracy: 0.9630 - val_loss: 0.0981 - val_accuracy: 0.9709\n",
      "Epoch 94/200\n",
      "48000/48000 [==============================] - 1s 12us/sample - loss: 0.1270 - accuracy: 0.9604 - val_loss: 0.0981 - val_accuracy: 0.9706\n",
      "Epoch 95/200\n",
      "48000/48000 [==============================] - 1s 12us/sample - loss: 0.1272 - accuracy: 0.9622 - val_loss: 0.0977 - val_accuracy: 0.9710\n",
      "Epoch 96/200\n",
      "48000/48000 [==============================] - 1s 12us/sample - loss: 0.1220 - accuracy: 0.9634 - val_loss: 0.0966 - val_accuracy: 0.9711\n",
      "Epoch 97/200\n",
      "48000/48000 [==============================] - 1s 12us/sample - loss: 0.1248 - accuracy: 0.9625 - val_loss: 0.0964 - val_accuracy: 0.9710\n",
      "Epoch 98/200\n",
      "48000/48000 [==============================] - 1s 12us/sample - loss: 0.1219 - accuracy: 0.9630 - val_loss: 0.0966 - val_accuracy: 0.9718\n",
      "Epoch 99/200\n",
      "48000/48000 [==============================] - 1s 12us/sample - loss: 0.1217 - accuracy: 0.9629 - val_loss: 0.0961 - val_accuracy: 0.9713\n",
      "Epoch 100/200\n",
      "48000/48000 [==============================] - 1s 12us/sample - loss: 0.1213 - accuracy: 0.9628 - val_loss: 0.0957 - val_accuracy: 0.9713\n",
      "Epoch 101/200\n",
      "48000/48000 [==============================] - 1s 12us/sample - loss: 0.1203 - accuracy: 0.9642 - val_loss: 0.0951 - val_accuracy: 0.9722\n",
      "Epoch 102/200\n",
      "48000/48000 [==============================] - 1s 12us/sample - loss: 0.1180 - accuracy: 0.9649 - val_loss: 0.0946 - val_accuracy: 0.9721\n",
      "Epoch 103/200\n",
      "48000/48000 [==============================] - 1s 12us/sample - loss: 0.1164 - accuracy: 0.9656 - val_loss: 0.0948 - val_accuracy: 0.9719\n",
      "Epoch 104/200\n",
      "48000/48000 [==============================] - 1s 12us/sample - loss: 0.1165 - accuracy: 0.9643 - val_loss: 0.0949 - val_accuracy: 0.9728\n",
      "Epoch 105/200\n",
      "48000/48000 [==============================] - 1s 12us/sample - loss: 0.1179 - accuracy: 0.9642 - val_loss: 0.0939 - val_accuracy: 0.9723\n",
      "Epoch 106/200\n",
      "48000/48000 [==============================] - 1s 13us/sample - loss: 0.1193 - accuracy: 0.9641 - val_loss: 0.0942 - val_accuracy: 0.9718\n",
      "Epoch 107/200\n",
      "48000/48000 [==============================] - 1s 12us/sample - loss: 0.1158 - accuracy: 0.9655 - val_loss: 0.0930 - val_accuracy: 0.9728\n",
      "Epoch 108/200\n",
      "48000/48000 [==============================] - 1s 12us/sample - loss: 0.1142 - accuracy: 0.9657 - val_loss: 0.0935 - val_accuracy: 0.9722\n",
      "Epoch 109/200\n"
     ]
    },
    {
     "name": "stdout",
     "output_type": "stream",
     "text": [
      "48000/48000 [==============================] - 1s 12us/sample - loss: 0.1143 - accuracy: 0.9661 - val_loss: 0.0929 - val_accuracy: 0.9722\n",
      "Epoch 110/200\n",
      "48000/48000 [==============================] - 1s 12us/sample - loss: 0.1132 - accuracy: 0.9660 - val_loss: 0.0927 - val_accuracy: 0.9724\n",
      "Epoch 111/200\n",
      "48000/48000 [==============================] - 1s 12us/sample - loss: 0.1143 - accuracy: 0.9653 - val_loss: 0.0928 - val_accuracy: 0.9729\n",
      "Epoch 112/200\n",
      "48000/48000 [==============================] - 1s 13us/sample - loss: 0.1116 - accuracy: 0.9666 - val_loss: 0.0927 - val_accuracy: 0.9727\n",
      "Epoch 113/200\n",
      "48000/48000 [==============================] - 1s 13us/sample - loss: 0.1120 - accuracy: 0.9662 - val_loss: 0.0925 - val_accuracy: 0.9731\n",
      "Epoch 114/200\n",
      "48000/48000 [==============================] - 1s 14us/sample - loss: 0.1119 - accuracy: 0.9663 - val_loss: 0.0914 - val_accuracy: 0.9730\n",
      "Epoch 115/200\n",
      "48000/48000 [==============================] - 1s 15us/sample - loss: 0.1098 - accuracy: 0.9664 - val_loss: 0.0912 - val_accuracy: 0.9729\n",
      "Epoch 116/200\n",
      "48000/48000 [==============================] - 1s 15us/sample - loss: 0.1113 - accuracy: 0.9669 - val_loss: 0.0907 - val_accuracy: 0.9735\n",
      "Epoch 117/200\n",
      "48000/48000 [==============================] - 1s 14us/sample - loss: 0.1084 - accuracy: 0.9677 - val_loss: 0.0913 - val_accuracy: 0.9734\n",
      "Epoch 118/200\n",
      "48000/48000 [==============================] - 1s 13us/sample - loss: 0.1078 - accuracy: 0.9678 - val_loss: 0.0903 - val_accuracy: 0.9732\n",
      "Epoch 119/200\n",
      "48000/48000 [==============================] - 1s 13us/sample - loss: 0.1080 - accuracy: 0.9668 - val_loss: 0.0904 - val_accuracy: 0.9737\n",
      "Epoch 120/200\n",
      "48000/48000 [==============================] - 1s 12us/sample - loss: 0.1070 - accuracy: 0.9685 - val_loss: 0.0901 - val_accuracy: 0.9737\n",
      "Epoch 121/200\n",
      "48000/48000 [==============================] - 1s 12us/sample - loss: 0.1069 - accuracy: 0.9671 - val_loss: 0.0899 - val_accuracy: 0.9733\n",
      "Epoch 122/200\n",
      "48000/48000 [==============================] - 1s 12us/sample - loss: 0.1070 - accuracy: 0.9679 - val_loss: 0.0894 - val_accuracy: 0.9737\n",
      "Epoch 123/200\n",
      "48000/48000 [==============================] - 1s 13us/sample - loss: 0.1072 - accuracy: 0.9675 - val_loss: 0.0894 - val_accuracy: 0.9733\n",
      "Epoch 124/200\n",
      "48000/48000 [==============================] - 1s 12us/sample - loss: 0.1057 - accuracy: 0.9685 - val_loss: 0.0890 - val_accuracy: 0.9737\n",
      "Epoch 125/200\n",
      "48000/48000 [==============================] - 1s 12us/sample - loss: 0.1069 - accuracy: 0.9686 - val_loss: 0.0889 - val_accuracy: 0.9737\n",
      "Epoch 126/200\n",
      "48000/48000 [==============================] - 1s 12us/sample - loss: 0.1043 - accuracy: 0.9690 - val_loss: 0.0885 - val_accuracy: 0.9742\n",
      "Epoch 127/200\n",
      "48000/48000 [==============================] - 1s 12us/sample - loss: 0.1025 - accuracy: 0.9684 - val_loss: 0.0879 - val_accuracy: 0.9743\n",
      "Epoch 128/200\n",
      "48000/48000 [==============================] - 1s 12us/sample - loss: 0.1058 - accuracy: 0.9683 - val_loss: 0.0878 - val_accuracy: 0.9741\n",
      "Epoch 129/200\n",
      "48000/48000 [==============================] - 1s 12us/sample - loss: 0.1052 - accuracy: 0.9683 - val_loss: 0.0874 - val_accuracy: 0.9741\n",
      "Epoch 130/200\n",
      "48000/48000 [==============================] - 1s 12us/sample - loss: 0.1001 - accuracy: 0.9699 - val_loss: 0.0878 - val_accuracy: 0.9745\n",
      "Epoch 131/200\n",
      "48000/48000 [==============================] - 1s 12us/sample - loss: 0.1036 - accuracy: 0.9687 - val_loss: 0.0877 - val_accuracy: 0.9739\n",
      "Epoch 132/200\n",
      "48000/48000 [==============================] - 1s 13us/sample - loss: 0.1027 - accuracy: 0.9681 - val_loss: 0.0874 - val_accuracy: 0.9743\n",
      "Epoch 133/200\n",
      "48000/48000 [==============================] - 1s 13us/sample - loss: 0.1019 - accuracy: 0.9686 - val_loss: 0.0869 - val_accuracy: 0.9743\n",
      "Epoch 134/200\n",
      "48000/48000 [==============================] - 1s 13us/sample - loss: 0.1021 - accuracy: 0.9688 - val_loss: 0.0866 - val_accuracy: 0.9743\n",
      "Epoch 135/200\n",
      "48000/48000 [==============================] - 1s 14us/sample - loss: 0.1013 - accuracy: 0.9688 - val_loss: 0.0871 - val_accuracy: 0.9741\n",
      "Epoch 136/200\n",
      "48000/48000 [==============================] - 1s 14us/sample - loss: 0.1000 - accuracy: 0.9696 - val_loss: 0.0862 - val_accuracy: 0.9745\n",
      "Epoch 137/200\n",
      "48000/48000 [==============================] - 1s 12us/sample - loss: 0.0984 - accuracy: 0.9702 - val_loss: 0.0864 - val_accuracy: 0.9744\n",
      "Epoch 138/200\n",
      "48000/48000 [==============================] - 1s 12us/sample - loss: 0.0989 - accuracy: 0.9694 - val_loss: 0.0858 - val_accuracy: 0.9746\n",
      "Epoch 139/200\n",
      "48000/48000 [==============================] - 1s 14us/sample - loss: 0.0995 - accuracy: 0.9692 - val_loss: 0.0853 - val_accuracy: 0.9746\n",
      "Epoch 140/200\n",
      "48000/48000 [==============================] - 1s 13us/sample - loss: 0.0961 - accuracy: 0.9714 - val_loss: 0.0854 - val_accuracy: 0.9747\n",
      "Epoch 141/200\n",
      "48000/48000 [==============================] - 1s 14us/sample - loss: 0.0984 - accuracy: 0.9703 - val_loss: 0.0851 - val_accuracy: 0.9748\n",
      "Epoch 142/200\n",
      "48000/48000 [==============================] - 1s 12us/sample - loss: 0.0962 - accuracy: 0.9703 - val_loss: 0.0851 - val_accuracy: 0.9752\n",
      "Epoch 143/200\n",
      "48000/48000 [==============================] - 1s 12us/sample - loss: 0.0961 - accuracy: 0.9705 - val_loss: 0.0849 - val_accuracy: 0.9749\n",
      "Epoch 144/200\n",
      "48000/48000 [==============================] - 1s 13us/sample - loss: 0.0946 - accuracy: 0.9707 - val_loss: 0.0853 - val_accuracy: 0.9753\n",
      "Epoch 145/200\n",
      "48000/48000 [==============================] - 1s 12us/sample - loss: 0.0938 - accuracy: 0.9723 - val_loss: 0.0849 - val_accuracy: 0.9747\n",
      "Epoch 146/200\n",
      "48000/48000 [==============================] - 1s 12us/sample - loss: 0.0940 - accuracy: 0.9709 - val_loss: 0.0845 - val_accuracy: 0.9753\n",
      "Epoch 147/200\n",
      "48000/48000 [==============================] - 1s 12us/sample - loss: 0.0943 - accuracy: 0.9709 - val_loss: 0.0841 - val_accuracy: 0.9752\n",
      "Epoch 148/200\n",
      "48000/48000 [==============================] - 1s 12us/sample - loss: 0.0946 - accuracy: 0.9711 - val_loss: 0.0846 - val_accuracy: 0.9746\n",
      "Epoch 149/200\n",
      "48000/48000 [==============================] - 1s 12us/sample - loss: 0.0922 - accuracy: 0.9724 - val_loss: 0.0844 - val_accuracy: 0.9750\n",
      "Epoch 150/200\n",
      "48000/48000 [==============================] - 1s 12us/sample - loss: 0.0918 - accuracy: 0.9715 - val_loss: 0.0843 - val_accuracy: 0.9753\n",
      "Epoch 151/200\n",
      "48000/48000 [==============================] - 1s 12us/sample - loss: 0.0909 - accuracy: 0.9723 - val_loss: 0.0846 - val_accuracy: 0.9751\n",
      "Epoch 152/200\n",
      "48000/48000 [==============================] - 1s 13us/sample - loss: 0.0898 - accuracy: 0.9719 - val_loss: 0.0845 - val_accuracy: 0.9751\n",
      "Epoch 153/200\n",
      "48000/48000 [==============================] - 1s 13us/sample - loss: 0.0904 - accuracy: 0.9734 - val_loss: 0.0842 - val_accuracy: 0.9753\n",
      "Epoch 154/200\n",
      "48000/48000 [==============================] - 1s 13us/sample - loss: 0.0922 - accuracy: 0.9724 - val_loss: 0.0837 - val_accuracy: 0.9750\n",
      "Epoch 155/200\n",
      "48000/48000 [==============================] - 1s 12us/sample - loss: 0.0906 - accuracy: 0.9720 - val_loss: 0.0834 - val_accuracy: 0.9755\n",
      "Epoch 156/200\n",
      "48000/48000 [==============================] - 1s 13us/sample - loss: 0.0880 - accuracy: 0.9735 - val_loss: 0.0831 - val_accuracy: 0.9751\n",
      "Epoch 157/200\n",
      "48000/48000 [==============================] - 1s 13us/sample - loss: 0.0918 - accuracy: 0.9721 - val_loss: 0.0834 - val_accuracy: 0.9757\n",
      "Epoch 158/200\n",
      "48000/48000 [==============================] - 1s 12us/sample - loss: 0.0889 - accuracy: 0.9729 - val_loss: 0.0829 - val_accuracy: 0.9753\n",
      "Epoch 159/200\n",
      "48000/48000 [==============================] - 1s 13us/sample - loss: 0.0879 - accuracy: 0.9735 - val_loss: 0.0826 - val_accuracy: 0.9756\n",
      "Epoch 160/200\n",
      "48000/48000 [==============================] - 1s 13us/sample - loss: 0.0902 - accuracy: 0.9726 - val_loss: 0.0824 - val_accuracy: 0.9754\n",
      "Epoch 161/200\n",
      "48000/48000 [==============================] - 1s 13us/sample - loss: 0.0851 - accuracy: 0.9748 - val_loss: 0.0827 - val_accuracy: 0.9754\n",
      "Epoch 162/200\n",
      "48000/48000 [==============================] - 1s 12us/sample - loss: 0.0875 - accuracy: 0.9734 - val_loss: 0.0823 - val_accuracy: 0.9752\n"
     ]
    },
    {
     "name": "stdout",
     "output_type": "stream",
     "text": [
      "Epoch 163/200\n",
      "48000/48000 [==============================] - 1s 13us/sample - loss: 0.0872 - accuracy: 0.9731 - val_loss: 0.0823 - val_accuracy: 0.9757\n",
      "Epoch 164/200\n",
      "48000/48000 [==============================] - 1s 12us/sample - loss: 0.0866 - accuracy: 0.9731 - val_loss: 0.0819 - val_accuracy: 0.9757\n",
      "Epoch 165/200\n",
      "48000/48000 [==============================] - 1s 13us/sample - loss: 0.0876 - accuracy: 0.9726 - val_loss: 0.0826 - val_accuracy: 0.9759\n",
      "Epoch 166/200\n",
      "48000/48000 [==============================] - 1s 15us/sample - loss: 0.0861 - accuracy: 0.9727 - val_loss: 0.0818 - val_accuracy: 0.9757\n",
      "Epoch 167/200\n",
      "48000/48000 [==============================] - 1s 14us/sample - loss: 0.0847 - accuracy: 0.9738 - val_loss: 0.0823 - val_accuracy: 0.9763\n",
      "Epoch 168/200\n",
      "48000/48000 [==============================] - 1s 16us/sample - loss: 0.0863 - accuracy: 0.9738 - val_loss: 0.0819 - val_accuracy: 0.9758\n",
      "Epoch 169/200\n",
      "48000/48000 [==============================] - 1s 13us/sample - loss: 0.0875 - accuracy: 0.9726 - val_loss: 0.0817 - val_accuracy: 0.9760\n",
      "Epoch 170/200\n",
      "48000/48000 [==============================] - 1s 13us/sample - loss: 0.0835 - accuracy: 0.9750 - val_loss: 0.0816 - val_accuracy: 0.9764\n",
      "Epoch 171/200\n",
      "48000/48000 [==============================] - 1s 13us/sample - loss: 0.0854 - accuracy: 0.9732 - val_loss: 0.0813 - val_accuracy: 0.9762\n",
      "Epoch 172/200\n",
      "48000/48000 [==============================] - 1s 13us/sample - loss: 0.0842 - accuracy: 0.9748 - val_loss: 0.0818 - val_accuracy: 0.9761\n",
      "Epoch 173/200\n",
      "48000/48000 [==============================] - 1s 13us/sample - loss: 0.0849 - accuracy: 0.9737 - val_loss: 0.0812 - val_accuracy: 0.9760\n",
      "Epoch 174/200\n",
      "48000/48000 [==============================] - 1s 13us/sample - loss: 0.0830 - accuracy: 0.9741 - val_loss: 0.0812 - val_accuracy: 0.9758\n",
      "Epoch 175/200\n",
      "48000/48000 [==============================] - 1s 13us/sample - loss: 0.0850 - accuracy: 0.9734 - val_loss: 0.0814 - val_accuracy: 0.9758\n",
      "Epoch 176/200\n",
      "48000/48000 [==============================] - 1s 13us/sample - loss: 0.0826 - accuracy: 0.9736 - val_loss: 0.0810 - val_accuracy: 0.9762\n",
      "Epoch 177/200\n",
      "48000/48000 [==============================] - 1s 13us/sample - loss: 0.0839 - accuracy: 0.9741 - val_loss: 0.0807 - val_accuracy: 0.9761\n",
      "Epoch 178/200\n",
      "48000/48000 [==============================] - 1s 13us/sample - loss: 0.0827 - accuracy: 0.9753 - val_loss: 0.0803 - val_accuracy: 0.9760\n",
      "Epoch 179/200\n",
      "48000/48000 [==============================] - 1s 13us/sample - loss: 0.0814 - accuracy: 0.9751 - val_loss: 0.0808 - val_accuracy: 0.9757\n",
      "Epoch 180/200\n",
      "48000/48000 [==============================] - 1s 13us/sample - loss: 0.0812 - accuracy: 0.9750 - val_loss: 0.0804 - val_accuracy: 0.9761\n",
      "Epoch 181/200\n",
      "48000/48000 [==============================] - 1s 13us/sample - loss: 0.0793 - accuracy: 0.9746 - val_loss: 0.0802 - val_accuracy: 0.9765\n",
      "Epoch 182/200\n",
      "48000/48000 [==============================] - 1s 14us/sample - loss: 0.0813 - accuracy: 0.9751 - val_loss: 0.0800 - val_accuracy: 0.9758\n",
      "Epoch 183/200\n",
      "48000/48000 [==============================] - 1s 13us/sample - loss: 0.0798 - accuracy: 0.9751 - val_loss: 0.0805 - val_accuracy: 0.9766\n",
      "Epoch 184/200\n",
      "48000/48000 [==============================] - 1s 14us/sample - loss: 0.0820 - accuracy: 0.9749 - val_loss: 0.0799 - val_accuracy: 0.9762\n",
      "Epoch 185/200\n",
      "48000/48000 [==============================] - 1s 13us/sample - loss: 0.0795 - accuracy: 0.9745 - val_loss: 0.0796 - val_accuracy: 0.9762\n",
      "Epoch 186/200\n",
      "48000/48000 [==============================] - 1s 13us/sample - loss: 0.0804 - accuracy: 0.9750 - val_loss: 0.0795 - val_accuracy: 0.9764\n",
      "Epoch 187/200\n",
      "48000/48000 [==============================] - 1s 13us/sample - loss: 0.0797 - accuracy: 0.9754 - val_loss: 0.0798 - val_accuracy: 0.9768\n",
      "Epoch 188/200\n",
      "48000/48000 [==============================] - 1s 13us/sample - loss: 0.0780 - accuracy: 0.9761 - val_loss: 0.0801 - val_accuracy: 0.9769\n",
      "Epoch 189/200\n",
      "48000/48000 [==============================] - 1s 14us/sample - loss: 0.0792 - accuracy: 0.9754 - val_loss: 0.0796 - val_accuracy: 0.9767\n",
      "Epoch 190/200\n",
      "48000/48000 [==============================] - 1s 13us/sample - loss: 0.0783 - accuracy: 0.9754 - val_loss: 0.0798 - val_accuracy: 0.9767\n",
      "Epoch 191/200\n",
      "48000/48000 [==============================] - 1s 13us/sample - loss: 0.0782 - accuracy: 0.9754 - val_loss: 0.0788 - val_accuracy: 0.9767\n",
      "Epoch 192/200\n",
      "48000/48000 [==============================] - 1s 13us/sample - loss: 0.0773 - accuracy: 0.9765 - val_loss: 0.0788 - val_accuracy: 0.9767\n",
      "Epoch 193/200\n",
      "48000/48000 [==============================] - 1s 13us/sample - loss: 0.0772 - accuracy: 0.9763 - val_loss: 0.0789 - val_accuracy: 0.9767\n",
      "Epoch 194/200\n",
      "48000/48000 [==============================] - 1s 13us/sample - loss: 0.0779 - accuracy: 0.9757 - val_loss: 0.0790 - val_accuracy: 0.9769\n",
      "Epoch 195/200\n",
      "48000/48000 [==============================] - 1s 13us/sample - loss: 0.0783 - accuracy: 0.9762 - val_loss: 0.0790 - val_accuracy: 0.9766\n",
      "Epoch 196/200\n",
      "48000/48000 [==============================] - 1s 13us/sample - loss: 0.0769 - accuracy: 0.9763 - val_loss: 0.0789 - val_accuracy: 0.9766\n",
      "Epoch 197/200\n",
      "48000/48000 [==============================] - 1s 14us/sample - loss: 0.0760 - accuracy: 0.9756 - val_loss: 0.0791 - val_accuracy: 0.9769\n",
      "Epoch 198/200\n",
      "48000/48000 [==============================] - 1s 14us/sample - loss: 0.0768 - accuracy: 0.9763 - val_loss: 0.0794 - val_accuracy: 0.9768\n",
      "Epoch 199/200\n",
      "48000/48000 [==============================] - 1s 13us/sample - loss: 0.0765 - accuracy: 0.9767 - val_loss: 0.0786 - val_accuracy: 0.9764\n",
      "Epoch 200/200\n",
      "48000/48000 [==============================] - 1s 13us/sample - loss: 0.0766 - accuracy: 0.9768 - val_loss: 0.0785 - val_accuracy: 0.9769\n"
     ]
    },
    {
     "data": {
      "text/plain": [
       "<tensorflow.python.keras.callbacks.History at 0x23d9dec8d48>"
      ]
     },
     "execution_count": 107,
     "metadata": {},
     "output_type": "execute_result"
    }
   ],
   "source": [
    "# 모델 훈련\n",
    "model.fit(x_train, y_train, \n",
    "          batch_size = batch_size, \n",
    "          epochs = epochs, \n",
    "         verbose = verbose, \n",
    "         validation_split =  validation_split)"
   ]
  },
  {
   "cell_type": "code",
   "execution_count": 108,
   "metadata": {},
   "outputs": [
    {
     "name": "stdout",
     "output_type": "stream",
     "text": [
      "10000/10000 [==============================] - 0s 18us/sample - loss: 0.0743 - accuracy: 0.9769\n",
      "Test accuracy :  0.9769\n"
     ]
    }
   ],
   "source": [
    "# 모델 평가\n",
    "test_loss, test_acc = model.evaluate(x_test, y_test)\n",
    "print('Test accuracy : ',test_acc)"
   ]
  },
  {
   "cell_type": "markdown",
   "metadata": {},
   "source": [
    "### 정확도 97%"
   ]
  },
  {
   "cell_type": "code",
   "execution_count": null,
   "metadata": {},
   "outputs": [],
   "source": []
  }
 ],
 "metadata": {
  "kernelspec": {
   "display_name": "Python 3",
   "language": "python",
   "name": "python3"
  },
  "language_info": {
   "codemirror_mode": {
    "name": "ipython",
    "version": 3
   },
   "file_extension": ".py",
   "mimetype": "text/x-python",
   "name": "python",
   "nbconvert_exporter": "python",
   "pygments_lexer": "ipython3",
   "version": "3.7.7"
  }
 },
 "nbformat": 4,
 "nbformat_minor": 4
}
