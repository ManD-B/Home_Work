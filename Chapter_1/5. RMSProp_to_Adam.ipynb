{
 "cells": [
  {
   "cell_type": "markdown",
   "metadata": {},
   "source": [
    "# MINST 필기체 숫자 인식"
   ]
  },
  {
   "cell_type": "code",
   "execution_count": 1,
   "metadata": {},
   "outputs": [],
   "source": [
    "import tensorflow as tf"
   ]
  },
  {
   "cell_type": "code",
   "execution_count": 2,
   "metadata": {},
   "outputs": [],
   "source": [
    "import numpy as np"
   ]
  },
  {
   "cell_type": "code",
   "execution_count": 3,
   "metadata": {},
   "outputs": [],
   "source": [
    "from tensorflow import keras"
   ]
  },
  {
   "cell_type": "code",
   "execution_count": 4,
   "metadata": {},
   "outputs": [],
   "source": [
    "# 신경망과 훈련 매개변수\n",
    "epochs = 200\n",
    "batch_size = 128\n",
    "verbose = 1\n",
    "nb_classes = 10     # 출력 개수 = 숫자의 개수\n",
    "n_hidden = 128\n",
    "validation_split = 0.2     # 검증을 위해 남겨둔 훈련 데이터"
   ]
  },
  {
   "cell_type": "code",
   "execution_count": 5,
   "metadata": {},
   "outputs": [],
   "source": [
    "# MINST 데이터셋 로드\n",
    "mnist = keras.datasets.mnist\n",
    "(x_train, y_train), (x_test, y_test) = mnist.load_data()"
   ]
  },
  {
   "cell_type": "code",
   "execution_count": 6,
   "metadata": {},
   "outputs": [
    {
     "data": {
      "text/plain": [
       "(60000, 28, 28)"
      ]
     },
     "execution_count": 6,
     "metadata": {},
     "output_type": "execute_result"
    }
   ],
   "source": [
    "x_train.shape"
   ]
  },
  {
   "cell_type": "code",
   "execution_count": 7,
   "metadata": {},
   "outputs": [],
   "source": [
    "# 이를 28x28에서 60000, 784로 바꿔줌\n",
    "reshaped = 784\n",
    "x_train = x_train.reshape(60000, reshaped)\n",
    "x_test = x_test.reshape(10000, reshaped)"
   ]
  },
  {
   "cell_type": "code",
   "execution_count": 8,
   "metadata": {},
   "outputs": [
    {
     "data": {
      "text/plain": [
       "(60000, 784)"
      ]
     },
     "execution_count": 8,
     "metadata": {},
     "output_type": "execute_result"
    }
   ],
   "source": [
    "x_train.shape"
   ]
  },
  {
   "cell_type": "code",
   "execution_count": 9,
   "metadata": {},
   "outputs": [],
   "source": [
    "x_train = x_train.astype('float32')\n",
    "x_test = x_test.astype('float32')"
   ]
  },
  {
   "cell_type": "code",
   "execution_count": 10,
   "metadata": {},
   "outputs": [
    {
     "name": "stdout",
     "output_type": "stream",
     "text": [
      "60000 train samples\n",
      "10000 test samples\n"
     ]
    }
   ],
   "source": [
    "# 픽셀값은 0~255인데 이를 255로 나눠줌으로써 0~1 사이로 정규화시킴\n",
    "x_train /= 255\n",
    "x_test /= 255\n",
    "print(x_train.shape[0], 'train samples')\n",
    "print(x_test.shape[0], 'test samples')"
   ]
  },
  {
   "cell_type": "code",
   "execution_count": 11,
   "metadata": {},
   "outputs": [],
   "source": [
    "# 원핫 인코딩\n",
    "y_train = tf.keras.utils.to_categorical(y_train, nb_classes)\n",
    "y_test = tf.keras.utils.to_categorical(y_test, nb_classes)"
   ]
  },
  {
   "cell_type": "code",
   "execution_count": 12,
   "metadata": {},
   "outputs": [],
   "source": [
    "dropout = 0.3"
   ]
  },
  {
   "cell_type": "code",
   "execution_count": 13,
   "metadata": {},
   "outputs": [
    {
     "name": "stdout",
     "output_type": "stream",
     "text": [
      "Model: \"sequential\"\n",
      "_________________________________________________________________\n",
      "Layer (type)                 Output Shape              Param #   \n",
      "=================================================================\n",
      "dense_layer (Dense)          (None, 128)               100480    \n",
      "_________________________________________________________________\n",
      "dropout (Dropout)            (None, 128)               0         \n",
      "_________________________________________________________________\n",
      "dense_layer_2 (Dense)        (None, 128)               16512     \n",
      "_________________________________________________________________\n",
      "dropout_1 (Dropout)          (None, 128)               0         \n",
      "_________________________________________________________________\n",
      "dense_layer_3 (Dense)        (None, 10)                1290      \n",
      "=================================================================\n",
      "Total params: 118,282\n",
      "Trainable params: 118,282\n",
      "Non-trainable params: 0\n",
      "_________________________________________________________________\n"
     ]
    }
   ],
   "source": [
    "# 모델 구축\n",
    "model = tf.keras.models.Sequential()\n",
    "model.add(keras.layers.Dense(n_hidden,\n",
    "                            input_shape = (reshaped,),\n",
    "                            name = 'dense_layer',\n",
    "                            activation = 'relu'))\n",
    "model.add(keras.layers.Dropout(dropout))\n",
    "model.add(keras.layers.Dense(n_hidden,\n",
    "                            name = 'dense_layer_2',\n",
    "                            activation = 'relu'))\n",
    "model.add(keras.layers.Dropout(dropout))\n",
    "model.add(keras.layers.Dense(nb_classes,\n",
    "                            name = 'dense_layer_3',\n",
    "                            activation = 'softmax'))\n",
    "model.summary()"
   ]
  },
  {
   "cell_type": "markdown",
   "metadata": {},
   "source": [
    "## 똑같이 따와서 이부분만 달라짐"
   ]
  },
  {
   "cell_type": "code",
   "execution_count": 14,
   "metadata": {},
   "outputs": [],
   "source": [
    "# 모델 컴파일\n",
    "model.compile(optimizer = 'Adam',   # 확률적 그래디언트 하강\n",
    "             loss = 'categorical_crossentropy',\n",
    "             metrics = ['accuracy'])"
   ]
  },
  {
   "cell_type": "code",
   "execution_count": 15,
   "metadata": {
    "scrolled": true
   },
   "outputs": [
    {
     "name": "stdout",
     "output_type": "stream",
     "text": [
      "Train on 48000 samples, validate on 12000 samples\n",
      "Epoch 1/200\n",
      "48000/48000 [==============================] - 1s 22us/sample - loss: 0.5185 - accuracy: 0.8415 - val_loss: 0.2015 - val_accuracy: 0.9415\n",
      "Epoch 2/200\n",
      "48000/48000 [==============================] - 1s 14us/sample - loss: 0.2328 - accuracy: 0.9305 - val_loss: 0.1366 - val_accuracy: 0.9607\n",
      "Epoch 3/200\n",
      "48000/48000 [==============================] - 1s 13us/sample - loss: 0.1807 - accuracy: 0.9457 - val_loss: 0.1173 - val_accuracy: 0.9647\n",
      "Epoch 4/200\n",
      "48000/48000 [==============================] - 1s 13us/sample - loss: 0.1505 - accuracy: 0.9544 - val_loss: 0.1082 - val_accuracy: 0.9680\n",
      "Epoch 5/200\n",
      "48000/48000 [==============================] - 1s 13us/sample - loss: 0.1331 - accuracy: 0.9597 - val_loss: 0.0983 - val_accuracy: 0.9707\n",
      "Epoch 6/200\n",
      "48000/48000 [==============================] - 1s 13us/sample - loss: 0.1202 - accuracy: 0.9639 - val_loss: 0.0950 - val_accuracy: 0.9712\n",
      "Epoch 7/200\n",
      "48000/48000 [==============================] - 1s 13us/sample - loss: 0.1066 - accuracy: 0.9666 - val_loss: 0.0914 - val_accuracy: 0.9735\n",
      "Epoch 8/200\n",
      "48000/48000 [==============================] - 1s 13us/sample - loss: 0.1014 - accuracy: 0.9685 - val_loss: 0.0880 - val_accuracy: 0.9747\n",
      "Epoch 9/200\n",
      "48000/48000 [==============================] - 1s 13us/sample - loss: 0.0904 - accuracy: 0.9714 - val_loss: 0.0846 - val_accuracy: 0.9748\n",
      "Epoch 10/200\n",
      "48000/48000 [==============================] - 1s 13us/sample - loss: 0.0855 - accuracy: 0.9743 - val_loss: 0.0874 - val_accuracy: 0.9739\n",
      "Epoch 11/200\n",
      "48000/48000 [==============================] - 1s 13us/sample - loss: 0.0804 - accuracy: 0.9740 - val_loss: 0.0841 - val_accuracy: 0.9765\n",
      "Epoch 12/200\n",
      "48000/48000 [==============================] - 1s 13us/sample - loss: 0.0758 - accuracy: 0.9756 - val_loss: 0.0866 - val_accuracy: 0.9758\n",
      "Epoch 13/200\n",
      "48000/48000 [==============================] - 1s 13us/sample - loss: 0.0735 - accuracy: 0.9770 - val_loss: 0.0892 - val_accuracy: 0.9760\n",
      "Epoch 14/200\n",
      "48000/48000 [==============================] - 1s 13us/sample - loss: 0.0661 - accuracy: 0.9783 - val_loss: 0.0830 - val_accuracy: 0.9768\n",
      "Epoch 15/200\n",
      "48000/48000 [==============================] - 1s 13us/sample - loss: 0.0664 - accuracy: 0.9789 - val_loss: 0.0884 - val_accuracy: 0.9755\n",
      "Epoch 16/200\n",
      "48000/48000 [==============================] - 1s 13us/sample - loss: 0.0650 - accuracy: 0.9790 - val_loss: 0.0853 - val_accuracy: 0.9765\n",
      "Epoch 17/200\n",
      "48000/48000 [==============================] - 1s 13us/sample - loss: 0.0625 - accuracy: 0.9796 - val_loss: 0.0872 - val_accuracy: 0.9776\n",
      "Epoch 18/200\n",
      "48000/48000 [==============================] - 1s 13us/sample - loss: 0.0571 - accuracy: 0.9816 - val_loss: 0.0867 - val_accuracy: 0.9773\n",
      "Epoch 19/200\n",
      "48000/48000 [==============================] - 1s 13us/sample - loss: 0.0566 - accuracy: 0.9817 - val_loss: 0.0913 - val_accuracy: 0.9776\n",
      "Epoch 20/200\n",
      "48000/48000 [==============================] - 1s 13us/sample - loss: 0.0566 - accuracy: 0.9814 - val_loss: 0.0868 - val_accuracy: 0.9784\n",
      "Epoch 21/200\n",
      "48000/48000 [==============================] - 1s 13us/sample - loss: 0.0549 - accuracy: 0.9821 - val_loss: 0.0872 - val_accuracy: 0.9777\n",
      "Epoch 22/200\n",
      "48000/48000 [==============================] - 1s 13us/sample - loss: 0.0536 - accuracy: 0.9820 - val_loss: 0.0864 - val_accuracy: 0.9768\n",
      "Epoch 23/200\n",
      "48000/48000 [==============================] - 1s 13us/sample - loss: 0.0504 - accuracy: 0.9839 - val_loss: 0.0847 - val_accuracy: 0.9779\n",
      "Epoch 24/200\n",
      "48000/48000 [==============================] - 1s 13us/sample - loss: 0.0486 - accuracy: 0.9849 - val_loss: 0.0842 - val_accuracy: 0.9790\n",
      "Epoch 25/200\n",
      "48000/48000 [==============================] - 1s 13us/sample - loss: 0.0472 - accuracy: 0.9843 - val_loss: 0.0924 - val_accuracy: 0.9761\n",
      "Epoch 26/200\n",
      "48000/48000 [==============================] - 1s 13us/sample - loss: 0.0460 - accuracy: 0.9850 - val_loss: 0.0926 - val_accuracy: 0.9773\n",
      "Epoch 27/200\n",
      "48000/48000 [==============================] - 1s 13us/sample - loss: 0.0471 - accuracy: 0.9841 - val_loss: 0.0886 - val_accuracy: 0.9789\n",
      "Epoch 28/200\n",
      "48000/48000 [==============================] - 1s 13us/sample - loss: 0.0428 - accuracy: 0.9860 - val_loss: 0.0889 - val_accuracy: 0.9791\n",
      "Epoch 29/200\n",
      "48000/48000 [==============================] - 1s 13us/sample - loss: 0.0442 - accuracy: 0.9850 - val_loss: 0.0904 - val_accuracy: 0.9794\n",
      "Epoch 30/200\n",
      "48000/48000 [==============================] - 1s 13us/sample - loss: 0.0387 - accuracy: 0.9872 - val_loss: 0.0907 - val_accuracy: 0.9778\n",
      "Epoch 31/200\n",
      "48000/48000 [==============================] - 1s 13us/sample - loss: 0.0408 - accuracy: 0.9862 - val_loss: 0.0910 - val_accuracy: 0.9786\n",
      "Epoch 32/200\n",
      "48000/48000 [==============================] - 1s 13us/sample - loss: 0.0394 - accuracy: 0.9868 - val_loss: 0.0888 - val_accuracy: 0.9781\n",
      "Epoch 33/200\n",
      "48000/48000 [==============================] - 1s 13us/sample - loss: 0.0379 - accuracy: 0.9877 - val_loss: 0.0935 - val_accuracy: 0.9789\n",
      "Epoch 34/200\n",
      "48000/48000 [==============================] - 1s 13us/sample - loss: 0.0392 - accuracy: 0.9870 - val_loss: 0.0963 - val_accuracy: 0.9792\n",
      "Epoch 35/200\n",
      "48000/48000 [==============================] - 1s 13us/sample - loss: 0.0386 - accuracy: 0.9876 - val_loss: 0.0910 - val_accuracy: 0.9779\n",
      "Epoch 36/200\n",
      "48000/48000 [==============================] - 1s 13us/sample - loss: 0.0393 - accuracy: 0.9864 - val_loss: 0.1003 - val_accuracy: 0.9779\n",
      "Epoch 37/200\n",
      "48000/48000 [==============================] - 1s 13us/sample - loss: 0.0407 - accuracy: 0.9862 - val_loss: 0.0896 - val_accuracy: 0.9789\n",
      "Epoch 38/200\n",
      "48000/48000 [==============================] - 1s 13us/sample - loss: 0.0402 - accuracy: 0.9861 - val_loss: 0.0942 - val_accuracy: 0.9781\n",
      "Epoch 39/200\n",
      "48000/48000 [==============================] - 1s 13us/sample - loss: 0.0366 - accuracy: 0.9876 - val_loss: 0.0924 - val_accuracy: 0.9788\n",
      "Epoch 40/200\n",
      "48000/48000 [==============================] - 1s 13us/sample - loss: 0.0358 - accuracy: 0.9883 - val_loss: 0.0915 - val_accuracy: 0.9787\n",
      "Epoch 41/200\n",
      "48000/48000 [==============================] - 1s 13us/sample - loss: 0.0346 - accuracy: 0.9881 - val_loss: 0.0997 - val_accuracy: 0.9786\n",
      "Epoch 42/200\n",
      "48000/48000 [==============================] - 1s 13us/sample - loss: 0.0337 - accuracy: 0.9892 - val_loss: 0.0957 - val_accuracy: 0.9789\n",
      "Epoch 43/200\n",
      "48000/48000 [==============================] - 1s 13us/sample - loss: 0.0326 - accuracy: 0.9893 - val_loss: 0.1027 - val_accuracy: 0.9784\n",
      "Epoch 44/200\n",
      "48000/48000 [==============================] - 1s 13us/sample - loss: 0.0347 - accuracy: 0.9886 - val_loss: 0.0981 - val_accuracy: 0.9783\n",
      "Epoch 45/200\n",
      "48000/48000 [==============================] - 1s 13us/sample - loss: 0.0350 - accuracy: 0.9884 - val_loss: 0.0971 - val_accuracy: 0.9777\n",
      "Epoch 46/200\n",
      "48000/48000 [==============================] - 1s 13us/sample - loss: 0.0320 - accuracy: 0.9894 - val_loss: 0.1024 - val_accuracy: 0.9778\n",
      "Epoch 47/200\n",
      "48000/48000 [==============================] - 1s 13us/sample - loss: 0.0310 - accuracy: 0.9892 - val_loss: 0.1004 - val_accuracy: 0.9781\n",
      "Epoch 48/200\n",
      "48000/48000 [==============================] - 1s 13us/sample - loss: 0.0337 - accuracy: 0.9886 - val_loss: 0.0986 - val_accuracy: 0.9783\n",
      "Epoch 49/200\n",
      "48000/48000 [==============================] - 1s 13us/sample - loss: 0.0339 - accuracy: 0.9885 - val_loss: 0.0958 - val_accuracy: 0.9793\n",
      "Epoch 50/200\n",
      "48000/48000 [==============================] - 1s 13us/sample - loss: 0.0339 - accuracy: 0.9892 - val_loss: 0.1039 - val_accuracy: 0.9783\n",
      "Epoch 51/200\n",
      "48000/48000 [==============================] - 1s 13us/sample - loss: 0.0296 - accuracy: 0.9902 - val_loss: 0.0979 - val_accuracy: 0.9773\n",
      "Epoch 52/200\n",
      "48000/48000 [==============================] - 1s 12us/sample - loss: 0.0300 - accuracy: 0.9899 - val_loss: 0.0974 - val_accuracy: 0.9789\n",
      "Epoch 53/200\n",
      "48000/48000 [==============================] - 1s 13us/sample - loss: 0.0308 - accuracy: 0.9901 - val_loss: 0.1058 - val_accuracy: 0.9793\n",
      "Epoch 54/200\n",
      "48000/48000 [==============================] - 1s 13us/sample - loss: 0.0306 - accuracy: 0.9893 - val_loss: 0.1046 - val_accuracy: 0.9786\n"
     ]
    },
    {
     "name": "stdout",
     "output_type": "stream",
     "text": [
      "Epoch 55/200\n",
      "48000/48000 [==============================] - 1s 13us/sample - loss: 0.0321 - accuracy: 0.9897 - val_loss: 0.0962 - val_accuracy: 0.9794\n",
      "Epoch 56/200\n",
      "48000/48000 [==============================] - 1s 13us/sample - loss: 0.0306 - accuracy: 0.9901 - val_loss: 0.1025 - val_accuracy: 0.9788\n",
      "Epoch 57/200\n",
      "48000/48000 [==============================] - 1s 13us/sample - loss: 0.0306 - accuracy: 0.9898 - val_loss: 0.1023 - val_accuracy: 0.9786\n",
      "Epoch 58/200\n",
      "48000/48000 [==============================] - 1s 13us/sample - loss: 0.0305 - accuracy: 0.9896 - val_loss: 0.1021 - val_accuracy: 0.9797\n",
      "Epoch 59/200\n",
      "48000/48000 [==============================] - 1s 13us/sample - loss: 0.0296 - accuracy: 0.9902 - val_loss: 0.1011 - val_accuracy: 0.9796\n",
      "Epoch 60/200\n",
      "48000/48000 [==============================] - 1s 13us/sample - loss: 0.0296 - accuracy: 0.9904 - val_loss: 0.1104 - val_accuracy: 0.9790\n",
      "Epoch 61/200\n",
      "48000/48000 [==============================] - 1s 13us/sample - loss: 0.0269 - accuracy: 0.9909 - val_loss: 0.0971 - val_accuracy: 0.9795\n",
      "Epoch 62/200\n",
      "48000/48000 [==============================] - 1s 13us/sample - loss: 0.0294 - accuracy: 0.9900 - val_loss: 0.1042 - val_accuracy: 0.9781\n",
      "Epoch 63/200\n",
      "48000/48000 [==============================] - 1s 13us/sample - loss: 0.0293 - accuracy: 0.9904 - val_loss: 0.1034 - val_accuracy: 0.9785\n",
      "Epoch 64/200\n",
      "48000/48000 [==============================] - 1s 13us/sample - loss: 0.0259 - accuracy: 0.9915 - val_loss: 0.1069 - val_accuracy: 0.9782\n",
      "Epoch 65/200\n",
      "48000/48000 [==============================] - 1s 13us/sample - loss: 0.0274 - accuracy: 0.9911 - val_loss: 0.1075 - val_accuracy: 0.9786\n",
      "Epoch 66/200\n",
      "48000/48000 [==============================] - 1s 13us/sample - loss: 0.0275 - accuracy: 0.9910 - val_loss: 0.1105 - val_accuracy: 0.9787\n",
      "Epoch 67/200\n",
      "48000/48000 [==============================] - 1s 13us/sample - loss: 0.0279 - accuracy: 0.9904 - val_loss: 0.1094 - val_accuracy: 0.9789\n",
      "Epoch 68/200\n",
      "48000/48000 [==============================] - 1s 13us/sample - loss: 0.0274 - accuracy: 0.9912 - val_loss: 0.1069 - val_accuracy: 0.9794\n",
      "Epoch 69/200\n",
      "48000/48000 [==============================] - 1s 13us/sample - loss: 0.0271 - accuracy: 0.9916 - val_loss: 0.1091 - val_accuracy: 0.9792\n",
      "Epoch 70/200\n",
      "48000/48000 [==============================] - 1s 13us/sample - loss: 0.0286 - accuracy: 0.9904 - val_loss: 0.1084 - val_accuracy: 0.9797\n",
      "Epoch 71/200\n",
      "48000/48000 [==============================] - 1s 13us/sample - loss: 0.0253 - accuracy: 0.9919 - val_loss: 0.1056 - val_accuracy: 0.9802\n",
      "Epoch 72/200\n",
      "48000/48000 [==============================] - 1s 13us/sample - loss: 0.0248 - accuracy: 0.9918 - val_loss: 0.1050 - val_accuracy: 0.9785\n",
      "Epoch 73/200\n",
      "48000/48000 [==============================] - 1s 13us/sample - loss: 0.0283 - accuracy: 0.9908 - val_loss: 0.1143 - val_accuracy: 0.9794\n",
      "Epoch 74/200\n",
      "48000/48000 [==============================] - 1s 13us/sample - loss: 0.0264 - accuracy: 0.9915 - val_loss: 0.1043 - val_accuracy: 0.9800\n",
      "Epoch 75/200\n",
      "48000/48000 [==============================] - 1s 13us/sample - loss: 0.0264 - accuracy: 0.9912 - val_loss: 0.1126 - val_accuracy: 0.9795\n",
      "Epoch 76/200\n",
      "48000/48000 [==============================] - 1s 13us/sample - loss: 0.0254 - accuracy: 0.9915 - val_loss: 0.1099 - val_accuracy: 0.9788\n",
      "Epoch 77/200\n",
      "48000/48000 [==============================] - 1s 13us/sample - loss: 0.0265 - accuracy: 0.9913 - val_loss: 0.1181 - val_accuracy: 0.9783\n",
      "Epoch 78/200\n",
      "48000/48000 [==============================] - 1s 13us/sample - loss: 0.0268 - accuracy: 0.9911 - val_loss: 0.1159 - val_accuracy: 0.9784\n",
      "Epoch 79/200\n",
      "48000/48000 [==============================] - 1s 13us/sample - loss: 0.0241 - accuracy: 0.9922 - val_loss: 0.1081 - val_accuracy: 0.9787\n",
      "Epoch 80/200\n",
      "48000/48000 [==============================] - 1s 13us/sample - loss: 0.0261 - accuracy: 0.9912 - val_loss: 0.1108 - val_accuracy: 0.9791\n",
      "Epoch 81/200\n",
      "48000/48000 [==============================] - 1s 13us/sample - loss: 0.0247 - accuracy: 0.9920 - val_loss: 0.1059 - val_accuracy: 0.9794\n",
      "Epoch 82/200\n",
      "48000/48000 [==============================] - 1s 13us/sample - loss: 0.0240 - accuracy: 0.9925 - val_loss: 0.1091 - val_accuracy: 0.9793\n",
      "Epoch 83/200\n",
      "48000/48000 [==============================] - 1s 13us/sample - loss: 0.0238 - accuracy: 0.9922 - val_loss: 0.1150 - val_accuracy: 0.9793\n",
      "Epoch 84/200\n",
      "48000/48000 [==============================] - 1s 13us/sample - loss: 0.0259 - accuracy: 0.9921 - val_loss: 0.1166 - val_accuracy: 0.9788\n",
      "Epoch 85/200\n",
      "48000/48000 [==============================] - 1s 13us/sample - loss: 0.0240 - accuracy: 0.9923 - val_loss: 0.1068 - val_accuracy: 0.9797\n",
      "Epoch 86/200\n",
      "48000/48000 [==============================] - 1s 13us/sample - loss: 0.0260 - accuracy: 0.9918 - val_loss: 0.1076 - val_accuracy: 0.9783\n",
      "Epoch 87/200\n",
      "48000/48000 [==============================] - 1s 13us/sample - loss: 0.0229 - accuracy: 0.9921 - val_loss: 0.1161 - val_accuracy: 0.9797\n",
      "Epoch 88/200\n",
      "48000/48000 [==============================] - 1s 13us/sample - loss: 0.0247 - accuracy: 0.9926 - val_loss: 0.1150 - val_accuracy: 0.9789\n",
      "Epoch 89/200\n",
      "48000/48000 [==============================] - 1s 13us/sample - loss: 0.0230 - accuracy: 0.9929 - val_loss: 0.1124 - val_accuracy: 0.9797\n",
      "Epoch 90/200\n",
      "48000/48000 [==============================] - 1s 13us/sample - loss: 0.0250 - accuracy: 0.9922 - val_loss: 0.1161 - val_accuracy: 0.9786\n",
      "Epoch 91/200\n",
      "48000/48000 [==============================] - 1s 13us/sample - loss: 0.0240 - accuracy: 0.9920 - val_loss: 0.1091 - val_accuracy: 0.9788\n",
      "Epoch 92/200\n",
      "48000/48000 [==============================] - 1s 13us/sample - loss: 0.0254 - accuracy: 0.9918 - val_loss: 0.1060 - val_accuracy: 0.9803\n",
      "Epoch 93/200\n",
      "48000/48000 [==============================] - 1s 13us/sample - loss: 0.0227 - accuracy: 0.9924 - val_loss: 0.1127 - val_accuracy: 0.9794\n",
      "Epoch 94/200\n",
      "48000/48000 [==============================] - 1s 13us/sample - loss: 0.0228 - accuracy: 0.9925 - val_loss: 0.1090 - val_accuracy: 0.9791\n",
      "Epoch 95/200\n",
      "48000/48000 [==============================] - 1s 13us/sample - loss: 0.0229 - accuracy: 0.9923 - val_loss: 0.1107 - val_accuracy: 0.9788\n",
      "Epoch 96/200\n",
      "48000/48000 [==============================] - 1s 13us/sample - loss: 0.0218 - accuracy: 0.9925 - val_loss: 0.1175 - val_accuracy: 0.9788\n",
      "Epoch 97/200\n",
      "48000/48000 [==============================] - 1s 13us/sample - loss: 0.0237 - accuracy: 0.9923 - val_loss: 0.1097 - val_accuracy: 0.9788\n",
      "Epoch 98/200\n",
      "48000/48000 [==============================] - 1s 13us/sample - loss: 0.0218 - accuracy: 0.9928 - val_loss: 0.1150 - val_accuracy: 0.9801\n",
      "Epoch 99/200\n",
      "48000/48000 [==============================] - 1s 13us/sample - loss: 0.0210 - accuracy: 0.9935 - val_loss: 0.1140 - val_accuracy: 0.9781\n",
      "Epoch 100/200\n",
      "48000/48000 [==============================] - 1s 13us/sample - loss: 0.0259 - accuracy: 0.9919 - val_loss: 0.1203 - val_accuracy: 0.9768\n",
      "Epoch 101/200\n",
      "48000/48000 [==============================] - 1s 13us/sample - loss: 0.0227 - accuracy: 0.9928 - val_loss: 0.1145 - val_accuracy: 0.9794\n",
      "Epoch 102/200\n",
      "48000/48000 [==============================] - 1s 13us/sample - loss: 0.0212 - accuracy: 0.9933 - val_loss: 0.1145 - val_accuracy: 0.9789\n",
      "Epoch 103/200\n",
      "48000/48000 [==============================] - 1s 13us/sample - loss: 0.0238 - accuracy: 0.9923 - val_loss: 0.1151 - val_accuracy: 0.9777\n",
      "Epoch 104/200\n",
      "48000/48000 [==============================] - 1s 13us/sample - loss: 0.0224 - accuracy: 0.9928 - val_loss: 0.1100 - val_accuracy: 0.9797\n",
      "Epoch 105/200\n",
      "48000/48000 [==============================] - 1s 13us/sample - loss: 0.0248 - accuracy: 0.9921 - val_loss: 0.1140 - val_accuracy: 0.9793\n",
      "Epoch 106/200\n",
      "48000/48000 [==============================] - 1s 13us/sample - loss: 0.0217 - accuracy: 0.9933 - val_loss: 0.1186 - val_accuracy: 0.9793\n",
      "Epoch 107/200\n",
      "48000/48000 [==============================] - 1s 13us/sample - loss: 0.0215 - accuracy: 0.9926 - val_loss: 0.1158 - val_accuracy: 0.9783\n",
      "Epoch 108/200\n",
      "48000/48000 [==============================] - 1s 13us/sample - loss: 0.0250 - accuracy: 0.9919 - val_loss: 0.1226 - val_accuracy: 0.9784\n",
      "Epoch 109/200\n"
     ]
    },
    {
     "name": "stdout",
     "output_type": "stream",
     "text": [
      "48000/48000 [==============================] - 1s 13us/sample - loss: 0.0199 - accuracy: 0.9940 - val_loss: 0.1145 - val_accuracy: 0.9801\n",
      "Epoch 110/200\n",
      "48000/48000 [==============================] - 1s 13us/sample - loss: 0.0212 - accuracy: 0.9931 - val_loss: 0.1140 - val_accuracy: 0.9792\n",
      "Epoch 111/200\n",
      "48000/48000 [==============================] - 1s 13us/sample - loss: 0.0223 - accuracy: 0.9931 - val_loss: 0.1123 - val_accuracy: 0.9793\n",
      "Epoch 112/200\n",
      "48000/48000 [==============================] - 1s 13us/sample - loss: 0.0221 - accuracy: 0.9928 - val_loss: 0.1129 - val_accuracy: 0.9790\n",
      "Epoch 113/200\n",
      "48000/48000 [==============================] - 1s 13us/sample - loss: 0.0213 - accuracy: 0.9927 - val_loss: 0.1132 - val_accuracy: 0.9787\n",
      "Epoch 114/200\n",
      "48000/48000 [==============================] - 1s 13us/sample - loss: 0.0209 - accuracy: 0.9933 - val_loss: 0.1171 - val_accuracy: 0.9788\n",
      "Epoch 115/200\n",
      "48000/48000 [==============================] - 1s 13us/sample - loss: 0.0236 - accuracy: 0.9928 - val_loss: 0.1166 - val_accuracy: 0.9778\n",
      "Epoch 116/200\n",
      "48000/48000 [==============================] - 1s 13us/sample - loss: 0.0200 - accuracy: 0.9939 - val_loss: 0.1212 - val_accuracy: 0.9790\n",
      "Epoch 117/200\n",
      "48000/48000 [==============================] - 1s 13us/sample - loss: 0.0188 - accuracy: 0.9937 - val_loss: 0.1169 - val_accuracy: 0.9793\n",
      "Epoch 118/200\n",
      "48000/48000 [==============================] - 1s 13us/sample - loss: 0.0247 - accuracy: 0.9924 - val_loss: 0.1147 - val_accuracy: 0.9796\n",
      "Epoch 119/200\n",
      "48000/48000 [==============================] - 1s 13us/sample - loss: 0.0229 - accuracy: 0.9925 - val_loss: 0.1186 - val_accuracy: 0.9803\n",
      "Epoch 120/200\n",
      "48000/48000 [==============================] - 1s 13us/sample - loss: 0.0213 - accuracy: 0.9931 - val_loss: 0.1109 - val_accuracy: 0.9799\n",
      "Epoch 121/200\n",
      "48000/48000 [==============================] - 1s 13us/sample - loss: 0.0200 - accuracy: 0.9935 - val_loss: 0.1257 - val_accuracy: 0.9783\n",
      "Epoch 122/200\n",
      "48000/48000 [==============================] - 1s 13us/sample - loss: 0.0204 - accuracy: 0.9933 - val_loss: 0.1169 - val_accuracy: 0.9796\n",
      "Epoch 123/200\n",
      "48000/48000 [==============================] - 1s 13us/sample - loss: 0.0218 - accuracy: 0.9929 - val_loss: 0.1291 - val_accuracy: 0.9787\n",
      "Epoch 124/200\n",
      "48000/48000 [==============================] - 1s 13us/sample - loss: 0.0215 - accuracy: 0.9933 - val_loss: 0.1194 - val_accuracy: 0.9796\n",
      "Epoch 125/200\n",
      "48000/48000 [==============================] - 1s 13us/sample - loss: 0.0217 - accuracy: 0.9931 - val_loss: 0.1209 - val_accuracy: 0.9794\n",
      "Epoch 126/200\n",
      "48000/48000 [==============================] - 1s 13us/sample - loss: 0.0212 - accuracy: 0.9931 - val_loss: 0.1211 - val_accuracy: 0.9793\n",
      "Epoch 127/200\n",
      "48000/48000 [==============================] - 1s 13us/sample - loss: 0.0213 - accuracy: 0.9932 - val_loss: 0.1244 - val_accuracy: 0.9783\n",
      "Epoch 128/200\n",
      "48000/48000 [==============================] - 1s 13us/sample - loss: 0.0206 - accuracy: 0.9932 - val_loss: 0.1214 - val_accuracy: 0.9785\n",
      "Epoch 129/200\n",
      "48000/48000 [==============================] - 1s 13us/sample - loss: 0.0191 - accuracy: 0.9933 - val_loss: 0.1226 - val_accuracy: 0.9795\n",
      "Epoch 130/200\n",
      "48000/48000 [==============================] - 1s 13us/sample - loss: 0.0197 - accuracy: 0.9933 - val_loss: 0.1297 - val_accuracy: 0.9784\n",
      "Epoch 131/200\n",
      "48000/48000 [==============================] - 1s 13us/sample - loss: 0.0195 - accuracy: 0.9935 - val_loss: 0.1213 - val_accuracy: 0.9786\n",
      "Epoch 132/200\n",
      "48000/48000 [==============================] - 1s 13us/sample - loss: 0.0210 - accuracy: 0.9933 - val_loss: 0.1245 - val_accuracy: 0.9787\n",
      "Epoch 133/200\n",
      "48000/48000 [==============================] - 1s 13us/sample - loss: 0.0192 - accuracy: 0.9940 - val_loss: 0.1140 - val_accuracy: 0.9790\n",
      "Epoch 134/200\n",
      "48000/48000 [==============================] - 1s 13us/sample - loss: 0.0205 - accuracy: 0.9934 - val_loss: 0.1107 - val_accuracy: 0.9800\n",
      "Epoch 135/200\n",
      "48000/48000 [==============================] - 1s 13us/sample - loss: 0.0204 - accuracy: 0.9936 - val_loss: 0.1152 - val_accuracy: 0.9792\n",
      "Epoch 136/200\n",
      "48000/48000 [==============================] - 1s 13us/sample - loss: 0.0198 - accuracy: 0.9934 - val_loss: 0.1203 - val_accuracy: 0.9791\n",
      "Epoch 137/200\n",
      "48000/48000 [==============================] - 1s 13us/sample - loss: 0.0195 - accuracy: 0.9939 - val_loss: 0.1219 - val_accuracy: 0.9794\n",
      "Epoch 138/200\n",
      "48000/48000 [==============================] - 1s 13us/sample - loss: 0.0185 - accuracy: 0.9941 - val_loss: 0.1264 - val_accuracy: 0.9791\n",
      "Epoch 139/200\n",
      "48000/48000 [==============================] - 1s 13us/sample - loss: 0.0175 - accuracy: 0.9940 - val_loss: 0.1307 - val_accuracy: 0.9782\n",
      "Epoch 140/200\n",
      "48000/48000 [==============================] - 1s 13us/sample - loss: 0.0194 - accuracy: 0.9935 - val_loss: 0.1216 - val_accuracy: 0.9797\n",
      "Epoch 141/200\n",
      "48000/48000 [==============================] - 1s 13us/sample - loss: 0.0239 - accuracy: 0.9925 - val_loss: 0.1267 - val_accuracy: 0.9787\n",
      "Epoch 142/200\n",
      "48000/48000 [==============================] - 1s 13us/sample - loss: 0.0175 - accuracy: 0.9945 - val_loss: 0.1210 - val_accuracy: 0.9802\n",
      "Epoch 143/200\n",
      "48000/48000 [==============================] - 1s 13us/sample - loss: 0.0200 - accuracy: 0.9938 - val_loss: 0.1238 - val_accuracy: 0.9794\n",
      "Epoch 144/200\n",
      "48000/48000 [==============================] - 1s 13us/sample - loss: 0.0195 - accuracy: 0.9939 - val_loss: 0.1288 - val_accuracy: 0.9779\n",
      "Epoch 145/200\n",
      "48000/48000 [==============================] - 1s 13us/sample - loss: 0.0172 - accuracy: 0.9944 - val_loss: 0.1281 - val_accuracy: 0.9793\n",
      "Epoch 146/200\n",
      "48000/48000 [==============================] - 1s 13us/sample - loss: 0.0190 - accuracy: 0.9940 - val_loss: 0.1265 - val_accuracy: 0.9788\n",
      "Epoch 147/200\n",
      "48000/48000 [==============================] - 1s 14us/sample - loss: 0.0192 - accuracy: 0.9939 - val_loss: 0.1270 - val_accuracy: 0.9796\n",
      "Epoch 148/200\n",
      "48000/48000 [==============================] - 1s 13us/sample - loss: 0.0192 - accuracy: 0.9936 - val_loss: 0.1353 - val_accuracy: 0.9783\n",
      "Epoch 149/200\n",
      "48000/48000 [==============================] - 1s 13us/sample - loss: 0.0185 - accuracy: 0.9943 - val_loss: 0.1245 - val_accuracy: 0.9794\n",
      "Epoch 150/200\n",
      "48000/48000 [==============================] - 1s 13us/sample - loss: 0.0185 - accuracy: 0.9936 - val_loss: 0.1321 - val_accuracy: 0.9789\n",
      "Epoch 151/200\n",
      "48000/48000 [==============================] - 1s 13us/sample - loss: 0.0161 - accuracy: 0.9948 - val_loss: 0.1357 - val_accuracy: 0.9803\n",
      "Epoch 152/200\n",
      "48000/48000 [==============================] - 1s 14us/sample - loss: 0.0211 - accuracy: 0.9937 - val_loss: 0.1265 - val_accuracy: 0.9784\n",
      "Epoch 153/200\n",
      "48000/48000 [==============================] - 1s 13us/sample - loss: 0.0190 - accuracy: 0.9941 - val_loss: 0.1276 - val_accuracy: 0.9790\n",
      "Epoch 154/200\n",
      "48000/48000 [==============================] - 1s 13us/sample - loss: 0.0183 - accuracy: 0.9941 - val_loss: 0.1306 - val_accuracy: 0.9793\n",
      "Epoch 155/200\n",
      "48000/48000 [==============================] - 1s 13us/sample - loss: 0.0199 - accuracy: 0.9939 - val_loss: 0.1245 - val_accuracy: 0.9785\n",
      "Epoch 156/200\n",
      "48000/48000 [==============================] - 1s 13us/sample - loss: 0.0205 - accuracy: 0.9931 - val_loss: 0.1206 - val_accuracy: 0.9784\n",
      "Epoch 157/200\n",
      "48000/48000 [==============================] - 1s 13us/sample - loss: 0.0191 - accuracy: 0.9939 - val_loss: 0.1225 - val_accuracy: 0.9787\n",
      "Epoch 158/200\n",
      "48000/48000 [==============================] - 1s 14us/sample - loss: 0.0163 - accuracy: 0.9945 - val_loss: 0.1283 - val_accuracy: 0.9792\n",
      "Epoch 159/200\n",
      "48000/48000 [==============================] - 1s 14us/sample - loss: 0.0198 - accuracy: 0.9938 - val_loss: 0.1210 - val_accuracy: 0.9791\n",
      "Epoch 160/200\n",
      "48000/48000 [==============================] - 1s 13us/sample - loss: 0.0189 - accuracy: 0.9940 - val_loss: 0.1266 - val_accuracy: 0.9778\n",
      "Epoch 161/200\n",
      "48000/48000 [==============================] - 1s 13us/sample - loss: 0.0203 - accuracy: 0.9940 - val_loss: 0.1277 - val_accuracy: 0.9785\n",
      "Epoch 162/200\n",
      "48000/48000 [==============================] - 1s 13us/sample - loss: 0.0195 - accuracy: 0.9940 - val_loss: 0.1243 - val_accuracy: 0.9794\n"
     ]
    },
    {
     "name": "stdout",
     "output_type": "stream",
     "text": [
      "Epoch 163/200\n",
      "48000/48000 [==============================] - 1s 13us/sample - loss: 0.0193 - accuracy: 0.9939 - val_loss: 0.1186 - val_accuracy: 0.9787\n",
      "Epoch 164/200\n",
      "48000/48000 [==============================] - 1s 13us/sample - loss: 0.0180 - accuracy: 0.9942 - val_loss: 0.1245 - val_accuracy: 0.9801\n",
      "Epoch 165/200\n",
      "48000/48000 [==============================] - 1s 13us/sample - loss: 0.0208 - accuracy: 0.9933 - val_loss: 0.1232 - val_accuracy: 0.9799\n",
      "Epoch 166/200\n",
      "48000/48000 [==============================] - 1s 13us/sample - loss: 0.0158 - accuracy: 0.9950 - val_loss: 0.1312 - val_accuracy: 0.9795\n",
      "Epoch 167/200\n",
      "48000/48000 [==============================] - 1s 13us/sample - loss: 0.0190 - accuracy: 0.9942 - val_loss: 0.1270 - val_accuracy: 0.9782\n",
      "Epoch 168/200\n",
      "48000/48000 [==============================] - 1s 13us/sample - loss: 0.0177 - accuracy: 0.9943 - val_loss: 0.1389 - val_accuracy: 0.9793\n",
      "Epoch 169/200\n",
      "48000/48000 [==============================] - 1s 13us/sample - loss: 0.0166 - accuracy: 0.9945 - val_loss: 0.1270 - val_accuracy: 0.9795\n",
      "Epoch 170/200\n",
      "48000/48000 [==============================] - 1s 13us/sample - loss: 0.0175 - accuracy: 0.9944 - val_loss: 0.1289 - val_accuracy: 0.9789\n",
      "Epoch 171/200\n",
      "48000/48000 [==============================] - 1s 13us/sample - loss: 0.0187 - accuracy: 0.9946 - val_loss: 0.1251 - val_accuracy: 0.9799\n",
      "Epoch 172/200\n",
      "48000/48000 [==============================] - 1s 13us/sample - loss: 0.0186 - accuracy: 0.9939 - val_loss: 0.1245 - val_accuracy: 0.9797\n",
      "Epoch 173/200\n",
      "48000/48000 [==============================] - 1s 13us/sample - loss: 0.0170 - accuracy: 0.9943 - val_loss: 0.1233 - val_accuracy: 0.9793\n",
      "Epoch 174/200\n",
      "48000/48000 [==============================] - 1s 13us/sample - loss: 0.0179 - accuracy: 0.9941 - val_loss: 0.1339 - val_accuracy: 0.9789\n",
      "Epoch 175/200\n",
      "48000/48000 [==============================] - 1s 13us/sample - loss: 0.0168 - accuracy: 0.9943 - val_loss: 0.1341 - val_accuracy: 0.9793\n",
      "Epoch 176/200\n",
      "48000/48000 [==============================] - 1s 13us/sample - loss: 0.0159 - accuracy: 0.9948 - val_loss: 0.1357 - val_accuracy: 0.9793\n",
      "Epoch 177/200\n",
      "48000/48000 [==============================] - 1s 13us/sample - loss: 0.0204 - accuracy: 0.9937 - val_loss: 0.1257 - val_accuracy: 0.9801\n",
      "Epoch 178/200\n",
      "48000/48000 [==============================] - 1s 13us/sample - loss: 0.0175 - accuracy: 0.9944 - val_loss: 0.1317 - val_accuracy: 0.9802\n",
      "Epoch 179/200\n",
      "48000/48000 [==============================] - 1s 13us/sample - loss: 0.0179 - accuracy: 0.9947 - val_loss: 0.1255 - val_accuracy: 0.9800\n",
      "Epoch 180/200\n",
      "48000/48000 [==============================] - 1s 13us/sample - loss: 0.0174 - accuracy: 0.9944 - val_loss: 0.1208 - val_accuracy: 0.9795\n",
      "Epoch 181/200\n",
      "48000/48000 [==============================] - 1s 13us/sample - loss: 0.0191 - accuracy: 0.9941 - val_loss: 0.1300 - val_accuracy: 0.9790\n",
      "Epoch 182/200\n",
      "48000/48000 [==============================] - 1s 13us/sample - loss: 0.0176 - accuracy: 0.9944 - val_loss: 0.1250 - val_accuracy: 0.9793\n",
      "Epoch 183/200\n",
      "48000/48000 [==============================] - 1s 13us/sample - loss: 0.0190 - accuracy: 0.9937 - val_loss: 0.1341 - val_accuracy: 0.9793\n",
      "Epoch 184/200\n",
      "48000/48000 [==============================] - 1s 13us/sample - loss: 0.0174 - accuracy: 0.9948 - val_loss: 0.1301 - val_accuracy: 0.9783\n",
      "Epoch 185/200\n",
      "48000/48000 [==============================] - 1s 13us/sample - loss: 0.0176 - accuracy: 0.9941 - val_loss: 0.1321 - val_accuracy: 0.9788\n",
      "Epoch 186/200\n",
      "48000/48000 [==============================] - 1s 13us/sample - loss: 0.0154 - accuracy: 0.9953 - val_loss: 0.1319 - val_accuracy: 0.9792\n",
      "Epoch 187/200\n",
      "48000/48000 [==============================] - 1s 13us/sample - loss: 0.0169 - accuracy: 0.9949 - val_loss: 0.1346 - val_accuracy: 0.9786\n",
      "Epoch 188/200\n",
      "48000/48000 [==============================] - 1s 13us/sample - loss: 0.0163 - accuracy: 0.9948 - val_loss: 0.1300 - val_accuracy: 0.9797\n",
      "Epoch 189/200\n",
      "48000/48000 [==============================] - 1s 13us/sample - loss: 0.0171 - accuracy: 0.9944 - val_loss: 0.1284 - val_accuracy: 0.9796\n",
      "Epoch 190/200\n",
      "48000/48000 [==============================] - 1s 13us/sample - loss: 0.0169 - accuracy: 0.9946 - val_loss: 0.1292 - val_accuracy: 0.9792\n",
      "Epoch 191/200\n",
      "48000/48000 [==============================] - 1s 13us/sample - loss: 0.0186 - accuracy: 0.9943 - val_loss: 0.1318 - val_accuracy: 0.9790\n",
      "Epoch 192/200\n",
      "48000/48000 [==============================] - 1s 13us/sample - loss: 0.0165 - accuracy: 0.9947 - val_loss: 0.1417 - val_accuracy: 0.9786\n",
      "Epoch 193/200\n",
      "48000/48000 [==============================] - 1s 13us/sample - loss: 0.0177 - accuracy: 0.9942 - val_loss: 0.1408 - val_accuracy: 0.9772\n",
      "Epoch 194/200\n",
      "48000/48000 [==============================] - 1s 13us/sample - loss: 0.0186 - accuracy: 0.9942 - val_loss: 0.1388 - val_accuracy: 0.9787\n",
      "Epoch 195/200\n",
      "48000/48000 [==============================] - 1s 13us/sample - loss: 0.0166 - accuracy: 0.9949 - val_loss: 0.1346 - val_accuracy: 0.9784\n",
      "Epoch 196/200\n",
      "48000/48000 [==============================] - 1s 13us/sample - loss: 0.0159 - accuracy: 0.9948 - val_loss: 0.1278 - val_accuracy: 0.9788\n",
      "Epoch 197/200\n",
      "48000/48000 [==============================] - 1s 13us/sample - loss: 0.0167 - accuracy: 0.9947 - val_loss: 0.1344 - val_accuracy: 0.9788\n",
      "Epoch 198/200\n",
      "48000/48000 [==============================] - 1s 13us/sample - loss: 0.0156 - accuracy: 0.9952 - val_loss: 0.1351 - val_accuracy: 0.9796\n",
      "Epoch 199/200\n",
      "48000/48000 [==============================] - 1s 13us/sample - loss: 0.0172 - accuracy: 0.9949 - val_loss: 0.1374 - val_accuracy: 0.9784\n",
      "Epoch 200/200\n",
      "48000/48000 [==============================] - 1s 13us/sample - loss: 0.0194 - accuracy: 0.9940 - val_loss: 0.1323 - val_accuracy: 0.9782\n"
     ]
    },
    {
     "data": {
      "text/plain": [
       "<tensorflow.python.keras.callbacks.History at 0x22efa9900c8>"
      ]
     },
     "execution_count": 15,
     "metadata": {},
     "output_type": "execute_result"
    }
   ],
   "source": [
    "# 모델 훈련\n",
    "model.fit(x_train, y_train, \n",
    "          batch_size = batch_size, \n",
    "          epochs = epochs, \n",
    "         verbose = verbose, \n",
    "         validation_split =  validation_split)"
   ]
  },
  {
   "cell_type": "code",
   "execution_count": 16,
   "metadata": {},
   "outputs": [
    {
     "name": "stdout",
     "output_type": "stream",
     "text": [
      "10000/10000 [==============================] - 0s 18us/sample - loss: 0.1287 - accuracy: 0.9803\n",
      "Test accuracy :  0.9803\n"
     ]
    }
   ],
   "source": [
    "# 모델 평가\n",
    "test_loss, test_acc = model.evaluate(x_test, y_test)\n",
    "print('Test accuracy : ',test_acc)"
   ]
  },
  {
   "cell_type": "markdown",
   "metadata": {},
   "source": [
    "### 정확도 98%\n",
    "### Adam이 가장 좋게 나온다. 최적화기를 선택하는 것은 어떤 경험칙이 있는 것이 아니며 \n",
    "### 문제 - 최적화기의 조합에 따라 서로 다른 성능을 얻을 수 있다."
   ]
  },
  {
   "cell_type": "code",
   "execution_count": null,
   "metadata": {},
   "outputs": [],
   "source": []
  }
 ],
 "metadata": {
  "kernelspec": {
   "display_name": "Python 3",
   "language": "python",
   "name": "python3"
  },
  "language_info": {
   "codemirror_mode": {
    "name": "ipython",
    "version": 3
   },
   "file_extension": ".py",
   "mimetype": "text/x-python",
   "name": "python",
   "nbconvert_exporter": "python",
   "pygments_lexer": "ipython3",
   "version": "3.7.7"
  }
 },
 "nbformat": 4,
 "nbformat_minor": 4
}
