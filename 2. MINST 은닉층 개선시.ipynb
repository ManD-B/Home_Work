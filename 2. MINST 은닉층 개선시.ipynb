{
 "cells": [
  {
   "cell_type": "markdown",
   "metadata": {},
   "source": [
    "# MINST 필기체 숫자 인식"
   ]
  },
  {
   "cell_type": "code",
   "execution_count": 1,
   "metadata": {},
   "outputs": [],
   "source": [
    "import tensorflow as tf"
   ]
  },
  {
   "cell_type": "code",
   "execution_count": 2,
   "metadata": {},
   "outputs": [],
   "source": [
    "import numpy as np"
   ]
  },
  {
   "cell_type": "code",
   "execution_count": 3,
   "metadata": {},
   "outputs": [],
   "source": [
    "from tensorflow import keras"
   ]
  },
  {
   "cell_type": "code",
   "execution_count": 4,
   "metadata": {},
   "outputs": [],
   "source": [
    "# 신경망과 훈련 매개변수\n",
    "epochs = 200\n",
    "batch_size = 128\n",
    "verbose = 1\n",
    "nb_classes = 10     # 출력 개수 = 숫자의 개수\n",
    "n_hidden = 128\n",
    "validation_split = 0.2     # 검증을 위해 남겨둔 훈련 데이터"
   ]
  },
  {
   "cell_type": "code",
   "execution_count": 5,
   "metadata": {},
   "outputs": [],
   "source": [
    "# MINST 데이터셋 로드\n",
    "mnist = keras.datasets.mnist\n",
    "(x_train, y_train), (x_test, y_test) = mnist.load_data()"
   ]
  },
  {
   "cell_type": "code",
   "execution_count": 6,
   "metadata": {},
   "outputs": [
    {
     "data": {
      "text/plain": [
       "(60000, 28, 28)"
      ]
     },
     "execution_count": 6,
     "metadata": {},
     "output_type": "execute_result"
    }
   ],
   "source": [
    "x_train.shape"
   ]
  },
  {
   "cell_type": "code",
   "execution_count": 7,
   "metadata": {},
   "outputs": [],
   "source": [
    "# 이를 28x28에서 60000, 784로 바꿔줌\n",
    "reshaped = 784\n",
    "x_train = x_train.reshape(60000, reshaped)\n",
    "x_test = x_test.reshape(10000, reshaped)"
   ]
  },
  {
   "cell_type": "code",
   "execution_count": 8,
   "metadata": {},
   "outputs": [
    {
     "data": {
      "text/plain": [
       "(60000, 784)"
      ]
     },
     "execution_count": 8,
     "metadata": {},
     "output_type": "execute_result"
    }
   ],
   "source": [
    "x_train.shape"
   ]
  },
  {
   "cell_type": "code",
   "execution_count": 9,
   "metadata": {},
   "outputs": [],
   "source": [
    "x_train = x_train.astype('float32')\n",
    "x_test = x_test.astype('float32')"
   ]
  },
  {
   "cell_type": "code",
   "execution_count": 10,
   "metadata": {},
   "outputs": [
    {
     "name": "stdout",
     "output_type": "stream",
     "text": [
      "60000 train samples\n",
      "10000 test samples\n"
     ]
    }
   ],
   "source": [
    "# 픽셀값은 0~255인데 이를 255로 나눠줌으로써 0~1 사이로 정규화시킴\n",
    "x_train /= 255\n",
    "x_test /= 255\n",
    "print(x_train.shape[0], 'train samples')\n",
    "print(x_test.shape[0], 'test samples')"
   ]
  },
  {
   "cell_type": "code",
   "execution_count": 11,
   "metadata": {},
   "outputs": [],
   "source": [
    "# 원핫 인코딩\n",
    "y_train = tf.keras.utils.to_categorical(y_train, nb_classes)\n",
    "y_test = tf.keras.utils.to_categorical(y_test, nb_classes)"
   ]
  },
  {
   "cell_type": "markdown",
   "metadata": {},
   "source": [
    "## 똑같이 따와서 이부분만 달라짐"
   ]
  },
  {
   "cell_type": "code",
   "execution_count": 12,
   "metadata": {},
   "outputs": [
    {
     "name": "stdout",
     "output_type": "stream",
     "text": [
      "Model: \"sequential\"\n",
      "_________________________________________________________________\n",
      "Layer (type)                 Output Shape              Param #   \n",
      "=================================================================\n",
      "dense_layer (Dense)          (None, 128)               100480    \n",
      "_________________________________________________________________\n",
      "dense_layer_2 (Dense)        (None, 128)               16512     \n",
      "_________________________________________________________________\n",
      "dense_layer_3 (Dense)        (None, 10)                1290      \n",
      "=================================================================\n",
      "Total params: 118,282\n",
      "Trainable params: 118,282\n",
      "Non-trainable params: 0\n",
      "_________________________________________________________________\n"
     ]
    }
   ],
   "source": [
    "# 모델 구축\n",
    "model = tf.keras.models.Sequential()\n",
    "model.add(keras.layers.Dense(n_hidden,\n",
    "                            input_shape = (reshaped,),\n",
    "                            name = 'dense_layer',\n",
    "                            activation = 'relu'))\n",
    "model.add(keras.layers.Dense(n_hidden,\n",
    "                            name = 'dense_layer_2',\n",
    "                            activation = 'relu'))\n",
    "model.add(keras.layers.Dense(nb_classes,\n",
    "                            name = 'dense_layer_3',\n",
    "                            activation = 'softmax'))\n",
    "model.summary()"
   ]
  },
  {
   "cell_type": "code",
   "execution_count": 13,
   "metadata": {},
   "outputs": [],
   "source": [
    "# 모델 컴파일\n",
    "model.compile(optimizer = 'SGD',   # 확률적 그래디언트 하강\n",
    "             loss = 'categorical_crossentropy',\n",
    "             metrics = ['accuracy'])"
   ]
  },
  {
   "cell_type": "code",
   "execution_count": 14,
   "metadata": {
    "scrolled": true
   },
   "outputs": [
    {
     "name": "stdout",
     "output_type": "stream",
     "text": [
      "Train on 48000 samples, validate on 12000 samples\n",
      "Epoch 1/200\n",
      "48000/48000 [==============================] - 1s 17us/sample - loss: 1.3610 - accuracy: 0.6736 - val_loss: 0.6840 - val_accuracy: 0.8460\n",
      "Epoch 2/200\n",
      "48000/48000 [==============================] - 1s 12us/sample - loss: 0.5664 - accuracy: 0.8570 - val_loss: 0.4383 - val_accuracy: 0.8883\n",
      "Epoch 3/200\n",
      "48000/48000 [==============================] - 1s 11us/sample - loss: 0.4270 - accuracy: 0.8842 - val_loss: 0.3647 - val_accuracy: 0.9019\n",
      "Epoch 4/200\n",
      "48000/48000 [==============================] - 1s 11us/sample - loss: 0.3717 - accuracy: 0.8963 - val_loss: 0.3292 - val_accuracy: 0.9094\n",
      "Epoch 5/200\n",
      "48000/48000 [==============================] - 1s 10us/sample - loss: 0.3401 - accuracy: 0.9036 - val_loss: 0.3063 - val_accuracy: 0.9144\n",
      "Epoch 6/200\n",
      "48000/48000 [==============================] - 1s 11us/sample - loss: 0.3181 - accuracy: 0.9096 - val_loss: 0.2907 - val_accuracy: 0.9196\n",
      "Epoch 7/200\n",
      "48000/48000 [==============================] - 1s 11us/sample - loss: 0.3011 - accuracy: 0.9143 - val_loss: 0.2761 - val_accuracy: 0.9234\n",
      "Epoch 8/200\n",
      "48000/48000 [==============================] - 1s 11us/sample - loss: 0.2867 - accuracy: 0.9183 - val_loss: 0.2644 - val_accuracy: 0.9270\n",
      "Epoch 9/200\n",
      "48000/48000 [==============================] - 1s 11us/sample - loss: 0.2743 - accuracy: 0.9216 - val_loss: 0.2545 - val_accuracy: 0.9292\n",
      "Epoch 10/200\n",
      "48000/48000 [==============================] - 1s 11us/sample - loss: 0.2633 - accuracy: 0.9247 - val_loss: 0.2454 - val_accuracy: 0.9317\n",
      "Epoch 11/200\n",
      "48000/48000 [==============================] - 1s 11us/sample - loss: 0.2534 - accuracy: 0.9276 - val_loss: 0.2374 - val_accuracy: 0.9342\n",
      "Epoch 12/200\n",
      "48000/48000 [==============================] - 0s 10us/sample - loss: 0.2442 - accuracy: 0.9307 - val_loss: 0.2303 - val_accuracy: 0.9367\n",
      "Epoch 13/200\n",
      "48000/48000 [==============================] - 0s 10us/sample - loss: 0.2357 - accuracy: 0.9328 - val_loss: 0.2231 - val_accuracy: 0.9377\n",
      "Epoch 14/200\n",
      "48000/48000 [==============================] - 1s 11us/sample - loss: 0.2278 - accuracy: 0.9354 - val_loss: 0.2195 - val_accuracy: 0.9403\n",
      "Epoch 15/200\n",
      "48000/48000 [==============================] - 1s 11us/sample - loss: 0.2208 - accuracy: 0.9364 - val_loss: 0.2108 - val_accuracy: 0.9426\n",
      "Epoch 16/200\n",
      "48000/48000 [==============================] - 1s 10us/sample - loss: 0.2141 - accuracy: 0.9388 - val_loss: 0.2061 - val_accuracy: 0.9431\n",
      "Epoch 17/200\n",
      "48000/48000 [==============================] - 0s 10us/sample - loss: 0.2077 - accuracy: 0.9401 - val_loss: 0.1998 - val_accuracy: 0.9457\n",
      "Epoch 18/200\n",
      "48000/48000 [==============================] - 1s 11us/sample - loss: 0.2015 - accuracy: 0.9423 - val_loss: 0.1966 - val_accuracy: 0.9473\n",
      "Epoch 19/200\n",
      "48000/48000 [==============================] - 1s 10us/sample - loss: 0.1958 - accuracy: 0.9441 - val_loss: 0.1915 - val_accuracy: 0.9475\n",
      "Epoch 20/200\n",
      "48000/48000 [==============================] - 1s 11us/sample - loss: 0.1905 - accuracy: 0.9449 - val_loss: 0.1861 - val_accuracy: 0.9498\n",
      "Epoch 21/200\n",
      "48000/48000 [==============================] - 1s 10us/sample - loss: 0.1854 - accuracy: 0.9466 - val_loss: 0.1824 - val_accuracy: 0.9503\n",
      "Epoch 22/200\n",
      "48000/48000 [==============================] - 1s 11us/sample - loss: 0.1806 - accuracy: 0.9478 - val_loss: 0.1788 - val_accuracy: 0.9512\n",
      "Epoch 23/200\n",
      "48000/48000 [==============================] - 1s 11us/sample - loss: 0.1759 - accuracy: 0.9492 - val_loss: 0.1743 - val_accuracy: 0.9519\n",
      "Epoch 24/200\n",
      "48000/48000 [==============================] - 1s 11us/sample - loss: 0.1715 - accuracy: 0.9506 - val_loss: 0.1713 - val_accuracy: 0.9528\n",
      "Epoch 25/200\n",
      "48000/48000 [==============================] - 0s 10us/sample - loss: 0.1673 - accuracy: 0.9520 - val_loss: 0.1686 - val_accuracy: 0.9539\n",
      "Epoch 26/200\n",
      "48000/48000 [==============================] - 1s 11us/sample - loss: 0.1632 - accuracy: 0.9532 - val_loss: 0.1661 - val_accuracy: 0.9534\n",
      "Epoch 27/200\n",
      "48000/48000 [==============================] - 1s 10us/sample - loss: 0.1595 - accuracy: 0.9539 - val_loss: 0.1628 - val_accuracy: 0.9544\n",
      "Epoch 28/200\n",
      "48000/48000 [==============================] - 1s 11us/sample - loss: 0.1558 - accuracy: 0.9554 - val_loss: 0.1602 - val_accuracy: 0.9555\n",
      "Epoch 29/200\n",
      "48000/48000 [==============================] - 0s 10us/sample - loss: 0.1522 - accuracy: 0.9556 - val_loss: 0.1578 - val_accuracy: 0.9556\n",
      "Epoch 30/200\n",
      "48000/48000 [==============================] - 1s 10us/sample - loss: 0.1488 - accuracy: 0.9571 - val_loss: 0.1542 - val_accuracy: 0.9572\n",
      "Epoch 31/200\n",
      "48000/48000 [==============================] - 1s 11us/sample - loss: 0.1455 - accuracy: 0.9582 - val_loss: 0.1522 - val_accuracy: 0.9567\n",
      "Epoch 32/200\n",
      "48000/48000 [==============================] - 1s 11us/sample - loss: 0.1422 - accuracy: 0.9588 - val_loss: 0.1496 - val_accuracy: 0.9579\n",
      "Epoch 33/200\n",
      "48000/48000 [==============================] - 1s 11us/sample - loss: 0.1391 - accuracy: 0.9599 - val_loss: 0.1484 - val_accuracy: 0.9588\n",
      "Epoch 34/200\n",
      "48000/48000 [==============================] - 1s 11us/sample - loss: 0.1363 - accuracy: 0.9610 - val_loss: 0.1456 - val_accuracy: 0.9596\n",
      "Epoch 35/200\n",
      "48000/48000 [==============================] - 1s 11us/sample - loss: 0.1331 - accuracy: 0.9624 - val_loss: 0.1441 - val_accuracy: 0.9596\n",
      "Epoch 36/200\n",
      "48000/48000 [==============================] - 1s 11us/sample - loss: 0.1306 - accuracy: 0.9627 - val_loss: 0.1412 - val_accuracy: 0.9606\n",
      "Epoch 37/200\n",
      "48000/48000 [==============================] - 1s 10us/sample - loss: 0.1278 - accuracy: 0.9637 - val_loss: 0.1399 - val_accuracy: 0.9612\n",
      "Epoch 38/200\n",
      "48000/48000 [==============================] - 1s 11us/sample - loss: 0.1252 - accuracy: 0.9647 - val_loss: 0.1388 - val_accuracy: 0.9610\n",
      "Epoch 39/200\n",
      "48000/48000 [==============================] - 1s 11us/sample - loss: 0.1228 - accuracy: 0.9650 - val_loss: 0.1362 - val_accuracy: 0.9616\n",
      "Epoch 40/200\n",
      "48000/48000 [==============================] - 1s 11us/sample - loss: 0.1203 - accuracy: 0.9662 - val_loss: 0.1352 - val_accuracy: 0.9623\n",
      "Epoch 41/200\n",
      "48000/48000 [==============================] - 1s 10us/sample - loss: 0.1181 - accuracy: 0.9669 - val_loss: 0.1327 - val_accuracy: 0.9624\n",
      "Epoch 42/200\n",
      "48000/48000 [==============================] - 1s 11us/sample - loss: 0.1158 - accuracy: 0.9675 - val_loss: 0.1329 - val_accuracy: 0.9633\n",
      "Epoch 43/200\n",
      "48000/48000 [==============================] - 1s 10us/sample - loss: 0.1136 - accuracy: 0.9680 - val_loss: 0.1306 - val_accuracy: 0.9638\n",
      "Epoch 44/200\n",
      "48000/48000 [==============================] - 1s 11us/sample - loss: 0.1115 - accuracy: 0.9685 - val_loss: 0.1289 - val_accuracy: 0.9634\n",
      "Epoch 45/200\n",
      "48000/48000 [==============================] - 1s 11us/sample - loss: 0.1094 - accuracy: 0.9694 - val_loss: 0.1270 - val_accuracy: 0.9653\n",
      "Epoch 46/200\n",
      "48000/48000 [==============================] - 1s 10us/sample - loss: 0.1075 - accuracy: 0.9700 - val_loss: 0.1258 - val_accuracy: 0.9649\n",
      "Epoch 47/200\n",
      "48000/48000 [==============================] - 0s 10us/sample - loss: 0.1054 - accuracy: 0.9708 - val_loss: 0.1250 - val_accuracy: 0.9656\n",
      "Epoch 48/200\n",
      "48000/48000 [==============================] - 1s 11us/sample - loss: 0.1035 - accuracy: 0.9712 - val_loss: 0.1239 - val_accuracy: 0.9653\n",
      "Epoch 49/200\n",
      "48000/48000 [==============================] - 0s 10us/sample - loss: 0.1018 - accuracy: 0.9714 - val_loss: 0.1221 - val_accuracy: 0.9658\n",
      "Epoch 50/200\n",
      "48000/48000 [==============================] - 1s 10us/sample - loss: 0.0998 - accuracy: 0.9721 - val_loss: 0.1212 - val_accuracy: 0.9657\n",
      "Epoch 51/200\n",
      "48000/48000 [==============================] - 0s 10us/sample - loss: 0.0982 - accuracy: 0.9728 - val_loss: 0.1207 - val_accuracy: 0.9662\n",
      "Epoch 52/200\n",
      "48000/48000 [==============================] - 1s 11us/sample - loss: 0.0964 - accuracy: 0.9735 - val_loss: 0.1202 - val_accuracy: 0.9659\n",
      "Epoch 53/200\n",
      "48000/48000 [==============================] - 1s 10us/sample - loss: 0.0948 - accuracy: 0.9737 - val_loss: 0.1181 - val_accuracy: 0.9672\n",
      "Epoch 54/200\n",
      "48000/48000 [==============================] - 1s 11us/sample - loss: 0.0933 - accuracy: 0.9745 - val_loss: 0.1170 - val_accuracy: 0.9669\n"
     ]
    },
    {
     "name": "stdout",
     "output_type": "stream",
     "text": [
      "Epoch 55/200\n",
      "48000/48000 [==============================] - 1s 11us/sample - loss: 0.0916 - accuracy: 0.9748 - val_loss: 0.1166 - val_accuracy: 0.9669\n",
      "Epoch 56/200\n",
      "48000/48000 [==============================] - 1s 10us/sample - loss: 0.0901 - accuracy: 0.9752 - val_loss: 0.1149 - val_accuracy: 0.9676\n",
      "Epoch 57/200\n",
      "48000/48000 [==============================] - 1s 10us/sample - loss: 0.0886 - accuracy: 0.9756 - val_loss: 0.1148 - val_accuracy: 0.9679\n",
      "Epoch 58/200\n",
      "48000/48000 [==============================] - 0s 10us/sample - loss: 0.0871 - accuracy: 0.9762 - val_loss: 0.1137 - val_accuracy: 0.9681\n",
      "Epoch 59/200\n",
      "48000/48000 [==============================] - 0s 10us/sample - loss: 0.0858 - accuracy: 0.9764 - val_loss: 0.1126 - val_accuracy: 0.9684\n",
      "Epoch 60/200\n",
      "48000/48000 [==============================] - 1s 11us/sample - loss: 0.0843 - accuracy: 0.9768 - val_loss: 0.1118 - val_accuracy: 0.9691\n",
      "Epoch 61/200\n",
      "48000/48000 [==============================] - 0s 10us/sample - loss: 0.0830 - accuracy: 0.9778 - val_loss: 0.1116 - val_accuracy: 0.9687\n",
      "Epoch 62/200\n",
      "48000/48000 [==============================] - 1s 11us/sample - loss: 0.0817 - accuracy: 0.9772 - val_loss: 0.1106 - val_accuracy: 0.9688\n",
      "Epoch 63/200\n",
      "48000/48000 [==============================] - 1s 11us/sample - loss: 0.0804 - accuracy: 0.9779 - val_loss: 0.1094 - val_accuracy: 0.9692\n",
      "Epoch 64/200\n",
      "48000/48000 [==============================] - 1s 10us/sample - loss: 0.0791 - accuracy: 0.9784 - val_loss: 0.1091 - val_accuracy: 0.9696\n",
      "Epoch 65/200\n",
      "48000/48000 [==============================] - 0s 10us/sample - loss: 0.0780 - accuracy: 0.9786 - val_loss: 0.1083 - val_accuracy: 0.9693\n",
      "Epoch 66/200\n",
      "48000/48000 [==============================] - 1s 10us/sample - loss: 0.0767 - accuracy: 0.9792 - val_loss: 0.1078 - val_accuracy: 0.9699\n",
      "Epoch 67/200\n",
      "48000/48000 [==============================] - 1s 11us/sample - loss: 0.0754 - accuracy: 0.9795 - val_loss: 0.1075 - val_accuracy: 0.9700\n",
      "Epoch 68/200\n",
      "48000/48000 [==============================] - 1s 10us/sample - loss: 0.0744 - accuracy: 0.9800 - val_loss: 0.1066 - val_accuracy: 0.9694\n",
      "Epoch 69/200\n",
      "48000/48000 [==============================] - 1s 11us/sample - loss: 0.0734 - accuracy: 0.9801 - val_loss: 0.1063 - val_accuracy: 0.9694\n",
      "Epoch 70/200\n",
      "48000/48000 [==============================] - 1s 11us/sample - loss: 0.0722 - accuracy: 0.9804 - val_loss: 0.1055 - val_accuracy: 0.9700\n",
      "Epoch 71/200\n",
      "48000/48000 [==============================] - 1s 11us/sample - loss: 0.0711 - accuracy: 0.9811 - val_loss: 0.1052 - val_accuracy: 0.9707\n",
      "Epoch 72/200\n",
      "48000/48000 [==============================] - 0s 10us/sample - loss: 0.0702 - accuracy: 0.9812 - val_loss: 0.1043 - val_accuracy: 0.9701\n",
      "Epoch 73/200\n",
      "48000/48000 [==============================] - 1s 11us/sample - loss: 0.0691 - accuracy: 0.9811 - val_loss: 0.1037 - val_accuracy: 0.9708\n",
      "Epoch 74/200\n",
      "48000/48000 [==============================] - 1s 11us/sample - loss: 0.0680 - accuracy: 0.9815 - val_loss: 0.1035 - val_accuracy: 0.9708\n",
      "Epoch 75/200\n",
      "48000/48000 [==============================] - 1s 11us/sample - loss: 0.0672 - accuracy: 0.9820 - val_loss: 0.1035 - val_accuracy: 0.9708\n",
      "Epoch 76/200\n",
      "48000/48000 [==============================] - 1s 11us/sample - loss: 0.0662 - accuracy: 0.9820 - val_loss: 0.1023 - val_accuracy: 0.9715\n",
      "Epoch 77/200\n",
      "48000/48000 [==============================] - 1s 10us/sample - loss: 0.0653 - accuracy: 0.9826 - val_loss: 0.1024 - val_accuracy: 0.9707\n",
      "Epoch 78/200\n",
      "48000/48000 [==============================] - 1s 11us/sample - loss: 0.0643 - accuracy: 0.9827 - val_loss: 0.1014 - val_accuracy: 0.9707\n",
      "Epoch 79/200\n",
      "48000/48000 [==============================] - 1s 11us/sample - loss: 0.0634 - accuracy: 0.9831 - val_loss: 0.1018 - val_accuracy: 0.9710\n",
      "Epoch 80/200\n",
      "48000/48000 [==============================] - 1s 11us/sample - loss: 0.0624 - accuracy: 0.9836 - val_loss: 0.1009 - val_accuracy: 0.9711\n",
      "Epoch 81/200\n",
      "48000/48000 [==============================] - 1s 11us/sample - loss: 0.0615 - accuracy: 0.9837 - val_loss: 0.1002 - val_accuracy: 0.9710\n",
      "Epoch 82/200\n",
      "48000/48000 [==============================] - 1s 11us/sample - loss: 0.0607 - accuracy: 0.9839 - val_loss: 0.1002 - val_accuracy: 0.9705\n",
      "Epoch 83/200\n",
      "48000/48000 [==============================] - 1s 11us/sample - loss: 0.0600 - accuracy: 0.9840 - val_loss: 0.0993 - val_accuracy: 0.9719\n",
      "Epoch 84/200\n",
      "48000/48000 [==============================] - 1s 11us/sample - loss: 0.0592 - accuracy: 0.9841 - val_loss: 0.0987 - val_accuracy: 0.9722\n",
      "Epoch 85/200\n",
      "48000/48000 [==============================] - 1s 11us/sample - loss: 0.0582 - accuracy: 0.9846 - val_loss: 0.0985 - val_accuracy: 0.9711\n",
      "Epoch 86/200\n",
      "48000/48000 [==============================] - 1s 11us/sample - loss: 0.0575 - accuracy: 0.9848 - val_loss: 0.0979 - val_accuracy: 0.9718\n",
      "Epoch 87/200\n",
      "48000/48000 [==============================] - 1s 11us/sample - loss: 0.0567 - accuracy: 0.9851 - val_loss: 0.0977 - val_accuracy: 0.9720\n",
      "Epoch 88/200\n",
      "48000/48000 [==============================] - 1s 11us/sample - loss: 0.0558 - accuracy: 0.9852 - val_loss: 0.0975 - val_accuracy: 0.9721\n",
      "Epoch 89/200\n",
      "48000/48000 [==============================] - 1s 11us/sample - loss: 0.0552 - accuracy: 0.9856 - val_loss: 0.0971 - val_accuracy: 0.9721\n",
      "Epoch 90/200\n",
      "48000/48000 [==============================] - 1s 11us/sample - loss: 0.0545 - accuracy: 0.9856 - val_loss: 0.0969 - val_accuracy: 0.9722\n",
      "Epoch 91/200\n",
      "48000/48000 [==============================] - 1s 11us/sample - loss: 0.0537 - accuracy: 0.9858 - val_loss: 0.0973 - val_accuracy: 0.9720\n",
      "Epoch 92/200\n",
      "48000/48000 [==============================] - 1s 11us/sample - loss: 0.0531 - accuracy: 0.9865 - val_loss: 0.0959 - val_accuracy: 0.9730\n",
      "Epoch 93/200\n",
      "48000/48000 [==============================] - 1s 11us/sample - loss: 0.0523 - accuracy: 0.9864 - val_loss: 0.0967 - val_accuracy: 0.9718\n",
      "Epoch 94/200\n",
      "48000/48000 [==============================] - 1s 11us/sample - loss: 0.0516 - accuracy: 0.9865 - val_loss: 0.0961 - val_accuracy: 0.9727\n",
      "Epoch 95/200\n",
      "48000/48000 [==============================] - 1s 11us/sample - loss: 0.0509 - accuracy: 0.9872 - val_loss: 0.0961 - val_accuracy: 0.9727\n",
      "Epoch 96/200\n",
      "48000/48000 [==============================] - 1s 11us/sample - loss: 0.0504 - accuracy: 0.9871 - val_loss: 0.0951 - val_accuracy: 0.9730\n",
      "Epoch 97/200\n",
      "48000/48000 [==============================] - 1s 11us/sample - loss: 0.0495 - accuracy: 0.9873 - val_loss: 0.0955 - val_accuracy: 0.9728\n",
      "Epoch 98/200\n",
      "48000/48000 [==============================] - 1s 11us/sample - loss: 0.0490 - accuracy: 0.9875 - val_loss: 0.0944 - val_accuracy: 0.9734\n",
      "Epoch 99/200\n",
      "48000/48000 [==============================] - 1s 11us/sample - loss: 0.0483 - accuracy: 0.9879 - val_loss: 0.0947 - val_accuracy: 0.9730\n",
      "Epoch 100/200\n",
      "48000/48000 [==============================] - 1s 11us/sample - loss: 0.0477 - accuracy: 0.9879 - val_loss: 0.0945 - val_accuracy: 0.9730\n",
      "Epoch 101/200\n",
      "48000/48000 [==============================] - 1s 11us/sample - loss: 0.0471 - accuracy: 0.9882 - val_loss: 0.0949 - val_accuracy: 0.9732\n",
      "Epoch 102/200\n",
      "48000/48000 [==============================] - 1s 11us/sample - loss: 0.0464 - accuracy: 0.9886 - val_loss: 0.0950 - val_accuracy: 0.9732\n",
      "Epoch 103/200\n",
      "48000/48000 [==============================] - 1s 11us/sample - loss: 0.0459 - accuracy: 0.9884 - val_loss: 0.0944 - val_accuracy: 0.9730\n",
      "Epoch 104/200\n",
      "48000/48000 [==============================] - 1s 11us/sample - loss: 0.0453 - accuracy: 0.9886 - val_loss: 0.0942 - val_accuracy: 0.9729\n",
      "Epoch 105/200\n",
      "48000/48000 [==============================] - 1s 11us/sample - loss: 0.0447 - accuracy: 0.9890 - val_loss: 0.0938 - val_accuracy: 0.9733\n",
      "Epoch 106/200\n",
      "48000/48000 [==============================] - 1s 11us/sample - loss: 0.0442 - accuracy: 0.9891 - val_loss: 0.0927 - val_accuracy: 0.9738\n",
      "Epoch 107/200\n",
      "48000/48000 [==============================] - 1s 11us/sample - loss: 0.0436 - accuracy: 0.9894 - val_loss: 0.0929 - val_accuracy: 0.9734\n",
      "Epoch 108/200\n",
      "48000/48000 [==============================] - 1s 11us/sample - loss: 0.0430 - accuracy: 0.9895 - val_loss: 0.0930 - val_accuracy: 0.9735\n",
      "Epoch 109/200\n"
     ]
    },
    {
     "name": "stdout",
     "output_type": "stream",
     "text": [
      "48000/48000 [==============================] - 1s 11us/sample - loss: 0.0425 - accuracy: 0.9897 - val_loss: 0.0931 - val_accuracy: 0.9744\n",
      "Epoch 110/200\n",
      "48000/48000 [==============================] - 1s 11us/sample - loss: 0.0420 - accuracy: 0.9900 - val_loss: 0.0927 - val_accuracy: 0.9737\n",
      "Epoch 111/200\n",
      "48000/48000 [==============================] - 1s 11us/sample - loss: 0.0414 - accuracy: 0.9897 - val_loss: 0.0922 - val_accuracy: 0.9740\n",
      "Epoch 112/200\n",
      "48000/48000 [==============================] - 1s 10us/sample - loss: 0.0409 - accuracy: 0.9900 - val_loss: 0.0930 - val_accuracy: 0.9738\n",
      "Epoch 113/200\n",
      "48000/48000 [==============================] - 1s 11us/sample - loss: 0.0405 - accuracy: 0.9901 - val_loss: 0.0920 - val_accuracy: 0.9737\n",
      "Epoch 114/200\n",
      "48000/48000 [==============================] - 0s 10us/sample - loss: 0.0399 - accuracy: 0.9904 - val_loss: 0.0920 - val_accuracy: 0.9734\n",
      "Epoch 115/200\n",
      "48000/48000 [==============================] - 1s 11us/sample - loss: 0.0394 - accuracy: 0.9908 - val_loss: 0.0924 - val_accuracy: 0.9739\n",
      "Epoch 116/200\n",
      "48000/48000 [==============================] - 1s 11us/sample - loss: 0.0389 - accuracy: 0.9908 - val_loss: 0.0913 - val_accuracy: 0.9737\n",
      "Epoch 117/200\n",
      "48000/48000 [==============================] - 0s 10us/sample - loss: 0.0384 - accuracy: 0.9906 - val_loss: 0.0915 - val_accuracy: 0.9738\n",
      "Epoch 118/200\n",
      "48000/48000 [==============================] - 1s 10us/sample - loss: 0.0381 - accuracy: 0.9910 - val_loss: 0.0920 - val_accuracy: 0.9736\n",
      "Epoch 119/200\n",
      "48000/48000 [==============================] - 1s 11us/sample - loss: 0.0375 - accuracy: 0.9909 - val_loss: 0.0914 - val_accuracy: 0.9743\n",
      "Epoch 120/200\n",
      "48000/48000 [==============================] - 1s 11us/sample - loss: 0.0370 - accuracy: 0.9913 - val_loss: 0.0929 - val_accuracy: 0.9739\n",
      "Epoch 121/200\n",
      "48000/48000 [==============================] - 1s 11us/sample - loss: 0.0367 - accuracy: 0.9915 - val_loss: 0.0915 - val_accuracy: 0.9751\n",
      "Epoch 122/200\n",
      "48000/48000 [==============================] - 0s 10us/sample - loss: 0.0362 - accuracy: 0.9913 - val_loss: 0.0912 - val_accuracy: 0.9750\n",
      "Epoch 123/200\n",
      "48000/48000 [==============================] - 1s 11us/sample - loss: 0.0357 - accuracy: 0.9916 - val_loss: 0.0911 - val_accuracy: 0.9751\n",
      "Epoch 124/200\n",
      "48000/48000 [==============================] - 1s 10us/sample - loss: 0.0352 - accuracy: 0.9921 - val_loss: 0.0920 - val_accuracy: 0.9746\n",
      "Epoch 125/200\n",
      "48000/48000 [==============================] - 1s 11us/sample - loss: 0.0349 - accuracy: 0.9919 - val_loss: 0.0913 - val_accuracy: 0.9753\n",
      "Epoch 126/200\n",
      "48000/48000 [==============================] - 1s 10us/sample - loss: 0.0345 - accuracy: 0.9920 - val_loss: 0.0911 - val_accuracy: 0.9749\n",
      "Epoch 127/200\n",
      "48000/48000 [==============================] - 1s 11us/sample - loss: 0.0341 - accuracy: 0.9922 - val_loss: 0.0914 - val_accuracy: 0.9748\n",
      "Epoch 128/200\n",
      "48000/48000 [==============================] - 1s 11us/sample - loss: 0.0337 - accuracy: 0.9923 - val_loss: 0.0914 - val_accuracy: 0.9753\n",
      "Epoch 129/200\n",
      "48000/48000 [==============================] - 1s 11us/sample - loss: 0.0332 - accuracy: 0.9927 - val_loss: 0.0908 - val_accuracy: 0.9753\n",
      "Epoch 130/200\n",
      "48000/48000 [==============================] - 1s 11us/sample - loss: 0.0328 - accuracy: 0.9927 - val_loss: 0.0915 - val_accuracy: 0.9739\n",
      "Epoch 131/200\n",
      "48000/48000 [==============================] - 1s 11us/sample - loss: 0.0325 - accuracy: 0.9929 - val_loss: 0.0905 - val_accuracy: 0.9753\n",
      "Epoch 132/200\n",
      "48000/48000 [==============================] - 1s 11us/sample - loss: 0.0321 - accuracy: 0.9930 - val_loss: 0.0909 - val_accuracy: 0.9743\n",
      "Epoch 133/200\n",
      "48000/48000 [==============================] - 1s 11us/sample - loss: 0.0317 - accuracy: 0.9931 - val_loss: 0.0903 - val_accuracy: 0.9752\n",
      "Epoch 134/200\n",
      "48000/48000 [==============================] - 1s 10us/sample - loss: 0.0313 - accuracy: 0.9930 - val_loss: 0.0901 - val_accuracy: 0.9753\n",
      "Epoch 135/200\n",
      "48000/48000 [==============================] - 1s 11us/sample - loss: 0.0310 - accuracy: 0.9933 - val_loss: 0.0904 - val_accuracy: 0.9750\n",
      "Epoch 136/200\n",
      "48000/48000 [==============================] - 1s 11us/sample - loss: 0.0307 - accuracy: 0.9937 - val_loss: 0.0900 - val_accuracy: 0.9754\n",
      "Epoch 137/200\n",
      "48000/48000 [==============================] - 1s 11us/sample - loss: 0.0302 - accuracy: 0.9936 - val_loss: 0.0899 - val_accuracy: 0.9758\n",
      "Epoch 138/200\n",
      "48000/48000 [==============================] - 1s 11us/sample - loss: 0.0299 - accuracy: 0.9937 - val_loss: 0.0904 - val_accuracy: 0.9752\n",
      "Epoch 139/200\n",
      "48000/48000 [==============================] - 1s 11us/sample - loss: 0.0295 - accuracy: 0.9941 - val_loss: 0.0899 - val_accuracy: 0.9758\n",
      "Epoch 140/200\n",
      "48000/48000 [==============================] - 1s 11us/sample - loss: 0.0292 - accuracy: 0.9941 - val_loss: 0.0907 - val_accuracy: 0.9751\n",
      "Epoch 141/200\n",
      "48000/48000 [==============================] - 1s 11us/sample - loss: 0.0289 - accuracy: 0.9939 - val_loss: 0.0902 - val_accuracy: 0.9747\n",
      "Epoch 142/200\n",
      "48000/48000 [==============================] - 1s 11us/sample - loss: 0.0285 - accuracy: 0.9942 - val_loss: 0.0903 - val_accuracy: 0.9752\n",
      "Epoch 143/200\n",
      "48000/48000 [==============================] - 1s 11us/sample - loss: 0.0282 - accuracy: 0.9942 - val_loss: 0.0900 - val_accuracy: 0.9751\n",
      "Epoch 144/200\n",
      "48000/48000 [==============================] - 1s 11us/sample - loss: 0.0279 - accuracy: 0.9944 - val_loss: 0.0898 - val_accuracy: 0.9753\n",
      "Epoch 145/200\n",
      "48000/48000 [==============================] - 1s 11us/sample - loss: 0.0276 - accuracy: 0.9943 - val_loss: 0.0910 - val_accuracy: 0.9754\n",
      "Epoch 146/200\n",
      "48000/48000 [==============================] - 1s 11us/sample - loss: 0.0272 - accuracy: 0.9945 - val_loss: 0.0902 - val_accuracy: 0.9757\n",
      "Epoch 147/200\n",
      "48000/48000 [==============================] - 1s 11us/sample - loss: 0.0269 - accuracy: 0.9947 - val_loss: 0.0898 - val_accuracy: 0.9755\n",
      "Epoch 148/200\n",
      "48000/48000 [==============================] - 1s 11us/sample - loss: 0.0265 - accuracy: 0.9948 - val_loss: 0.0896 - val_accuracy: 0.9750\n",
      "Epoch 149/200\n",
      "48000/48000 [==============================] - 1s 10us/sample - loss: 0.0264 - accuracy: 0.9947 - val_loss: 0.0898 - val_accuracy: 0.9751\n",
      "Epoch 150/200\n",
      "48000/48000 [==============================] - 1s 11us/sample - loss: 0.0261 - accuracy: 0.9950 - val_loss: 0.0897 - val_accuracy: 0.9751\n",
      "Epoch 151/200\n",
      "48000/48000 [==============================] - 1s 10us/sample - loss: 0.0256 - accuracy: 0.9950 - val_loss: 0.0898 - val_accuracy: 0.9754\n",
      "Epoch 152/200\n",
      "48000/48000 [==============================] - 1s 11us/sample - loss: 0.0254 - accuracy: 0.9952 - val_loss: 0.0901 - val_accuracy: 0.9760\n",
      "Epoch 153/200\n",
      "48000/48000 [==============================] - 0s 10us/sample - loss: 0.0251 - accuracy: 0.9952 - val_loss: 0.0897 - val_accuracy: 0.9758\n",
      "Epoch 154/200\n",
      "48000/48000 [==============================] - 1s 11us/sample - loss: 0.0249 - accuracy: 0.9952 - val_loss: 0.0898 - val_accuracy: 0.9751\n",
      "Epoch 155/200\n",
      "48000/48000 [==============================] - 1s 10us/sample - loss: 0.0245 - accuracy: 0.9954 - val_loss: 0.0899 - val_accuracy: 0.9753\n",
      "Epoch 156/200\n",
      "48000/48000 [==============================] - 1s 11us/sample - loss: 0.0243 - accuracy: 0.9954 - val_loss: 0.0905 - val_accuracy: 0.9752\n",
      "Epoch 157/200\n",
      "48000/48000 [==============================] - 1s 11us/sample - loss: 0.0241 - accuracy: 0.9954 - val_loss: 0.0903 - val_accuracy: 0.9754\n",
      "Epoch 158/200\n",
      "48000/48000 [==============================] - 1s 11us/sample - loss: 0.0237 - accuracy: 0.9955 - val_loss: 0.0900 - val_accuracy: 0.9763\n",
      "Epoch 159/200\n",
      "48000/48000 [==============================] - 1s 11us/sample - loss: 0.0234 - accuracy: 0.9960 - val_loss: 0.0905 - val_accuracy: 0.9757\n",
      "Epoch 160/200\n",
      "48000/48000 [==============================] - 1s 11us/sample - loss: 0.0233 - accuracy: 0.9956 - val_loss: 0.0899 - val_accuracy: 0.9760\n",
      "Epoch 161/200\n",
      "48000/48000 [==============================] - 1s 10us/sample - loss: 0.0229 - accuracy: 0.9959 - val_loss: 0.0898 - val_accuracy: 0.9755\n",
      "Epoch 162/200\n",
      "48000/48000 [==============================] - 1s 11us/sample - loss: 0.0227 - accuracy: 0.9959 - val_loss: 0.0908 - val_accuracy: 0.9748\n"
     ]
    },
    {
     "name": "stdout",
     "output_type": "stream",
     "text": [
      "Epoch 163/200\n",
      "48000/48000 [==============================] - 1s 11us/sample - loss: 0.0224 - accuracy: 0.9960 - val_loss: 0.0897 - val_accuracy: 0.9751\n",
      "Epoch 164/200\n",
      "48000/48000 [==============================] - 1s 11us/sample - loss: 0.0222 - accuracy: 0.9959 - val_loss: 0.0897 - val_accuracy: 0.9752\n",
      "Epoch 165/200\n",
      "48000/48000 [==============================] - 0s 10us/sample - loss: 0.0220 - accuracy: 0.9960 - val_loss: 0.0901 - val_accuracy: 0.9758\n",
      "Epoch 166/200\n",
      "48000/48000 [==============================] - 1s 10us/sample - loss: 0.0217 - accuracy: 0.9962 - val_loss: 0.0899 - val_accuracy: 0.9758\n",
      "Epoch 167/200\n",
      "48000/48000 [==============================] - 0s 10us/sample - loss: 0.0215 - accuracy: 0.9962 - val_loss: 0.0898 - val_accuracy: 0.9760\n",
      "Epoch 168/200\n",
      "48000/48000 [==============================] - 1s 11us/sample - loss: 0.0212 - accuracy: 0.9963 - val_loss: 0.0904 - val_accuracy: 0.9757\n",
      "Epoch 169/200\n",
      "48000/48000 [==============================] - 0s 10us/sample - loss: 0.0210 - accuracy: 0.9965 - val_loss: 0.0898 - val_accuracy: 0.9762\n",
      "Epoch 170/200\n",
      "48000/48000 [==============================] - 1s 11us/sample - loss: 0.0208 - accuracy: 0.9964 - val_loss: 0.0910 - val_accuracy: 0.9759\n",
      "Epoch 171/200\n",
      "48000/48000 [==============================] - 0s 10us/sample - loss: 0.0206 - accuracy: 0.9964 - val_loss: 0.0897 - val_accuracy: 0.9762\n",
      "Epoch 172/200\n",
      "48000/48000 [==============================] - 1s 11us/sample - loss: 0.0203 - accuracy: 0.9966 - val_loss: 0.0899 - val_accuracy: 0.9758\n",
      "Epoch 173/200\n",
      "48000/48000 [==============================] - 1s 11us/sample - loss: 0.0201 - accuracy: 0.9967 - val_loss: 0.0898 - val_accuracy: 0.9757\n",
      "Epoch 174/200\n",
      "48000/48000 [==============================] - 1s 10us/sample - loss: 0.0198 - accuracy: 0.9967 - val_loss: 0.0907 - val_accuracy: 0.9758\n",
      "Epoch 175/200\n",
      "48000/48000 [==============================] - 0s 10us/sample - loss: 0.0196 - accuracy: 0.9967 - val_loss: 0.0904 - val_accuracy: 0.9761\n",
      "Epoch 176/200\n",
      "48000/48000 [==============================] - 1s 11us/sample - loss: 0.0194 - accuracy: 0.9968 - val_loss: 0.0901 - val_accuracy: 0.9756\n",
      "Epoch 177/200\n",
      "48000/48000 [==============================] - 1s 10us/sample - loss: 0.0192 - accuracy: 0.9968 - val_loss: 0.0903 - val_accuracy: 0.9754\n",
      "Epoch 178/200\n",
      "48000/48000 [==============================] - 1s 10us/sample - loss: 0.0191 - accuracy: 0.9970 - val_loss: 0.0902 - val_accuracy: 0.9757\n",
      "Epoch 179/200\n",
      "48000/48000 [==============================] - 0s 10us/sample - loss: 0.0188 - accuracy: 0.9970 - val_loss: 0.0903 - val_accuracy: 0.9759\n",
      "Epoch 180/200\n",
      "48000/48000 [==============================] - 1s 11us/sample - loss: 0.0186 - accuracy: 0.9973 - val_loss: 0.0904 - val_accuracy: 0.9754\n",
      "Epoch 181/200\n",
      "48000/48000 [==============================] - 0s 10us/sample - loss: 0.0184 - accuracy: 0.9971 - val_loss: 0.0902 - val_accuracy: 0.9762\n",
      "Epoch 182/200\n",
      "48000/48000 [==============================] - 1s 11us/sample - loss: 0.0182 - accuracy: 0.9972 - val_loss: 0.0912 - val_accuracy: 0.9752\n",
      "Epoch 183/200\n",
      "48000/48000 [==============================] - 0s 10us/sample - loss: 0.0180 - accuracy: 0.9972 - val_loss: 0.0904 - val_accuracy: 0.9762\n",
      "Epoch 184/200\n",
      "48000/48000 [==============================] - 1s 11us/sample - loss: 0.0178 - accuracy: 0.9973 - val_loss: 0.0903 - val_accuracy: 0.9760\n",
      "Epoch 185/200\n",
      "48000/48000 [==============================] - 1s 11us/sample - loss: 0.0176 - accuracy: 0.9973 - val_loss: 0.0909 - val_accuracy: 0.9756\n",
      "Epoch 186/200\n",
      "48000/48000 [==============================] - 1s 11us/sample - loss: 0.0175 - accuracy: 0.9973 - val_loss: 0.0904 - val_accuracy: 0.9760\n",
      "Epoch 187/200\n",
      "48000/48000 [==============================] - 0s 10us/sample - loss: 0.0173 - accuracy: 0.9974 - val_loss: 0.0907 - val_accuracy: 0.9762\n",
      "Epoch 188/200\n",
      "48000/48000 [==============================] - 1s 10us/sample - loss: 0.0171 - accuracy: 0.9973 - val_loss: 0.0906 - val_accuracy: 0.9760\n",
      "Epoch 189/200\n",
      "48000/48000 [==============================] - 0s 10us/sample - loss: 0.0168 - accuracy: 0.9976 - val_loss: 0.0905 - val_accuracy: 0.9759\n",
      "Epoch 190/200\n",
      "48000/48000 [==============================] - 1s 10us/sample - loss: 0.0167 - accuracy: 0.9976 - val_loss: 0.0907 - val_accuracy: 0.9761\n",
      "Epoch 191/200\n",
      "48000/48000 [==============================] - 0s 10us/sample - loss: 0.0165 - accuracy: 0.9975 - val_loss: 0.0904 - val_accuracy: 0.9759\n",
      "Epoch 192/200\n",
      "48000/48000 [==============================] - 1s 11us/sample - loss: 0.0164 - accuracy: 0.9977 - val_loss: 0.0905 - val_accuracy: 0.9762\n",
      "Epoch 193/200\n",
      "48000/48000 [==============================] - 1s 11us/sample - loss: 0.0162 - accuracy: 0.9980 - val_loss: 0.0909 - val_accuracy: 0.9758\n",
      "Epoch 194/200\n",
      "48000/48000 [==============================] - 1s 10us/sample - loss: 0.0160 - accuracy: 0.9977 - val_loss: 0.0914 - val_accuracy: 0.9758\n",
      "Epoch 195/200\n",
      "48000/48000 [==============================] - 1s 11us/sample - loss: 0.0159 - accuracy: 0.9978 - val_loss: 0.0916 - val_accuracy: 0.9761\n",
      "Epoch 196/200\n",
      "48000/48000 [==============================] - 1s 10us/sample - loss: 0.0157 - accuracy: 0.9977 - val_loss: 0.0914 - val_accuracy: 0.9758\n",
      "Epoch 197/200\n",
      "48000/48000 [==============================] - 1s 11us/sample - loss: 0.0155 - accuracy: 0.9979 - val_loss: 0.0909 - val_accuracy: 0.9762\n",
      "Epoch 198/200\n",
      "48000/48000 [==============================] - 1s 11us/sample - loss: 0.0153 - accuracy: 0.9980 - val_loss: 0.0911 - val_accuracy: 0.9757\n",
      "Epoch 199/200\n",
      "48000/48000 [==============================] - 1s 11us/sample - loss: 0.0152 - accuracy: 0.9979 - val_loss: 0.0912 - val_accuracy: 0.9756\n",
      "Epoch 200/200\n",
      "48000/48000 [==============================] - 1s 10us/sample - loss: 0.0151 - accuracy: 0.9980 - val_loss: 0.0910 - val_accuracy: 0.9758\n"
     ]
    },
    {
     "data": {
      "text/plain": [
       "<tensorflow.python.keras.callbacks.History at 0x1f99db7b3c8>"
      ]
     },
     "execution_count": 14,
     "metadata": {},
     "output_type": "execute_result"
    }
   ],
   "source": [
    "# 모델 훈련\n",
    "model.fit(x_train, y_train, \n",
    "          batch_size = batch_size, \n",
    "          epochs = epochs, \n",
    "         verbose = verbose, \n",
    "         validation_split =  validation_split)"
   ]
  },
  {
   "cell_type": "code",
   "execution_count": 15,
   "metadata": {},
   "outputs": [
    {
     "name": "stdout",
     "output_type": "stream",
     "text": [
      "10000/10000 [==============================] - 0s 17us/sample - loss: 0.0819 - accuracy: 0.9771\n",
      "Test accuracy :  0.9771\n"
     ]
    }
   ],
   "source": [
    "# 모델 평가\n",
    "test_loss, test_acc = model.evaluate(x_test, y_test)\n",
    "print('Test accuracy : ',test_acc)"
   ]
  },
  {
   "cell_type": "markdown",
   "metadata": {},
   "source": [
    "### 정확도 97% 로 92%에서 개선됐음을 볼 수 있음"
   ]
  }
 ],
 "metadata": {
  "kernelspec": {
   "display_name": "Python 3",
   "language": "python",
   "name": "python3"
  },
  "language_info": {
   "codemirror_mode": {
    "name": "ipython",
    "version": 3
   },
   "file_extension": ".py",
   "mimetype": "text/x-python",
   "name": "python",
   "nbconvert_exporter": "python",
   "pygments_lexer": "ipython3",
   "version": "3.7.7"
  }
 },
 "nbformat": 4,
 "nbformat_minor": 4
}
