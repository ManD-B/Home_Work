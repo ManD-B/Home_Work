{
 "cells": [
  {
   "cell_type": "markdown",
   "metadata": {},
   "source": [
    "# 오토그래프 사용법"
   ]
  },
  {
   "cell_type": "code",
   "execution_count": 1,
   "metadata": {},
   "outputs": [],
   "source": [
    "import tensorflow as tf"
   ]
  },
  {
   "cell_type": "code",
   "execution_count": 2,
   "metadata": {},
   "outputs": [],
   "source": [
    "def linear_layer(x):\n",
    "    return 3 * x + 2"
   ]
  },
  {
   "cell_type": "code",
   "execution_count": 5,
   "metadata": {},
   "outputs": [],
   "source": [
    "# 텐서플로 내부와 상호작용하는 특수 핸들러\n",
    "def simple_nn(x):\n",
    "    return tf.nn.relu(linear_layer(x))"
   ]
  },
  {
   "cell_type": "code",
   "execution_count": 6,
   "metadata": {},
   "outputs": [],
   "source": [
    "# 일반 파이썬 핸들러\n",
    "def simple_function(x):\n",
    "    return 3 * x"
   ]
  },
  {
   "cell_type": "code",
   "execution_count": 15,
   "metadata": {
    "scrolled": true
   },
   "outputs": [],
   "source": [
    "# 이 코드는 다음과 같은 자동으로 생성된 코드를 출력할 것임\n",
    "# print(tf.autograph.to_code(simple_nn.python_function, experimental_optional_features = None))"
   ]
  },
  {
   "cell_type": "code",
   "execution_count": 12,
   "metadata": {},
   "outputs": [],
   "source": [
    "from __future__ import print_function\n",
    "\n",
    "def tf__simple_nn(x):\n",
    "    do_return = False\n",
    "    retval_ = None\n",
    "    do_return = True\n",
    "    retval_ = ag__.converted_call('relu', tf.nn, ag__.ConversionOptions\n",
    "                                  (recursive = True, verbose = 0, strip_decorators = \n",
    "                                   (ag__.convert, ag__.do_not_convert, ag__.converted_call),\n",
    "                                  force_conversion = False, optional_features = (),\n",
    "                                   internal_convert_user_code = True), (linear_layer(x), ), {})\n",
    "    return retval_\n",
    "tf__simple_nn.autograph_info__ = {}"
   ]
  }
 ],
 "metadata": {
  "kernelspec": {
   "display_name": "Python 3",
   "language": "python",
   "name": "python3"
  },
  "language_info": {
   "codemirror_mode": {
    "name": "ipython",
    "version": 3
   },
   "file_extension": ".py",
   "mimetype": "text/x-python",
   "name": "python",
   "nbconvert_exporter": "python",
   "pygments_lexer": "ipython3",
   "version": "3.7.7"
  }
 },
 "nbformat": 4,
 "nbformat_minor": 4
}
